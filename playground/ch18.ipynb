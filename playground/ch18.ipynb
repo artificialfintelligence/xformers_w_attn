{
 "cells": [
  {
   "cell_type": "markdown",
   "id": "0d8e7edd-519e-4344-8d27-5741267db1ee",
   "metadata": {},
   "source": [
    "# Implementing the Transformer Decoder in Keras"
   ]
  },
  {
   "cell_type": "markdown",
   "id": "f2f29d53-a128-4239-b623-9b0b58793447",
   "metadata": {},
   "source": [
    "Here again what the decoder does is that it takes the input (target) sequence's \"raw\" embeddings and, through multiple self-attention + cross-attention layers, gradually _transforms_ them to projections that are more representative and meaningful based on overall context. This is, of course, done in parallel over all tokens all at once. (At inference we generate one token at a time, but we'll get to inference in future chapters)."
   ]
  },
  {
   "cell_type": "code",
   "execution_count": 1,
   "id": "7860ee1a-2563-4f8c-9305-ee44ff87de1c",
   "metadata": {
    "execution": {
     "iopub.execute_input": "2023-09-02T18:25:33.027137Z",
     "iopub.status.busy": "2023-09-02T18:25:33.026980Z",
     "iopub.status.idle": "2023-09-02T18:25:35.396326Z",
     "shell.execute_reply": "2023-09-02T18:25:35.396007Z",
     "shell.execute_reply.started": "2023-09-02T18:25:33.027097Z"
    },
    "tags": []
   },
   "outputs": [],
   "source": [
    "from numpy import random\n",
    "from tensorflow import shape\n",
    "from tensorflow.keras.layers import Dropout, Layer\n",
    "\n",
    "from xformer.common import AddAndNorm, FeedForward\n",
    "from xformer.multihead_attention import MultiHeadAttention\n",
    "from xformer.positional_encoding import CustomEmbeddingWithFixedPosnWts"
   ]
  },
  {
   "cell_type": "markdown",
   "id": "e8b98914-a087-4828-bb22-a24a3426cce0",
   "metadata": {},
   "source": [
    "## 18.1 Recap of the Transformer Decoder"
   ]
  },
  {
   "cell_type": "markdown",
   "id": "06fcfeaa-59fa-4524-b15b-18163fe11350",
   "metadata": {},
   "source": [
    "In NLP, typically a sequence-to-sequence model such as translation would have be an encoder+decoder transformer. Once again, the architecture of the decoder has _a lot_ in common with the encoder. Let's focus on its few differences and important details.  \n",
    "\n",
    "It has _three_ sub-layers instead of two:\n",
    "1. One multi-head self-attention with queries, keys and values coming from the embedded and positionally-encoded input sequences. This is architecturally identical to the multi-head self-attention layer in the encoder. (Just remember that the inputs come from _target_ sentences).\n",
    "2. It has an additional multi-head attention sub-layer which is _not_ self-attending. It gets its keys and values coming from the output of the transformer's encoder and it gets is queries from its own multi-head self-attention sub-layer (#1 above). We can call this one multi-head _cross_-attention if you want.\n",
    "3. As with the encoder, it has a fully-connected feed-forward sub-layer after that.  \n",
    "\n",
    "As with the encoder, each sub-layer above is followed by an \"Add-and-Norm\" layer normalization sub-layer. And just as before, regularization is performed by applying a dropout layer to the outputs of each of the above 3 sub-layers right before the normalization step, as well as to the positionally-encoded embeddings right before they are fed into the decoder."
   ]
  },
  {
   "cell_type": "markdown",
   "id": "191929c1-9ace-4c6c-a9e2-34e311dfae15",
   "metadata": {},
   "source": [
    "## 18.2 Implementing the Transformer Decoder from Scratch"
   ]
  },
  {
   "cell_type": "markdown",
   "id": "3787351f-a29d-4dd4-8f69-5b020cad8227",
   "metadata": {},
   "source": [
    "Let's just jump right into implementing it, starting by defining the `DecoderLayer` and `Decoder` classes, simililarly to how we did things for the encoder and reusing a lot of the code from before."
   ]
  },
  {
   "cell_type": "code",
   "execution_count": 2,
   "id": "3d1c187d-7cd3-44b3-8809-2f937c72b759",
   "metadata": {
    "execution": {
     "iopub.execute_input": "2023-09-02T18:25:35.397601Z",
     "iopub.status.busy": "2023-09-02T18:25:35.397406Z",
     "iopub.status.idle": "2023-09-02T18:25:35.401420Z",
     "shell.execute_reply": "2023-09-02T18:25:35.401152Z",
     "shell.execute_reply.started": "2023-09-02T18:25:35.397590Z"
    },
    "tags": []
   },
   "outputs": [],
   "source": [
    "# Implementing the Decoder Layer\n",
    "class DecoderLayer(Layer):\n",
    "    def __init__(self, n_heads, d_model, d_ff, dropout_rate, **kwargs):\n",
    "        super().__init__(**kwargs)\n",
    "        self.multihead_attention1 = MultiHeadAttention(n_heads, d_model)\n",
    "        self.dropout1 = Dropout(dropout_rate)\n",
    "        self.add_norm1 = AddAndNorm()\n",
    "        self.multihead_attention2 = MultiHeadAttention(n_heads, d_model)\n",
    "        self.dropout2 = Dropout(dropout_rate)\n",
    "        self.add_norm2 = AddAndNorm()\n",
    "        self.feed_forward = FeedForward(d_ff, d_model)\n",
    "        self.dropout3 = Dropout(dropout_rate)\n",
    "        self.add_norm3 = AddAndNorm()\n",
    "\n",
    "    def call(self, x, encoder_output, lookahead_mask, padding_mask, training):\n",
    "        # Multi-head self-attention layer\n",
    "        multihead_output1 = self.multihead_attention1(x, x, x, lookahead_mask)\n",
    "        # Expected output shape = (batch_size, sequence_length, d_model)\n",
    "\n",
    "        # Add in a dropout layer\n",
    "        multihead_output1 = self.dropout1(multihead_output1, training=training)\n",
    "\n",
    "        # Followed by an Add & Norm layer\n",
    "        addnorm_output1 = self.add_norm1(x, multihead_output1)\n",
    "        # Expected output shape = (batch_size, sequence_length, d_model)\n",
    "\n",
    "        # Followed by another multi-head (cross-)attention layer\n",
    "        multihead_output2 = self.multihead_attention2(\n",
    "            addnorm_output1, encoder_output, encoder_output, padding_mask\n",
    "        )\n",
    "\n",
    "        # Add in another dropout layer\n",
    "        multihead_output2 = self.dropout2(multihead_output2, training=training)\n",
    "\n",
    "        # Followed by another Add & Norm layer\n",
    "        addnorm_output2 = self.add_norm2(addnorm_output1, multihead_output2)\n",
    "\n",
    "        # Followed by a fully connected layer\n",
    "        feedforward_output = self.feed_forward(addnorm_output2)\n",
    "        # Expected output shape = (batch_size, sequence_length, d_model)\n",
    "        # Add in another dropout layer\n",
    "        feedforward_output = self.dropout3(\n",
    "            feedforward_output, training=training\n",
    "        )\n",
    "        # Followed by another Add & Norm layer\n",
    "        return self.add_norm3(addnorm_output2, feedforward_output)"
   ]
  },
  {
   "cell_type": "code",
   "execution_count": 3,
   "id": "3ef02f5e-1969-4b86-be52-3b0a5fbdb1e7",
   "metadata": {
    "execution": {
     "iopub.execute_input": "2023-09-02T18:25:35.401914Z",
     "iopub.status.busy": "2023-09-02T18:25:35.401827Z",
     "iopub.status.idle": "2023-09-02T18:25:35.405103Z",
     "shell.execute_reply": "2023-09-02T18:25:35.404645Z",
     "shell.execute_reply.started": "2023-09-02T18:25:35.401906Z"
    },
    "tags": []
   },
   "outputs": [],
   "source": [
    "# Implementing the Decoder\n",
    "class Decoder(Layer):\n",
    "    def __init__(\n",
    "        self,\n",
    "        vocab_size,\n",
    "        sequence_length,\n",
    "        n_heads,\n",
    "        d_model,\n",
    "        d_ff,\n",
    "        n_dec_layers,\n",
    "        dropout_rate,\n",
    "        **kwargs\n",
    "    ):\n",
    "        super().__init__(**kwargs)\n",
    "        self.wrd_emb_posn_enc = CustomEmbeddingWithFixedPosnWts(\n",
    "            sequence_length, vocab_size, d_model\n",
    "        )\n",
    "        self.dropout = Dropout(dropout_rate)\n",
    "        self.decoder_layer = [\n",
    "            DecoderLayer(n_heads, d_model, d_ff, dropout_rate)\n",
    "            for _ in range(n_dec_layers)\n",
    "        ]\n",
    "\n",
    "    def call(\n",
    "        self,\n",
    "        output_target,\n",
    "        encoder_output,\n",
    "        lookahead_mask,\n",
    "        padding_mask,\n",
    "        training,\n",
    "    ):\n",
    "        # Generate the positional encoding\n",
    "        pos_encoding_output = self.wrd_emb_posn_enc(output_target)\n",
    "        # Expected output shape = (number of sentences, sequence_length, d_model)\n",
    "        # Add in a dropout layer\n",
    "        x = self.dropout(pos_encoding_output, training=training)\n",
    "        # Pass on the positional encoded values to each encoder layer\n",
    "        for i, layer in enumerate(self.decoder_layer):\n",
    "            x = layer(x, encoder_output, lookahead_mask, padding_mask, training)\n",
    "        return x"
   ]
  },
  {
   "cell_type": "markdown",
   "id": "3bf944d6-3bd4-4dad-a8dc-8b552895f074",
   "metadata": {},
   "source": [
    "## 18.3 Testing Out the Code"
   ]
  },
  {
   "cell_type": "markdown",
   "id": "e55cfef2-6a67-47ed-8296-0f7702732bae",
   "metadata": {},
   "source": [
    "As before, let's test it out with parameter values from AIAYN. We'll use dummy data for the target sequences _and_ for our encoder output. Also we won't be using masks yet."
   ]
  },
  {
   "cell_type": "code",
   "execution_count": 4,
   "id": "5d62ab5e-2b1f-4440-8ba1-03e57140d2a7",
   "metadata": {
    "execution": {
     "iopub.execute_input": "2023-09-02T18:25:35.405743Z",
     "iopub.status.busy": "2023-09-02T18:25:35.405634Z",
     "iopub.status.idle": "2023-09-02T18:25:35.726348Z",
     "shell.execute_reply": "2023-09-02T18:25:35.726058Z",
     "shell.execute_reply.started": "2023-09-02T18:25:35.405733Z"
    },
    "tags": []
   },
   "outputs": [
    {
     "name": "stdout",
     "output_type": "stream",
     "text": [
      "tf.Tensor(\n",
      "[[[ 2.65632778e-01  5.83908439e-01  4.98553962e-01 ...  1.12144673e+00\n",
      "   -1.53967634e-01  1.60609975e-01]\n",
      "  [ 7.30716228e-01 -3.42108369e-01 -1.26837179e-01 ...  9.25339878e-01\n",
      "   -2.65245974e-01 -3.70333135e-01]\n",
      "  [ 2.45424092e-01  1.91024363e-01  7.44033277e-01 ...  1.77383578e+00\n",
      "   -2.35162377e-01 -1.34974733e-01]\n",
      "  [ 8.50745812e-02 -8.11265707e-01  1.14059997e+00 ...  1.19259405e+00\n",
      "   -3.51984292e-01  2.68602788e-01]\n",
      "  [-3.09830338e-01 -4.69095647e-01  2.17827827e-01 ...  1.51547658e+00\n",
      "   -2.23494440e-01  3.63797873e-01]]\n",
      "\n",
      " [[-7.09894598e-01  2.20272735e-01  3.57985795e-01 ...  1.66995990e+00\n",
      "   -2.37431243e-01 -3.05704385e-01]\n",
      "  [ 3.28062810e-02  1.35315359e-01  1.83365390e-01 ...  1.44155514e+00\n",
      "   -7.36752823e-02 -1.94074556e-01]\n",
      "  [-6.28580034e-01  4.34040278e-01 -2.19950806e-02 ...  1.50055146e+00\n",
      "    7.02470988e-02 -1.07978150e-01]\n",
      "  [-8.61805856e-01 -7.39439502e-02 -2.66137779e-01 ...  1.43592250e+00\n",
      "   -2.23336741e-02 -2.76437491e-01]\n",
      "  [-1.17709422e+00 -1.15025662e-01 -5.17767906e-01 ...  1.58298898e+00\n",
      "    5.74994028e-01 -1.73500672e-01]]\n",
      "\n",
      " [[ 4.89171982e-01  1.25336409e-01 -1.48198739e-01 ...  1.30017364e+00\n",
      "   -3.06508303e-01  4.95541126e-01]\n",
      "  [ 5.18310443e-02 -3.28011423e-01  6.61114573e-01 ...  9.85346377e-01\n",
      "   -1.36527434e-01  2.26978391e-01]\n",
      "  [ 2.60232747e-01 -4.29296851e-01  1.66289151e-01 ...  7.61972308e-01\n",
      "    4.80168574e-02 -2.89346606e-01]\n",
      "  [-5.42300403e-01 -3.50212812e-01  5.92450857e-01 ... -7.74722139e-04\n",
      "    8.98149014e-02 -1.77879915e-01]\n",
      "  [-2.06652477e-01 -3.19460571e-01  1.15134932e-01 ...  1.00149524e+00\n",
      "   -4.48740244e-01  3.89912248e-01]]\n",
      "\n",
      " ...\n",
      "\n",
      " [[ 2.05396023e-02 -1.82748184e-01  7.58221924e-01 ...  1.14598095e+00\n",
      "    1.83464453e-01  8.45548332e-01]\n",
      "  [-2.63031200e-02 -1.03389874e-01  3.92092764e-01 ...  1.24214625e+00\n",
      "    9.80538726e-02 -9.53310430e-01]\n",
      "  [ 6.26252651e-01  2.58979440e-01  5.93547225e-01 ...  1.62355936e+00\n",
      "    2.83348411e-01  2.94947654e-01]\n",
      "  [ 3.97359103e-01 -5.04886866e-01  3.30678165e-01 ...  7.05591321e-01\n",
      "   -1.87647358e-01  3.59521449e-01]\n",
      "  [ 8.12947676e-02  2.00794950e-01 -2.91176409e-01 ...  1.35611367e+00\n",
      "    5.34413636e-01 -1.49951950e-01]]\n",
      "\n",
      " [[-9.90698263e-02 -8.15290511e-01  4.34105664e-01 ...  2.12467074e+00\n",
      "   -7.12698340e-01  3.11557259e-02]\n",
      "  [-1.83420718e-01 -3.13158542e-01  5.79337597e-01 ...  1.18404722e+00\n",
      "   -5.66651106e-01  6.69900775e-01]\n",
      "  [-3.65980119e-01 -3.90310407e-01  6.54608727e-01 ...  1.52280331e+00\n",
      "   -7.20719814e-01 -1.14014797e-01]\n",
      "  [-6.58530116e-01 -5.16829371e-01  6.76884353e-01 ...  1.37793267e+00\n",
      "    1.36675060e-01  2.91044712e-01]\n",
      "  [-5.97415149e-01 -1.02065885e+00  4.97184515e-01 ...  1.97818148e+00\n",
      "    9.17094126e-02  9.51095372e-02]]\n",
      "\n",
      " [[-7.16097474e-01 -1.07099915e+00 -2.79204428e-01 ...  9.60948944e-01\n",
      "    1.06394045e-01 -1.58046961e-01]\n",
      "  [-2.00783670e-01 -6.31390333e-01 -1.57818437e-01 ...  9.18757975e-01\n",
      "   -6.25323176e-01 -5.32224894e-01]\n",
      "  [ 6.17944375e-02 -1.19217706e+00  3.36510628e-01 ...  1.51860893e+00\n",
      "   -5.79695404e-01  3.93716127e-01]\n",
      "  [-9.37675357e-01 -6.75865352e-01 -9.66254771e-02 ...  1.18898916e+00\n",
      "   -9.18048203e-01 -2.85384059e-01]\n",
      "  [-6.79713428e-01 -8.56024265e-01  4.92543370e-01 ...  1.23039460e+00\n",
      "    7.05632791e-02 -6.69974506e-01]]], shape=(64, 5, 512), dtype=float32)\n"
     ]
    }
   ],
   "source": [
    "h = 8  # Number of self-attention heads\n",
    "d_ff = 2048  # Dimensionality of the inner fully-connected layer\n",
    "d_model = 512  # Dimensionality of the model\n",
    "n = 6  # Number of layers in the encoder stack\n",
    "\n",
    "batch_size = 64  # Batch size from the training process\n",
    "dropout_rate = 0.1  # Frequency of dropping the input units in dropout layers\n",
    "\n",
    "dec_vocab_size = 20  # Vocabulary size for the decoder\n",
    "input_seq_length = 5  # Maximum length of the input sequence\n",
    "input_seq = random.random((batch_size, input_seq_length))\n",
    "enc_output = random.random((batch_size, input_seq_length, d_model))\n",
    "\n",
    "decoder = Decoder(\n",
    "    dec_vocab_size, input_seq_length, h, d_model, d_ff, n, dropout_rate\n",
    ")\n",
    "\n",
    "print(decoder(input_seq, enc_output, None, None, True))"
   ]
  }
 ],
 "metadata": {
  "kernelspec": {
   "display_name": "Python 3 (ipykernel)",
   "language": "python",
   "name": "python3"
  },
  "language_info": {
   "codemirror_mode": {
    "name": "ipython",
    "version": 3
   },
   "file_extension": ".py",
   "mimetype": "text/x-python",
   "name": "python",
   "nbconvert_exporter": "python",
   "pygments_lexer": "ipython3",
   "version": "3.10.6"
  }
 },
 "nbformat": 4,
 "nbformat_minor": 5
}

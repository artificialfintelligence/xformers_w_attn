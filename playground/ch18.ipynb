{
 "cells": [
  {
   "cell_type": "markdown",
   "id": "0d8e7edd-519e-4344-8d27-5741267db1ee",
   "metadata": {},
   "source": [
    "# Implementing the Transformer Decoder in Keras"
   ]
  },
  {
   "cell_type": "markdown",
   "id": "f2f29d53-a128-4239-b623-9b0b58793447",
   "metadata": {},
   "source": [
    "Here again what the decoder does is that it takes the input (target) sequence's \"raw\" embeddings and, through multiple self-attention + cross-attention layers, gradually _transforms_ them to projections that are more representative and meaningful based on overall context. This is, of course, done in parallel over all tokens all at once. (At inference we generate one token at a time, but we'll get to inference in future chapters)."
   ]
  },
  {
   "cell_type": "code",
   "execution_count": 1,
   "id": "7860ee1a-2563-4f8c-9305-ee44ff87de1c",
   "metadata": {
    "execution": {
     "iopub.execute_input": "2023-09-01T00:11:41.342816Z",
     "iopub.status.busy": "2023-09-01T00:11:41.342558Z",
     "iopub.status.idle": "2023-09-01T00:11:43.716295Z",
     "shell.execute_reply": "2023-09-01T00:11:43.715978Z",
     "shell.execute_reply.started": "2023-09-01T00:11:41.342762Z"
    },
    "tags": []
   },
   "outputs": [],
   "source": [
    "from numpy import random\n",
    "from tensorflow import shape\n",
    "from tensorflow.keras.layers import Dropout, Layer\n",
    "\n",
    "from xformer.common import AddAndNorm, FeedForward\n",
    "from xformer.multihead_attention import MultiHeadAttention\n",
    "from xformer.positional_encoding import CustomEmbeddingWithFixedPosnWts"
   ]
  },
  {
   "cell_type": "markdown",
   "id": "e8b98914-a087-4828-bb22-a24a3426cce0",
   "metadata": {},
   "source": [
    "## 18.1 Recap of the Transformer Decoder"
   ]
  },
  {
   "cell_type": "markdown",
   "id": "06fcfeaa-59fa-4524-b15b-18163fe11350",
   "metadata": {},
   "source": [
    "In NLP, typically a sequence-to-sequence model such as translation would have be an encoder+decoder transformer. Once again, the architecture of the decoder has _a lot_ in common with the encoder. Let's focus on its few differences and important details.  \n",
    "\n",
    "It has _three_ sub-layers instead of two:\n",
    "1. One multi-head self-attention with queries, keys and values coming from the embedded and positionally-encoded input sequences. This is architecturally identical to the multi-head self-attention layer in the encoder. (Just remember that the inputs come from _target_ sentences).\n",
    "2. It has an additional multi-head attention sub-layer which is _not_ self-attending. It gets its keys and values coming from the output of the transformer's encoder and it gets is queries from its own multi-head self-attention sub-layer (#1 above). We can call this one multi-head _cross_-attention if you want.\n",
    "3. As with the encoder, it has a fully-connected feed-forward sub-layer after that.  \n",
    "\n",
    "As with the encoder, each sub-layer above is followed by an \"Add-and-Norm\" layer normalization sub-layer. And just as before, regularization is performed by applying a dropout layer to the outputs of each of the above 3 sub-layers right before the normalization step, as well as to the positionally-encoded embeddings right before they are fed into the decoder."
   ]
  },
  {
   "cell_type": "markdown",
   "id": "191929c1-9ace-4c6c-a9e2-34e311dfae15",
   "metadata": {},
   "source": [
    "## 18.2 Implementing the Transformer Decoder from Scratch"
   ]
  },
  {
   "cell_type": "markdown",
   "id": "3787351f-a29d-4dd4-8f69-5b020cad8227",
   "metadata": {},
   "source": [
    "Let's just jump right into implementing it, starting by defining the `DecoderLayer` and `Decoder` classes, simililarly to how we did things for the encoder and reusing a lot of the code from before."
   ]
  },
  {
   "cell_type": "code",
   "execution_count": 2,
   "id": "3d1c187d-7cd3-44b3-8809-2f937c72b759",
   "metadata": {
    "execution": {
     "iopub.execute_input": "2023-09-01T00:11:43.717522Z",
     "iopub.status.busy": "2023-09-01T00:11:43.717318Z",
     "iopub.status.idle": "2023-09-01T00:11:43.721353Z",
     "shell.execute_reply": "2023-09-01T00:11:43.721078Z",
     "shell.execute_reply.started": "2023-09-01T00:11:43.717512Z"
    },
    "tags": []
   },
   "outputs": [],
   "source": [
    "# Implementing the Decoder Layer\n",
    "class DecoderLayer(Layer):\n",
    "    def __init__(self, n_heads, d_model, d_ff, dropout_rate, **kwargs):\n",
    "        super().__init__(**kwargs)\n",
    "        self.multihead_attention1 = MultiHeadAttention(n_heads, d_model)\n",
    "        self.dropout1 = Dropout(dropout_rate)\n",
    "        self.add_norm1 = AddAndNorm()\n",
    "        self.multihead_attention2 = MultiHeadAttention(n_heads, d_model)\n",
    "        self.dropout2 = Dropout(dropout_rate)\n",
    "        self.add_norm2 = AddAndNorm()\n",
    "        self.feed_forward = FeedForward(d_ff, d_model)\n",
    "        self.dropout3 = Dropout(dropout_rate)\n",
    "        self.add_norm3 = AddAndNorm()\n",
    "\n",
    "    def call(self, x, encoder_output, lookahead_mask, padding_mask, training):\n",
    "        # Multi-head self-attention layer\n",
    "        multihead_output1 = self.multihead_attention1(x, x, x, lookahead_mask)\n",
    "        # Expected output shape = (batch_size, sequence_length, d_model)\n",
    "\n",
    "        # Add in a dropout layer\n",
    "        multihead_output1 = self.dropout1(multihead_output1, training=training)\n",
    "\n",
    "        # Followed by an Add & Norm layer\n",
    "        addnorm_output1 = self.add_norm1(x, multihead_output1)\n",
    "        # Expected output shape = (batch_size, sequence_length, d_model)\n",
    "\n",
    "        # Followed by another multi-head (cross-)attention layer\n",
    "        multihead_output2 = self.multihead_attention2(\n",
    "            addnorm_output1, encoder_output, encoder_output, padding_mask\n",
    "        )\n",
    "\n",
    "        # Add in another dropout layer\n",
    "        multihead_output2 = self.dropout2(multihead_output2, training=training)\n",
    "        \n",
    "        # Followed by another Add & Norm layer\n",
    "        addnorm_output2 = self.add_norm2(addnorm_output1, multihead_output2)\n",
    "        \n",
    "        # Followed by a fully connected layer\n",
    "        feedforward_output = self.feed_forward(addnorm_output2)\n",
    "        # Expected output shape = (batch_size, sequence_length, d_model)\n",
    "        # Add in another dropout layer\n",
    "        feedforward_output = self.dropout3(\n",
    "            feedforward_output, training=training\n",
    "        )\n",
    "        # Followed by another Add & Norm layer\n",
    "        return self.add_norm3(addnorm_output2, feedforward_output)"
   ]
  },
  {
   "cell_type": "code",
   "execution_count": 3,
   "id": "3ef02f5e-1969-4b86-be52-3b0a5fbdb1e7",
   "metadata": {
    "execution": {
     "iopub.execute_input": "2023-09-01T00:11:43.721980Z",
     "iopub.status.busy": "2023-09-01T00:11:43.721847Z",
     "iopub.status.idle": "2023-09-01T00:11:43.724926Z",
     "shell.execute_reply": "2023-09-01T00:11:43.724671Z",
     "shell.execute_reply.started": "2023-09-01T00:11:43.721971Z"
    },
    "tags": []
   },
   "outputs": [],
   "source": [
    "# Implementing the Decoder\n",
    "class Decoder(Layer):\n",
    "    def __init__(\n",
    "        self,\n",
    "        vocab_size,\n",
    "        sequence_length,\n",
    "        n_heads,\n",
    "        d_model,\n",
    "        d_ff,\n",
    "        n,\n",
    "        dropout_rate,\n",
    "        **kwargs\n",
    "    ):\n",
    "        super().__init__(**kwargs)\n",
    "        self.pos_encoding = CustomEmbeddingWithFixedPosnWts(\n",
    "            sequence_length, vocab_size, d_model\n",
    "        )\n",
    "        self.dropout = Dropout(dropout_rate)\n",
    "        self.decoder_layer = [\n",
    "            DecoderLayer(n_heads, d_model, d_ff, dropout_rate) for _ in range(n)\n",
    "        ]\n",
    "\n",
    "    def call(\n",
    "        self,\n",
    "        output_target,\n",
    "        encoder_output,\n",
    "        lookahead_mask,\n",
    "        padding_mask,\n",
    "        training,\n",
    "    ):\n",
    "        # Generate the positional encoding\n",
    "        pos_encoding_output = self.pos_encoding(output_target)\n",
    "        # Expected output shape = (number of sentences, sequence_length, d_model)\n",
    "        # Add in a dropout layer\n",
    "        x = self.dropout(pos_encoding_output, training=training)\n",
    "        # Pass on the positional encoded values to each encoder layer\n",
    "        for i, layer in enumerate(self.decoder_layer):\n",
    "            x = layer(x, encoder_output, lookahead_mask, padding_mask, training)\n",
    "        return x"
   ]
  },
  {
   "cell_type": "markdown",
   "id": "3bf944d6-3bd4-4dad-a8dc-8b552895f074",
   "metadata": {},
   "source": [
    "## 18.3 Testing Out the Code"
   ]
  },
  {
   "cell_type": "markdown",
   "id": "e55cfef2-6a67-47ed-8296-0f7702732bae",
   "metadata": {},
   "source": [
    "As before, let's test it out with parameter values from AIAYN. We'll use dummy data for the target sequences _and_ for our encoder output. Also we won't be using masks yet."
   ]
  },
  {
   "cell_type": "code",
   "execution_count": 4,
   "id": "5d62ab5e-2b1f-4440-8ba1-03e57140d2a7",
   "metadata": {
    "execution": {
     "iopub.execute_input": "2023-09-01T00:11:43.725418Z",
     "iopub.status.busy": "2023-09-01T00:11:43.725332Z",
     "iopub.status.idle": "2023-09-01T00:11:44.024697Z",
     "shell.execute_reply": "2023-09-01T00:11:44.024404Z",
     "shell.execute_reply.started": "2023-09-01T00:11:43.725410Z"
    },
    "tags": []
   },
   "outputs": [
    {
     "name": "stdout",
     "output_type": "stream",
     "text": [
      "tf.Tensor(\n",
      "[[[-1.091551    0.5167615   1.5189791  ...  0.13476753 -0.04141628\n",
      "    0.53338975]\n",
      "  [-1.6567624   0.20429553  1.2669424  ... -0.19116628  0.27740058\n",
      "    0.4424816 ]\n",
      "  [-0.19240509  0.4964267   2.168655   ...  0.30416283  0.63593733\n",
      "    0.34734112]\n",
      "  [-0.84042555  0.07570388  1.7701573  ...  0.08968826  0.04672641\n",
      "    1.1327897 ]\n",
      "  [-1.300864    0.34656417  1.8693477  ... -0.6912628   0.24487172\n",
      "    0.01345476]]\n",
      "\n",
      " [[-1.5962428  -0.01789353  1.4801825  ...  0.1891943   0.00726201\n",
      "    0.27039957]\n",
      "  [-1.1815863  -0.04690985  1.94125    ...  0.11562945 -0.2635349\n",
      "   -0.24138254]\n",
      "  [-1.2886317  -0.4856953   1.5456611  ...  0.06169762 -0.5280251\n",
      "   -0.12688605]\n",
      "  [-1.5507399  -0.04944961  1.8819788  ...  0.59754694 -0.28177863\n",
      "   -0.8248383 ]\n",
      "  [-1.7740687  -0.96497697  1.2581016  ... -0.24477297 -0.48495072\n",
      "   -0.04392153]]\n",
      "\n",
      " [[-1.670989    0.40551654  1.5721772  ... -0.3012978  -0.11557302\n",
      "   -0.74379003]\n",
      "  [-1.5104159   0.6682517   1.7245147  ... -0.29477245 -0.04250039\n",
      "    0.53542686]\n",
      "  [-1.3730819   0.5960713   1.3803693  ... -0.41921666 -0.33455536\n",
      "   -0.62801254]\n",
      "  [-1.3333507   0.25365585  0.93388045 ... -0.3453889   0.26468647\n",
      "   -0.18775678]\n",
      "  [-1.959382    0.8412077   0.8483822  ... -0.5771879   0.37074953\n",
      "   -0.3738505 ]]\n",
      "\n",
      " ...\n",
      "\n",
      " [[-1.3806686   0.7050418   1.6282792  ... -0.51407665  0.27319267\n",
      "    0.3140136 ]\n",
      "  [-1.1733625   0.5174737   1.035562   ... -0.47461715  0.9023013\n",
      "    0.3421459 ]\n",
      "  [-1.5410538  -0.02287067  1.3611742  ... -0.21637583 -0.1307437\n",
      "   -0.14598179]\n",
      "  [-1.1741008  -0.17009482  1.2194647  ...  0.00754212  0.664611\n",
      "    0.49811718]\n",
      "  [-1.335526   -0.80028373  1.5948899  ... -0.7635126   0.08376884\n",
      "    0.26155096]]\n",
      "\n",
      " [[-1.247711   -0.07380068  1.9453431  ... -0.7276957   0.96443284\n",
      "    0.5988915 ]\n",
      "  [-1.4804139   0.5374369   1.8058867  ... -0.4112707  -0.09144254\n",
      "    0.27752036]\n",
      "  [-1.5354198   1.2035217   1.7482185  ... -0.14020276  0.33524728\n",
      "    0.19717728]\n",
      "  [-1.7728685  -0.25951993  0.54024875 ... -0.92640215  0.20210138\n",
      "    0.2476252 ]\n",
      "  [-0.8059769  -0.19290045  1.6081866  ... -1.1800239  -0.0725793\n",
      "    0.12045807]]\n",
      "\n",
      " [[-1.8731616  -0.87777257  1.7137382  ... -0.6673188   0.19242407\n",
      "    0.7798791 ]\n",
      "  [-1.2186345   0.27103943  1.1592826  ... -0.07318098  0.01918678\n",
      "   -0.4861195 ]\n",
      "  [-1.9912285   0.00608897  1.2353013  ...  0.20124531 -0.2381384\n",
      "    1.1890787 ]\n",
      "  [-1.2548244  -0.23021702  1.4884492  ... -0.27893096 -0.08847219\n",
      "    1.1535381 ]\n",
      "  [-1.2766669  -0.09698202  1.6632452  ...  0.24786285 -0.2311321\n",
      "    1.2506485 ]]], shape=(64, 5, 512), dtype=float32)\n"
     ]
    }
   ],
   "source": [
    "h = 8  # Number of self-attention heads\n",
    "d_ff = 2048  # Dimensionality of the inner fully-connected layer\n",
    "d_model = 512  # Dimensionality of the model\n",
    "n = 6  # Number of layers in the encoder stack\n",
    "\n",
    "batch_size = 64  # Batch size from the training process\n",
    "dropout_rate = 0.1  # Frequency of dropping the input units in dropout layers\n",
    "\n",
    "dec_vocab_size = 20  # Vocabulary size for the decoder\n",
    "input_seq_length = 5  # Maximum length of the input sequence\n",
    "input_seq = random.random((batch_size, input_seq_length))\n",
    "enc_output = random.random((batch_size, input_seq_length, d_model))\n",
    "\n",
    "decoder = Decoder(\n",
    "    dec_vocab_size, input_seq_length, h, d_model, d_ff, n, dropout_rate\n",
    ")\n",
    "\n",
    "print(decoder(input_seq, enc_output, None, None, True))"
   ]
  }
 ],
 "metadata": {
  "kernelspec": {
   "display_name": "Python 3 (ipykernel)",
   "language": "python",
   "name": "python3"
  },
  "language_info": {
   "codemirror_mode": {
    "name": "ipython",
    "version": 3
   },
   "file_extension": ".py",
   "mimetype": "text/x-python",
   "name": "python",
   "nbconvert_exporter": "python",
   "pygments_lexer": "ipython3",
   "version": "3.10.6"
  }
 },
 "nbformat": 4,
 "nbformat_minor": 5
}

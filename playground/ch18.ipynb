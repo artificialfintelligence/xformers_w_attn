{
 "cells": [
  {
   "cell_type": "markdown",
   "id": "0d8e7edd-519e-4344-8d27-5741267db1ee",
   "metadata": {},
   "source": [
    "# Implementing the Transformer Decoder in Keras"
   ]
  },
  {
   "cell_type": "markdown",
   "id": "f2f29d53-a128-4239-b623-9b0b58793447",
   "metadata": {},
   "source": [
    "Here again what the decoder does is that it takes the input (target) sequence's \"raw\" embeddings and, through multiple self-attention + cross-attention layers, gradually _transforms_ them to projections that are more representative and meaningful based on overall context. This is, of course, done in parallel over all tokens all at once. (At inference we generate one token at a time, but we'll get to inference in future chapters)."
   ]
  },
  {
   "cell_type": "code",
   "execution_count": 1,
   "id": "7860ee1a-2563-4f8c-9305-ee44ff87de1c",
   "metadata": {
    "execution": {
     "iopub.execute_input": "2023-09-02T18:50:32.543565Z",
     "iopub.status.busy": "2023-09-02T18:50:32.542725Z",
     "iopub.status.idle": "2023-09-02T18:50:34.998414Z",
     "shell.execute_reply": "2023-09-02T18:50:34.998059Z",
     "shell.execute_reply.started": "2023-09-02T18:50:32.543416Z"
    },
    "tags": []
   },
   "outputs": [],
   "source": [
    "from numpy import random\n",
    "from tensorflow import shape\n",
    "from tensorflow.keras.layers import Dropout, Layer\n",
    "\n",
    "from xformer.common import AddAndNorm, FeedForward\n",
    "from xformer.multihead_attention import MultiHeadAttention\n",
    "from xformer.positional_encoding import CustomEmbeddingWithFixedPosnWts"
   ]
  },
  {
   "cell_type": "markdown",
   "id": "e8b98914-a087-4828-bb22-a24a3426cce0",
   "metadata": {},
   "source": [
    "## 18.1 Recap of the Transformer Decoder"
   ]
  },
  {
   "cell_type": "markdown",
   "id": "06fcfeaa-59fa-4524-b15b-18163fe11350",
   "metadata": {},
   "source": [
    "In NLP, typically a sequence-to-sequence model such as translation would have be an encoder+decoder transformer. Once again, the architecture of the decoder has _a lot_ in common with the encoder. Let's focus on its few differences and important details.  \n",
    "\n",
    "It has _three_ sub-layers instead of two:\n",
    "1. One multi-head self-attention with queries, keys and values coming from the embedded and positionally-encoded input sequences. This is architecturally identical to the multi-head self-attention layer in the encoder. (Just remember that the inputs come from _target_ sentences).\n",
    "2. It has an additional multi-head attention sub-layer which is _not_ self-attending. It gets its keys and values coming from the output of the transformer's encoder and it gets is queries from its own multi-head self-attention sub-layer (#1 above). We can call this one multi-head _cross_-attention if you want.\n",
    "3. As with the encoder, it has a fully-connected feed-forward sub-layer after that.  \n",
    "\n",
    "As with the encoder, each sub-layer above is followed by an \"Add-and-Norm\" layer normalization sub-layer. And just as before, regularization is performed by applying a dropout layer to the outputs of each of the above 3 sub-layers right before the normalization step, as well as to the positionally-encoded embeddings right before they are fed into the decoder."
   ]
  },
  {
   "cell_type": "markdown",
   "id": "191929c1-9ace-4c6c-a9e2-34e311dfae15",
   "metadata": {},
   "source": [
    "## 18.2 Implementing the Transformer Decoder from Scratch"
   ]
  },
  {
   "cell_type": "markdown",
   "id": "3787351f-a29d-4dd4-8f69-5b020cad8227",
   "metadata": {},
   "source": [
    "Let's just jump right into implementing it, starting by defining the `DecoderLayer` and `Decoder` classes, simililarly to how we did things for the encoder and reusing a lot of the code from before."
   ]
  },
  {
   "cell_type": "code",
   "execution_count": 2,
   "id": "3d1c187d-7cd3-44b3-8809-2f937c72b759",
   "metadata": {
    "execution": {
     "iopub.execute_input": "2023-09-02T18:50:34.999483Z",
     "iopub.status.busy": "2023-09-02T18:50:34.999278Z",
     "iopub.status.idle": "2023-09-02T18:50:35.003240Z",
     "shell.execute_reply": "2023-09-02T18:50:35.002971Z",
     "shell.execute_reply.started": "2023-09-02T18:50:34.999472Z"
    },
    "tags": []
   },
   "outputs": [],
   "source": [
    "# Implementing the Decoder Layer\n",
    "class DecoderLayer(Layer):\n",
    "    def __init__(self, n_heads, d_model, d_ff, dropout_rate, **kwargs):\n",
    "        super().__init__(**kwargs)\n",
    "        self.multihead_attention1 = MultiHeadAttention(n_heads, d_model)\n",
    "        self.dropout1 = Dropout(dropout_rate)\n",
    "        self.add_norm1 = AddAndNorm()\n",
    "        self.multihead_attention2 = MultiHeadAttention(n_heads, d_model)\n",
    "        self.dropout2 = Dropout(dropout_rate)\n",
    "        self.add_norm2 = AddAndNorm()\n",
    "        self.feed_forward = FeedForward(d_ff, d_model)\n",
    "        self.dropout3 = Dropout(dropout_rate)\n",
    "        self.add_norm3 = AddAndNorm()\n",
    "\n",
    "    def call(self, x, lookahead_mask, encoder_output, encoder_padding_mask, training):\n",
    "        # Multi-head self-attention layer\n",
    "        multihead_output1 = self.multihead_attention1(x, x, x, lookahead_mask)\n",
    "        # Expected output shape = (batch_size, sequence_length, d_model)\n",
    "\n",
    "        # Add in a dropout layer\n",
    "        multihead_output1 = self.dropout1(multihead_output1, training=training)\n",
    "\n",
    "        # Followed by an Add & Norm layer\n",
    "        addnorm_output1 = self.add_norm1(x, multihead_output1)\n",
    "        # Expected output shape = (batch_size, sequence_length, d_model)\n",
    "\n",
    "        # Followed by another multi-head (cross-)attention layer\n",
    "        multihead_output2 = self.multihead_attention2(\n",
    "            addnorm_output1, encoder_output, encoder_output, encoder_padding_mask\n",
    "        )\n",
    "\n",
    "        # Add in another dropout layer\n",
    "        multihead_output2 = self.dropout2(multihead_output2, training=training)\n",
    "\n",
    "        # Followed by another Add & Norm layer\n",
    "        addnorm_output2 = self.add_norm2(addnorm_output1, multihead_output2)\n",
    "\n",
    "        # Followed by a fully connected layer\n",
    "        feedforward_output = self.feed_forward(addnorm_output2)\n",
    "        # Expected output shape = (batch_size, sequence_length, d_model)\n",
    "        # Add in another dropout layer\n",
    "        feedforward_output = self.dropout3(\n",
    "            feedforward_output, training=training\n",
    "        )\n",
    "        # Followed by another Add & Norm layer\n",
    "        return self.add_norm3(addnorm_output2, feedforward_output)"
   ]
  },
  {
   "cell_type": "code",
   "execution_count": 3,
   "id": "3ef02f5e-1969-4b86-be52-3b0a5fbdb1e7",
   "metadata": {
    "execution": {
     "iopub.execute_input": "2023-09-02T18:50:35.003751Z",
     "iopub.status.busy": "2023-09-02T18:50:35.003664Z",
     "iopub.status.idle": "2023-09-02T18:50:35.006882Z",
     "shell.execute_reply": "2023-09-02T18:50:35.006558Z",
     "shell.execute_reply.started": "2023-09-02T18:50:35.003742Z"
    },
    "tags": []
   },
   "outputs": [],
   "source": [
    "# Implementing the Decoder\n",
    "class Decoder(Layer):\n",
    "    def __init__(\n",
    "        self,\n",
    "        vocab_size,\n",
    "        sequence_length,\n",
    "        n_heads,\n",
    "        d_model,\n",
    "        d_ff,\n",
    "        n_dec_layers,\n",
    "        dropout_rate,\n",
    "        **kwargs\n",
    "    ):\n",
    "        super().__init__(**kwargs)\n",
    "        self.wrd_emb_posn_enc = CustomEmbeddingWithFixedPosnWts(\n",
    "            sequence_length, vocab_size, d_model\n",
    "        )\n",
    "        self.dropout = Dropout(dropout_rate)\n",
    "        self.decoder_layer = [\n",
    "            DecoderLayer(n_heads, d_model, d_ff, dropout_rate)\n",
    "            for _ in range(n_dec_layers)\n",
    "        ]\n",
    "\n",
    "    def call(\n",
    "        self,\n",
    "        target_sequence,\n",
    "        lookahead_mask,\n",
    "        encoder_output,\n",
    "        encoder_padding_mask,\n",
    "        training,\n",
    "    ):\n",
    "        # Generate the positional encoding\n",
    "        pos_encoding_output = self.wrd_emb_posn_enc(target_sequence)\n",
    "        # Expected output shape = (number of sentences, sequence_length, d_model)\n",
    "        # Add in a dropout layer\n",
    "        x = self.dropout(pos_encoding_output, training=training)\n",
    "        # Pass on the positional encoded values to each encoder layer\n",
    "        for i, layer in enumerate(self.decoder_layer):\n",
    "            x = layer(x, lookahead_mask, encoder_output, encoder_padding_mask, training)\n",
    "        return x"
   ]
  },
  {
   "cell_type": "markdown",
   "id": "3bf944d6-3bd4-4dad-a8dc-8b552895f074",
   "metadata": {},
   "source": [
    "## 18.3 Testing Out the Code"
   ]
  },
  {
   "cell_type": "markdown",
   "id": "e55cfef2-6a67-47ed-8296-0f7702732bae",
   "metadata": {},
   "source": [
    "As before, let's test it out with parameter values from AIAYN. We'll use dummy data for the target sequences _and_ for our encoder output. Also we won't be using masks yet."
   ]
  },
  {
   "cell_type": "code",
   "execution_count": 5,
   "id": "5d62ab5e-2b1f-4440-8ba1-03e57140d2a7",
   "metadata": {
    "execution": {
     "iopub.execute_input": "2023-09-02T18:52:48.847759Z",
     "iopub.status.busy": "2023-09-02T18:52:48.846763Z",
     "iopub.status.idle": "2023-09-02T18:52:49.167939Z",
     "shell.execute_reply": "2023-09-02T18:52:49.167504Z",
     "shell.execute_reply.started": "2023-09-02T18:52:48.847724Z"
    },
    "tags": []
   },
   "outputs": [
    {
     "name": "stdout",
     "output_type": "stream",
     "text": [
      "tf.Tensor(\n",
      "[[[-8.2598048e-01 -1.6173053e-01  3.3324018e+00 ...  2.3628049e+00\n",
      "    4.7588381e-01  4.0246236e-01]\n",
      "  [ 1.2710889e-01 -4.0063667e-01  3.0413105e+00 ...  2.6443102e+00\n",
      "    1.1692477e-01  9.2432606e-01]\n",
      "  [ 6.5477896e-01 -4.0979478e-01  2.6779525e+00 ...  2.3136461e+00\n",
      "    9.8803163e-01  6.7036331e-01]\n",
      "  [-2.9772779e-01 -9.3412715e-01  2.9222012e+00 ...  1.8688526e+00\n",
      "    7.0343709e-01  8.1980890e-01]\n",
      "  [-1.1378692e-01 -2.8452662e-01  1.7573909e+00 ...  1.8726753e+00\n",
      "    8.8464886e-01  1.7555189e-01]]\n",
      "\n",
      " [[-9.1874218e-03 -6.5855700e-01  3.6245153e+00 ...  1.7825265e+00\n",
      "    6.5002859e-01  2.3037803e-01]\n",
      "  [ 6.8538249e-01 -6.6915894e-01  3.7835851e+00 ...  1.7818812e+00\n",
      "    8.2844245e-01  5.7019848e-01]\n",
      "  [ 8.2658291e-01  4.1048513e-03  3.9944384e+00 ...  1.0317283e+00\n",
      "    8.5510725e-01  3.9327469e-02]\n",
      "  [ 3.9483979e-01 -6.3777500e-01  3.0753524e+00 ...  1.7436596e+00\n",
      "    5.2387822e-01  5.7222742e-01]\n",
      "  [ 2.6328373e-01 -2.5644457e-01  3.3943105e+00 ...  1.9001243e+00\n",
      "    1.0858929e+00  2.1342491e-01]]\n",
      "\n",
      " [[ 7.9220986e-01  1.7897211e-01  2.6569855e+00 ...  2.5626695e+00\n",
      "   -9.7949669e-02  5.3719461e-01]\n",
      "  [ 1.1152333e+00  1.7172188e-02  2.7306278e+00 ...  1.9427606e+00\n",
      "    4.6719334e-01 -3.4072527e-01]\n",
      "  [ 5.1500392e-01 -4.4446582e-01  2.5392609e+00 ...  1.6198497e+00\n",
      "    4.2076984e-01 -2.9492693e-02]\n",
      "  [ 6.9983828e-01 -6.4972550e-01  2.9851086e+00 ...  1.5673567e+00\n",
      "    1.6846135e-01  8.9020479e-01]\n",
      "  [ 5.3200603e-01 -5.6993270e-01  2.5573835e+00 ...  1.7483422e+00\n",
      "    1.5087208e-01  4.0995067e-01]]\n",
      "\n",
      " ...\n",
      "\n",
      " [[ 2.0668669e-01 -6.4993882e-01  3.3372250e+00 ...  2.6893005e+00\n",
      "   -2.0409315e-03  1.8413705e-01]\n",
      "  [ 3.9661610e-01 -9.0981829e-01  3.5234835e+00 ...  2.1780112e+00\n",
      "   -2.1183307e-01 -9.4235659e-02]\n",
      "  [ 2.5679800e-01 -1.6325165e-01  3.7734573e+00 ...  1.5414479e+00\n",
      "    8.4790832e-01  4.6061537e-01]\n",
      "  [ 3.8524979e-01 -5.7981145e-01  1.3766048e+00 ...  1.7665328e+00\n",
      "   -3.6685359e-01  1.9991630e-01]\n",
      "  [-3.1819329e-02 -6.7098296e-01  2.9159555e+00 ...  2.3510165e+00\n",
      "    1.3187174e-01  6.8959475e-01]]\n",
      "\n",
      " [[ 1.1698372e+00 -1.9311824e-01  2.2215500e+00 ...  2.1090558e+00\n",
      "    3.2932842e-01  1.5259910e-01]\n",
      "  [ 9.7311521e-01  3.7749362e-01  3.1356146e+00 ...  2.0856564e+00\n",
      "    5.2619714e-01  1.1448947e+00]\n",
      "  [ 5.8200824e-01  1.6893281e-01  3.3811688e+00 ...  2.5269523e+00\n",
      "   -2.1277818e-01  4.4036853e-01]\n",
      "  [ 2.0730796e-01 -1.6178857e-01  3.8994288e+00 ...  1.8017440e+00\n",
      "    6.4146543e-01  7.0038915e-01]\n",
      "  [ 6.8709133e-03  4.0603027e-02  2.6261055e+00 ...  1.9265838e+00\n",
      "    4.4933051e-01  1.3885093e-01]]\n",
      "\n",
      " [[ 2.7131369e-02 -2.2128102e-01  3.2381785e+00 ...  2.6061511e+00\n",
      "    4.9528377e-03  4.3046732e-02]\n",
      "  [ 5.6570882e-01 -5.2561134e-01  2.8548751e+00 ...  1.8195280e+00\n",
      "    5.5744445e-01 -4.7739741e-01]\n",
      "  [ 4.4750401e-01 -3.2263968e-02  3.5365329e+00 ...  2.0307183e+00\n",
      "    1.9717883e-01  1.4445606e-01]\n",
      "  [ 8.8142174e-01 -4.5660597e-01  2.9318190e+00 ...  2.2475271e+00\n",
      "    1.5060069e-01  2.5040012e-02]\n",
      "  [ 2.6622048e-01 -1.0131617e+00  2.9479864e+00 ...  1.6000330e+00\n",
      "    3.8431522e-01  4.2848319e-02]]], shape=(64, 5, 512), dtype=float32)\n"
     ]
    }
   ],
   "source": [
    "h = 8  # Number of self-attention heads\n",
    "d_ff = 2048  # Dimensionality of the inner fully-connected layer\n",
    "d_model = 512  # Dimensionality of the model\n",
    "n = 6  # Number of layers in the encoder stack\n",
    "\n",
    "batch_size = 64  # Batch size from the training process\n",
    "dropout_rate = 0.1  # Frequency of dropping the input units in dropout layers\n",
    "\n",
    "dec_vocab_size = 20  # Vocabulary size for the decoder\n",
    "input_seq_length = 5  # Maximum length of the input sequence\n",
    "input_seq = random.random((batch_size, input_seq_length))\n",
    "enc_output = random.random((batch_size, input_seq_length, d_model))\n",
    "\n",
    "decoder = Decoder(\n",
    "    dec_vocab_size, input_seq_length, h, d_model, d_ff, n, dropout_rate\n",
    ")\n",
    "\n",
    "print(decoder(input_seq, None, enc_output, None, True))"
   ]
  }
 ],
 "metadata": {
  "kernelspec": {
   "display_name": "Python 3 (ipykernel)",
   "language": "python",
   "name": "python3"
  },
  "language_info": {
   "codemirror_mode": {
    "name": "ipython",
    "version": 3
   },
   "file_extension": ".py",
   "mimetype": "text/x-python",
   "name": "python",
   "nbconvert_exporter": "python",
   "pygments_lexer": "ipython3",
   "version": "3.10.6"
  }
 },
 "nbformat": 4,
 "nbformat_minor": 5
}

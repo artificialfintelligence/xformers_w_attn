{
 "cells": [
  {
   "cell_type": "markdown",
   "id": "6dccdd6a-620e-4e1c-8014-eceec10e7052",
   "metadata": {},
   "source": [
    "# 14 Transformer Positional Encoding Layer in Keras"
   ]
  },
  {
   "cell_type": "code",
   "execution_count": 1,
   "id": "8c3a3d7f-2adf-4eef-93c2-df81e2c506d7",
   "metadata": {
    "execution": {
     "iopub.execute_input": "2023-08-24T22:14:39.113808Z",
     "iopub.status.busy": "2023-08-24T22:14:39.112293Z",
     "iopub.status.idle": "2023-08-24T22:14:41.611371Z",
     "shell.execute_reply": "2023-08-24T22:14:41.611068Z",
     "shell.execute_reply.started": "2023-08-24T22:14:39.113674Z"
    },
    "tags": []
   },
   "outputs": [],
   "source": [
    "import matplotlib.pyplot as plt\n",
    "import numpy as np\n",
    "import tensorflow as tf\n",
    "from tensorflow import convert_to_tensor, string\n",
    "from tensorflow.data import Dataset\n",
    "from tensorflow.keras.layers import Embedding, Layer, TextVectorization"
   ]
  },
  {
   "cell_type": "markdown",
   "id": "0846029c-f8e7-4f5d-aaf7-41c2ab9227ed",
   "metadata": {},
   "source": [
    "## 14.1 The Text Vectorization Layer"
   ]
  },
  {
   "cell_type": "markdown",
   "id": "5a4a8085-fa2f-4dc9-9d6c-ff0b673bcbdc",
   "metadata": {},
   "source": [
    "This layer maps the (standardized/cleaned; i.e. no punctuation/noise, all lowercase) words in the sentences to a dictionary and then in turn to numbers.\n",
    "It needs the maximum vocabulary size and the required length of the output sequences as input.\n",
    "We use the `adapt()` method to generate a vocabulary."
   ]
  },
  {
   "cell_type": "code",
   "execution_count": 2,
   "id": "dc06c36c-a220-4e04-a7ca-8013c6f74619",
   "metadata": {
    "execution": {
     "iopub.execute_input": "2023-08-24T22:14:41.612425Z",
     "iopub.status.busy": "2023-08-24T22:14:41.612219Z",
     "iopub.status.idle": "2023-08-24T22:14:41.688187Z",
     "shell.execute_reply": "2023-08-24T22:14:41.687741Z",
     "shell.execute_reply.started": "2023-08-24T22:14:41.612415Z"
    },
    "tags": []
   },
   "outputs": [
    {
     "name": "stdout",
     "output_type": "stream",
     "text": [
      "Vocabulary:  ['', '[UNK]', 'robot', 'you', 'too', 'i', 'am', 'a']\n",
      "Vectorized words:  tf.Tensor(\n",
      "[[5 6 7 2 0]\n",
      " [3 4 2 0 0]], shape=(2, 5), dtype=int64)\n"
     ]
    },
    {
     "name": "stderr",
     "output_type": "stream",
     "text": [
      "2023-08-24 15:14:41.671618: W tensorflow/core/platform/profile_utils/cpu_utils.cc:128] Failed to get CPU frequency: 0 Hz\n"
     ]
    }
   ],
   "source": [
    "output_sequence_length = 5\n",
    "vocab_size = 10\n",
    "\n",
    "sentences = [[\"I am a robot\"], [\"you too robot\"]]\n",
    "sentence_data = Dataset.from_tensor_slices(sentences)\n",
    "\n",
    "# Create the TextVectorization layer\n",
    "vectorize_layer = TextVectorization(\n",
    "    output_sequence_length=output_sequence_length, max_tokens=vocab_size\n",
    ")\n",
    "\n",
    "# Train the layer to create a dictionary\n",
    "vectorize_layer.adapt(sentence_data)\n",
    "\n",
    "# Convert all sentences to tensors\n",
    "word_tensors = convert_to_tensor(sentences, dtype=tf.string)\n",
    "\n",
    "# Use the word tensors to get vectorized phrases\n",
    "vectorized_words = vectorize_layer(word_tensors)\n",
    "print(\"Vocabulary: \", vectorize_layer.get_vocabulary())\n",
    "print(\"Vectorized words: \", vectorized_words)"
   ]
  },
  {
   "cell_type": "markdown",
   "id": "e21d9319-6871-4e29-9c60-826defb57eca",
   "metadata": {
    "execution": {
     "iopub.execute_input": "2023-08-24T19:16:45.505642Z",
     "iopub.status.busy": "2023-08-24T19:16:45.504488Z",
     "iopub.status.idle": "2023-08-24T19:16:45.512183Z",
     "shell.execute_reply": "2023-08-24T19:16:45.511699Z",
     "shell.execute_reply.started": "2023-08-24T19:16:45.505607Z"
    },
    "tags": []
   },
   "source": [
    "## 14.2 The Embedding Layer"
   ]
  },
  {
   "cell_type": "markdown",
   "id": "d322c53b-2cb4-42f5-acdd-3413c35cb23e",
   "metadata": {},
   "source": [
    "### The Word Embeddings"
   ]
  },
  {
   "cell_type": "markdown",
   "id": "3b652f7e-56f5-4118-9de9-796895eac370",
   "metadata": {},
   "source": [
    "This layer maps the dictionary indices above to vectors. The vectors can be initially random numbers that are later tuned (learned) or they can be some predefined weights (i.e. reused pre-learned embeddings) which we will see later.\n",
    "This layer needs the maximum integer index value to be vectorized, as well as the desired embedding dimension length."
   ]
  },
  {
   "cell_type": "code",
   "execution_count": 3,
   "id": "7891422e-926d-4824-959d-9b22bddba34a",
   "metadata": {
    "execution": {
     "iopub.execute_input": "2023-08-24T22:14:41.688856Z",
     "iopub.status.busy": "2023-08-24T22:14:41.688731Z",
     "iopub.status.idle": "2023-08-24T22:14:41.699581Z",
     "shell.execute_reply": "2023-08-24T22:14:41.699146Z",
     "shell.execute_reply.started": "2023-08-24T22:14:41.688846Z"
    },
    "tags": []
   },
   "outputs": [
    {
     "name": "stdout",
     "output_type": "stream",
     "text": [
      "tf.Tensor(\n",
      "[[[-1.6172901e-03 -2.4350310e-02 -4.6926808e-02 -7.1148761e-03\n",
      "   -4.5362223e-02 -3.5543442e-02]\n",
      "  [-3.0565476e-02  3.7173677e-02  7.8274980e-03  3.8616408e-02\n",
      "   -1.3937555e-02 -2.8582061e-02]\n",
      "  [-2.7113020e-02  3.9754402e-02 -3.9876055e-02  1.1395015e-02\n",
      "   -4.8934221e-02 -3.7800558e-03]\n",
      "  [ 4.0603865e-02 -4.3334246e-02  2.0527769e-02  2.6370276e-02\n",
      "    3.5733748e-02 -7.7047236e-03]\n",
      "  [-1.1006817e-03  1.8714443e-03  1.5535843e-02 -4.4862092e-02\n",
      "   -1.5159547e-02 -3.3811815e-03]]\n",
      "\n",
      " [[-3.4514815e-04 -1.9406820e-02  2.1527711e-02 -4.2986125e-05\n",
      "    2.5717769e-02  1.8475320e-02]\n",
      "  [ 2.3730431e-02 -1.3247229e-02  3.6245797e-02  4.2147551e-02\n",
      "   -2.9149616e-02  8.7076426e-04]\n",
      "  [ 4.0603865e-02 -4.3334246e-02  2.0527769e-02  2.6370276e-02\n",
      "    3.5733748e-02 -7.7047236e-03]\n",
      "  [-1.1006817e-03  1.8714443e-03  1.5535843e-02 -4.4862092e-02\n",
      "   -1.5159547e-02 -3.3811815e-03]\n",
      "  [-1.1006817e-03  1.8714443e-03  1.5535843e-02 -4.4862092e-02\n",
      "   -1.5159547e-02 -3.3811815e-03]]], shape=(2, 5, 6), dtype=float32)\n"
     ]
    }
   ],
   "source": [
    "emb_length = 6\n",
    "\n",
    "word_embedding_layer = Embedding(vocab_size, emb_length)\n",
    "embedded_words = word_embedding_layer(vectorized_words)\n",
    "print(embedded_words)"
   ]
  },
  {
   "cell_type": "markdown",
   "id": "b5447b8a-a467-4a0e-a2d3-3b28d69fa28e",
   "metadata": {},
   "source": [
    "### The Position Embeddings"
   ]
  },
  {
   "cell_type": "markdown",
   "id": "d3ddea96-c74f-4be0-bbae-a696cd808960",
   "metadata": {},
   "source": [
    "Same idea as the word embeddings, only we are encoding the absolute, fixed positions (0, 1, 2, ...) to [initially] random vectors."
   ]
  },
  {
   "cell_type": "code",
   "execution_count": 4,
   "id": "4c2177e7-3cce-4018-851b-5ff962406bef",
   "metadata": {
    "execution": {
     "iopub.execute_input": "2023-08-24T22:14:41.700210Z",
     "iopub.status.busy": "2023-08-24T22:14:41.700111Z",
     "iopub.status.idle": "2023-08-24T22:14:41.708834Z",
     "shell.execute_reply": "2023-08-24T22:14:41.708489Z",
     "shell.execute_reply.started": "2023-08-24T22:14:41.700201Z"
    },
    "tags": []
   },
   "outputs": [
    {
     "name": "stdout",
     "output_type": "stream",
     "text": [
      "tf.Tensor(\n",
      "[[ 0.02700363  0.01012101 -0.00686147  0.01409799  0.03555569  0.03502781]\n",
      " [-0.02419301 -0.04798692  0.04023731 -0.02084768 -0.04355747 -0.02992003]\n",
      " [ 0.0426485   0.04733178  0.0176563  -0.04847328  0.04112876 -0.03960421]\n",
      " [ 0.0338738   0.01279635  0.02278342  0.04233417 -0.00170843 -0.01491459]\n",
      " [-0.04387764 -0.03644484 -0.02744275 -0.01016261  0.02881945 -0.02301252]], shape=(5, 6), dtype=float32)\n"
     ]
    }
   ],
   "source": [
    "position_embedding_layer = Embedding(output_sequence_length, emb_length)\n",
    "position_indices = tf.range(output_sequence_length)\n",
    "embedded_indices = position_embedding_layer(position_indices)\n",
    "print(embedded_indices)"
   ]
  },
  {
   "cell_type": "markdown",
   "id": "99386fb3-5d58-4362-b7f1-d2def979b5b6",
   "metadata": {},
   "source": [
    "### The Output of the Positional Encoding Layer in Transformers"
   ]
  },
  {
   "cell_type": "markdown",
   "id": "3c3f0445-e3ee-4f16-87c1-6ead3448b00b",
   "metadata": {},
   "source": [
    "In transformers, we add up the position encodings and word encodings (AKA embeddings), so we need to make sure they are of the same size (`emb_length` here)."
   ]
  },
  {
   "cell_type": "code",
   "execution_count": 5,
   "id": "a6706dec-1323-4ec2-8929-0172bd05a4c3",
   "metadata": {
    "execution": {
     "iopub.execute_input": "2023-08-24T22:14:41.712173Z",
     "iopub.status.busy": "2023-08-24T22:14:41.711966Z",
     "iopub.status.idle": "2023-08-24T22:14:41.716793Z",
     "shell.execute_reply": "2023-08-24T22:14:41.715970Z",
     "shell.execute_reply.started": "2023-08-24T22:14:41.712154Z"
    },
    "tags": []
   },
   "outputs": [
    {
     "name": "stdout",
     "output_type": "stream",
     "text": [
      "Final output:  tf.Tensor(\n",
      "[[[ 0.02538634 -0.0142293  -0.05378828  0.00698312 -0.00980653\n",
      "   -0.00051564]\n",
      "  [-0.05475849 -0.01081325  0.04806481  0.01776873 -0.05749502\n",
      "   -0.05850209]\n",
      "  [ 0.01553548  0.08708619 -0.02221975 -0.03707826 -0.00780546\n",
      "   -0.04338427]\n",
      "  [ 0.07447767 -0.03053789  0.04331119  0.06870444  0.03402532\n",
      "   -0.02261932]\n",
      "  [-0.04497832 -0.0345734  -0.01190691 -0.05502471  0.01365991\n",
      "   -0.0263937 ]]\n",
      "\n",
      " [[ 0.02665849 -0.00928581  0.01466624  0.01405501  0.06127346\n",
      "    0.05350313]\n",
      "  [-0.00046258 -0.06123415  0.07648311  0.02129987 -0.07270708\n",
      "   -0.02904927]\n",
      "  [ 0.08325236  0.00399754  0.03818407 -0.022103    0.07686251\n",
      "   -0.04730893]\n",
      "  [ 0.03277312  0.0146678   0.03831927 -0.00252793 -0.01686797\n",
      "   -0.01829578]\n",
      "  [-0.04497832 -0.0345734  -0.01190691 -0.05502471  0.01365991\n",
      "   -0.0263937 ]]], shape=(2, 5, 6), dtype=float32)\n"
     ]
    }
   ],
   "source": [
    "final_output_embedding = embedded_words + embedded_indices\n",
    "print(\"Final output: \", final_output_embedding)"
   ]
  },
  {
   "cell_type": "markdown",
   "id": "b00c5c42-1134-4e43-b920-41cf262c3f44",
   "metadata": {},
   "source": [
    "## 14.3 Subclassing the Keras Embedding Layer"
   ]
  },
  {
   "cell_type": "markdown",
   "id": "aac742f7-e6a5-4642-8f1f-d843f3d052cb",
   "metadata": {},
   "source": [
    "Now let's do the same thing by subclassing `Layer` in Keras, taking advantage of all the functionality it provides for free."
   ]
  },
  {
   "cell_type": "code",
   "execution_count": 6,
   "id": "26785383-a59e-4bd7-8ca1-cf5cf874e3f2",
   "metadata": {
    "execution": {
     "iopub.execute_input": "2023-08-24T22:14:41.717657Z",
     "iopub.status.busy": "2023-08-24T22:14:41.717541Z",
     "iopub.status.idle": "2023-08-24T22:14:41.722477Z",
     "shell.execute_reply": "2023-08-24T22:14:41.721859Z",
     "shell.execute_reply.started": "2023-08-24T22:14:41.717647Z"
    },
    "tags": []
   },
   "outputs": [],
   "source": [
    "class CustomEmbedding(Layer):\n",
    "    def __init__(self, seq_length, vocab_size, output_dim, **kwargs):\n",
    "        super().__init__(**kwargs)\n",
    "        self.word_embedding_layer = Embedding(\n",
    "            input_dim=vocab_size, output_dim=output_dim\n",
    "        )\n",
    "        self.position_embedding_layer = Embedding(\n",
    "            input_dim=seq_length, output_dim=output_dim\n",
    "        )\n",
    "\n",
    "    def call(self, inputs):\n",
    "        position_indices = tf.range(tf.shape(inputs)[-1])\n",
    "        embedded_words = self.word_embedding_layer(inputs)\n",
    "        embedded_indices = self.position_embedding_layer(position_indices)\n",
    "        return embedded_words + embedded_indices"
   ]
  },
  {
   "cell_type": "code",
   "execution_count": 7,
   "id": "18f71ef4-5a1f-49e9-a6ac-4a89175fc4f6",
   "metadata": {
    "execution": {
     "iopub.execute_input": "2023-08-24T22:14:41.723418Z",
     "iopub.status.busy": "2023-08-24T22:14:41.723218Z",
     "iopub.status.idle": "2023-08-24T22:14:41.731495Z",
     "shell.execute_reply": "2023-08-24T22:14:41.731018Z",
     "shell.execute_reply.started": "2023-08-24T22:14:41.723402Z"
    },
    "tags": []
   },
   "outputs": [
    {
     "name": "stdout",
     "output_type": "stream",
     "text": [
      "embedded_layer_output = <tf.Tensor: shape=(2, 5, 6), dtype=float32, numpy=\n",
      "array([[[-0.02279533, -0.03684264,  0.04430204, -0.07646132,\n",
      "         -0.00119046, -0.06025952],\n",
      "        [-0.0100867 ,  0.04146884, -0.0245834 ,  0.01881371,\n",
      "          0.03050403, -0.02851375],\n",
      "        [-0.01885891,  0.04807749,  0.02824143, -0.08227142,\n",
      "          0.03522062,  0.08295616],\n",
      "        [ 0.04761335,  0.08168048,  0.0052874 , -0.03307953,\n",
      "         -0.02813214,  0.0412189 ],\n",
      "        [ 0.06891372, -0.03475349, -0.01550976, -0.06817614,\n",
      "          0.0410574 , -0.0044678 ]],\n",
      "\n",
      "       [[ 0.02743136, -0.06091241, -0.01962829, -0.00652026,\n",
      "         -0.04578836,  0.01342759],\n",
      "        [-0.04636434,  0.05684753,  0.01269663,  0.08176479,\n",
      "          0.03272022, -0.08121005],\n",
      "        [-0.01870813,  0.06443319, -0.03734771, -0.05276624,\n",
      "          0.00883741,  0.04390946],\n",
      "        [ 0.0653016 ,  0.03595394,  0.08108145, -0.04639937,\n",
      "          0.04242576, -0.00776982],\n",
      "        [ 0.06891372, -0.03475349, -0.01550976, -0.06817614,\n",
      "          0.0410574 , -0.0044678 ]]], dtype=float32)>\n"
     ]
    }
   ],
   "source": [
    "my_embedding_layer = CustomEmbedding(\n",
    "    output_sequence_length, vocab_size, emb_length\n",
    ")\n",
    "embedded_layer_output = my_embedding_layer(vectorized_words)\n",
    "print(f\"{embedded_layer_output = }\")"
   ]
  },
  {
   "cell_type": "markdown",
   "id": "a67746a0-312b-47c4-881b-3f0f7d849489",
   "metadata": {},
   "source": [
    "But these are randomly-initialized, learnable embeddings for both positions and word vectors. But as we saw in chapter 13, the AIAYN authors have devised a smart *fixed* positional encoding scheme. Let's implement that next."
   ]
  },
  {
   "cell_type": "markdown",
   "id": "eaf647c7-4dfe-4330-94f2-4eb5782e0bce",
   "metadata": {},
   "source": [
    "## 14.4 Positional Encoding in Transformers"
   ]
  },
  {
   "cell_type": "markdown",
   "id": "f4793b39-6c0e-426f-9d62-5b70b25ac74c",
   "metadata": {},
   "source": [
    "Recall from chapter 13:\n",
    "$$\\begin{eqnarray}\n",
    "P(k, 2i) &=& \\sin\\Big(\\frac{k}{n^{2i/d}}\\Big)\\\\\n",
    "P(k, 2i+1) &=& \\cos\\Big(\\frac{k}{n^{2i/d}}\\Big)\n",
    "\\end{eqnarray}$$"
   ]
  },
  {
   "cell_type": "markdown",
   "id": "78714ad7-9230-4c19-9c3f-4a8331de7009",
   "metadata": {},
   "source": [
    "We will specify our own embedding metrix (as above) by providing the positional encoding matrix as *untrainable* weights."
   ]
  },
  {
   "cell_type": "code",
   "execution_count": 8,
   "id": "6101897b-4ea2-4627-bf1f-34ca8d73e0ba",
   "metadata": {
    "execution": {
     "iopub.execute_input": "2023-08-24T22:14:41.732463Z",
     "iopub.status.busy": "2023-08-24T22:14:41.732281Z",
     "iopub.status.idle": "2023-08-24T22:14:41.737716Z",
     "shell.execute_reply": "2023-08-24T22:14:41.736349Z",
     "shell.execute_reply.started": "2023-08-24T22:14:41.732449Z"
    },
    "tags": []
   },
   "outputs": [],
   "source": [
    "class CustomEmbeddingWithFixedPosnWts(Layer):\n",
    "    def __init__(self, sequence_length, vocab_size, output_dim, **kwargs):\n",
    "        super().__init__(**kwargs)\n",
    "        self.word_embedding_layer = Embedding(\n",
    "            input_dim=vocab_size, output_dim=output_dim\n",
    "        )\n",
    "        posn_embedding_matrix = self.get_position_encoding(\n",
    "            sequence_length, output_dim\n",
    "        )\n",
    "        self.posn_embedding_layer = Embedding(\n",
    "            input_dim=sequence_length,\n",
    "            output_dim=output_dim,\n",
    "            weights=[posn_embedding_matrix],\n",
    "            trainable=False,\n",
    "        )\n",
    "\n",
    "    def get_position_encoding(self, seq_len, d, n=10000):\n",
    "        pos_enc = np.zeros((seq_len, d))\n",
    "        for k in range(seq_len):\n",
    "            for i in np.arange(int(d / 2)):\n",
    "                denominator = np.power(n, 2 * i / d)\n",
    "                pos_enc[k, 2 * i] = np.sin(k / denominator)\n",
    "                pos_enc[k, 2 * i + 1] = np.cos(k / denominator)\n",
    "        return pos_enc\n",
    "\n",
    "    def call(self, inputs):\n",
    "        position_indices = tf.range(tf.shape(inputs)[-1])\n",
    "        embedded_words = self.word_embedding_layer(inputs)\n",
    "        embedded_indices = self.posn_embedding_layer(position_indices)\n",
    "        return embedded_words + embedded_indices"
   ]
  },
  {
   "cell_type": "code",
   "execution_count": 9,
   "id": "1b415710-2631-475b-9cf7-17bbf0cd43e9",
   "metadata": {
    "execution": {
     "iopub.execute_input": "2023-08-24T22:14:41.741688Z",
     "iopub.status.busy": "2023-08-24T22:14:41.740475Z",
     "iopub.status.idle": "2023-08-24T22:14:41.751992Z",
     "shell.execute_reply": "2023-08-24T22:14:41.751367Z",
     "shell.execute_reply.started": "2023-08-24T22:14:41.741421Z"
    },
    "tags": []
   },
   "outputs": [
    {
     "name": "stdout",
     "output_type": "stream",
     "text": [
      "Output from my_embedded_layer:  tf.Tensor(\n",
      "[[[ 3.31636332e-02  9.92607176e-01  2.71414854e-02  9.70949650e-01\n",
      "    4.40645851e-02  1.03555584e+00]\n",
      "  [ 8.88178825e-01  5.86727679e-01  2.70452257e-02  1.00416362e+00\n",
      "   -2.43913438e-02  9.98290122e-01]\n",
      "  [ 9.38048601e-01 -4.27272022e-01  7.15769008e-02  9.67539191e-01\n",
      "   -2.67147906e-02  9.72147942e-01]\n",
      "  [ 1.66453391e-01 -1.03936064e+00  1.06697366e-01  1.02793086e+00\n",
      "    3.66285779e-02  1.02373052e+00]\n",
      "  [-7.83484399e-01 -6.55974329e-01  1.49076849e-01  9.49928880e-01\n",
      "   -3.62296551e-02  9.84357834e-01]]\n",
      "\n",
      " [[ 1.20447874e-02  9.77019250e-01  1.91534422e-02  1.00716507e+00\n",
      "   -4.33196314e-02  1.03809226e+00]\n",
      "  [ 8.27982306e-01  5.77738285e-01 -3.77953053e-04  9.67958093e-01\n",
      "    1.77733563e-02  1.04008496e+00]\n",
      "  [ 9.34630811e-01 -4.65514958e-01  6.05977625e-02  1.03330445e+00\n",
      "    3.44741754e-02  1.02374208e+00]\n",
      "  [ 1.14438102e-01 -9.92323220e-01  1.03276223e-01  9.57435608e-01\n",
      "   -3.83840278e-02  9.84374106e-01]\n",
      "  [-7.83484399e-01 -6.55974329e-01  1.49076849e-01  9.49928880e-01\n",
      "   -3.62296551e-02  9.84357834e-01]]], shape=(2, 5, 6), dtype=float32)\n"
     ]
    }
   ],
   "source": [
    "aiayn_embedding = CustomEmbeddingWithFixedPosnWts(\n",
    "    output_sequence_length, vocab_size, emb_length\n",
    ")\n",
    "aiayn_output = aiayn_embedding(vectorized_words)\n",
    "print(\"Output from my_embedded_layer: \", aiayn_output)"
   ]
  },
  {
   "cell_type": "markdown",
   "id": "6a6df89e-879a-43dc-b9b9-fd9110959491",
   "metadata": {},
   "source": [
    "## 14.5 Visualizing the Final Embedding"
   ]
  },
  {
   "cell_type": "markdown",
   "id": "1065c512-1fb7-4d23-886a-970fb17e9b84",
   "metadata": {},
   "source": [
    "Let us now take some longer sentences, embed them using each method and visualize the results."
   ]
  },
  {
   "cell_type": "code",
   "execution_count": 10,
   "id": "a7cab765-236c-44c8-a9b9-720ea8db04ee",
   "metadata": {
    "execution": {
     "iopub.execute_input": "2023-08-24T22:14:41.753198Z",
     "iopub.status.busy": "2023-08-24T22:14:41.752965Z",
     "iopub.status.idle": "2023-08-24T22:14:41.825242Z",
     "shell.execute_reply": "2023-08-24T22:14:41.824850Z",
     "shell.execute_reply.started": "2023-08-24T22:14:41.753185Z"
    },
    "tags": []
   },
   "outputs": [],
   "source": [
    "technical_phrase = (\n",
    "    \"to understand machine learning algorithms you need to understand concepts\"\n",
    "    \" such as gradient of a function hessians of a matrix and optimization etc\"\n",
    ")\n",
    "wise_phrase = (\n",
    "    \"patrick henry said give me liberty or give me death when he addressed the\"\n",
    "    \" second virginia convention in march\"\n",
    ")\n",
    "\n",
    "total_vocab_size = 200\n",
    "seq_length = 20\n",
    "emb_length = 50\n",
    "\n",
    "phrase_vectorization_layer = TextVectorization(\n",
    "    output_sequence_length=seq_length, max_tokens=total_vocab_size\n",
    ")\n",
    "\n",
    "# Learn the dictionary\n",
    "phrase_vectorization_layer.adapt([technical_phrase, wise_phrase])\n",
    "\n",
    "# Convert all sentences to tensors\n",
    "phrase_tensors = convert_to_tensor(\n",
    "    [technical_phrase, wise_phrase], dtype=tf.string\n",
    ")\n",
    "\n",
    "# Use the word tensors to get vectorized phrases\n",
    "vectorized_phrases = phrase_vectorization_layer(phrase_tensors)\n",
    "\n",
    "random_posn_weights_embedding_layer = CustomEmbedding(\n",
    "    seq_length, total_vocab_size, emb_length\n",
    ")\n",
    "fixed_posn_weights_embedding_layer = CustomEmbeddingWithFixedPosnWts(\n",
    "    seq_length, total_vocab_size, emb_length\n",
    ")\n",
    "\n",
    "random_posn_embedding = random_posn_weights_embedding_layer(vectorized_phrases)\n",
    "fixed_posn_embedding = fixed_posn_weights_embedding_layer(vectorized_phrases)"
   ]
  },
  {
   "cell_type": "markdown",
   "id": "a217ec70-893b-4f5a-ab70-95eb6be72e23",
   "metadata": {},
   "source": [
    "Let's see what the embeddings look like with random positional encoding:"
   ]
  },
  {
   "cell_type": "code",
   "execution_count": 11,
   "id": "8c6c6a9c-50e0-4bba-a273-9719c45e9eb3",
   "metadata": {
    "execution": {
     "iopub.execute_input": "2023-08-24T22:14:41.825842Z",
     "iopub.status.busy": "2023-08-24T22:14:41.825743Z",
     "iopub.status.idle": "2023-08-24T22:14:41.992814Z",
     "shell.execute_reply": "2023-08-24T22:14:41.992368Z",
     "shell.execute_reply.started": "2023-08-24T22:14:41.825833Z"
    },
    "tags": []
   },
   "outputs": [
    {
     "data": {
      "image/png": "[encoded data removed]",
      "text/plain": [
       "<Figure size 1500x500 with 4 Axes>"
      ]
     },
     "metadata": {},
     "output_type": "display_data"
    }
   ],
   "source": [
    "fig = plt.figure(figsize=(15, 5))\n",
    "title = [\"Tech Phrase\", \"Wise Phrase\"]\n",
    "for i in range(2):\n",
    "    ax = plt.subplot(1, 2, 1 + i)\n",
    "    matrix = tf.reshape(random_posn_embedding[i, :, :], (seq_length, emb_length))\n",
    "    cax = ax.matshow(matrix)\n",
    "    plt.gcf().colorbar(cax)\n",
    "    plt.title(title[i], y=1.2)\n",
    "fig.suptitle(\"Random Embedding\")\n",
    "plt.show()"
   ]
  },
  {
   "cell_type": "markdown",
   "id": "fcce8629-e7d7-432b-a647-4521075497b0",
   "metadata": {},
   "source": [
    "Pretty, well, random, as expected! Now let's visualize the embeddings with fixed positional encodings à la the AIAYN paper:"
   ]
  },
  {
   "cell_type": "code",
   "execution_count": 12,
   "id": "9704af05-a8d7-4ef8-bad6-356f30de2a47",
   "metadata": {
    "execution": {
     "iopub.execute_input": "2023-08-24T22:14:41.993836Z",
     "iopub.status.busy": "2023-08-24T22:14:41.993312Z",
     "iopub.status.idle": "2023-08-24T22:14:42.165200Z",
     "shell.execute_reply": "2023-08-24T22:14:42.164733Z",
     "shell.execute_reply.started": "2023-08-24T22:14:41.993790Z"
    },
    "tags": []
   },
   "outputs": [
    {
     "data": {
      "image/png": "[encoded data removed]",
      "text/plain": [
       "<Figure size 1500x500 with 4 Axes>"
      ]
     },
     "metadata": {},
     "output_type": "display_data"
    }
   ],
   "source": [
    "fig = plt.figure(figsize=(15, 5))\n",
    "title = [\"Tech Phrase\", \"Wise Phrase\"]\n",
    "for i in range(2):\n",
    "    ax = plt.subplot(1, 2, 1 + i)\n",
    "    matrix = tf.reshape(\n",
    "        fixed_posn_embedding[i, :, :], (seq_length, emb_length)\n",
    "    )\n",
    "    cax = ax.matshow(matrix)\n",
    "    plt.gcf().colorbar(cax)\n",
    "    plt.title(title[i], y=1.2)\n",
    "fig.suptitle(\"Fixed Weight Embedding from Attention is All You Need\")\n",
    "plt.show()"
   ]
  },
  {
   "cell_type": "markdown",
   "id": "7f94f3de-77d8-412f-809a-1c97de22afdc",
   "metadata": {},
   "source": [
    "**Note:** Due to the way Keras's `Embedding` layer randomly initializes our word embedding weights (i.e. _very_ close to zero), their effect on the positional encodings (which vary from -1 to 1) is extremely muted and the two phrases' total embeddings look identical at first glance. But they are indeed different."
   ]
  }
 ],
 "metadata": {
  "kernelspec": {
   "display_name": "Python 3 (ipykernel)",
   "language": "python",
   "name": "python3"
  },
  "language_info": {
   "codemirror_mode": {
    "name": "ipython",
    "version": 3
   },
   "file_extension": ".py",
   "mimetype": "text/x-python",
   "name": "python",
   "nbconvert_exporter": "python",
   "pygments_lexer": "ipython3",
   "version": "3.10.6"
  }
 },
 "nbformat": 4,
 "nbformat_minor": 5
}

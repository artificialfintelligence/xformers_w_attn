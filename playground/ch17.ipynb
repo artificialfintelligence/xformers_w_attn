{
 "cells": [
  {
   "cell_type": "markdown",
   "id": "c0969831-66dd-4de9-9938-51a34a33426e",
   "metadata": {},
   "source": [
    "# 17 Implementing the Transformer Encoder in Keras"
   ]
  },
  {
   "cell_type": "code",
   "execution_count": 1,
   "id": "86875a00-50a6-41a2-969e-225f2ccb23b7",
   "metadata": {
    "execution": {
     "iopub.execute_input": "2023-08-31T18:51:03.385625Z",
     "iopub.status.busy": "2023-08-31T18:51:03.385413Z",
     "iopub.status.idle": "2023-08-31T18:51:06.487747Z",
     "shell.execute_reply": "2023-08-31T18:51:06.487435Z",
     "shell.execute_reply.started": "2023-08-31T18:51:03.385563Z"
    },
    "tags": []
   },
   "outputs": [],
   "source": [
    "from numpy import random\n",
    "from tensorflow.keras.layers import (\n",
    "    Dense,\n",
    "    Dropout,\n",
    "    Layer,\n",
    "    LayerNormalization,\n",
    "    ReLU,\n",
    ")\n",
    "\n",
    "from xformer.multihead_attention import MultiHeadAttention\n",
    "from xformer.positional_encoding import CustomEmbeddingWithFixedPosnWts"
   ]
  },
  {
   "cell_type": "markdown",
   "id": "d1366935-0411-4158-9864-566090cea24a",
   "metadata": {
    "tags": []
   },
   "source": [
    "## 17.1 Recap of the Transformer Encoder"
   ]
  },
  {
   "cell_type": "markdown",
   "id": "c55dd370-8d2b-4743-ac97-a3f8e63b684a",
   "metadata": {},
   "source": [
    "Recall that the encoder block is a stack of N identical layers. Each layer consists of a multi-head self-attention layer which we expatiated on in Ch. 16. Now we will add some further important missing details.  \n",
    "\n",
    "- The multi-head self-attention is one of _two_ sub-layers in each stack of the encoder. The _other_ sub-layer is a fully-connected feed-forward layer.\n",
    "- After each of the aforementioned two sub-layers, there's a normalization layer which first adds the sublayer's output to its inputs (this forms what we call a \"residual connection\") and then normalizes the result.\n",
    "- Regularization is performed by applying a dropout layer to the outputs of each of the above 2 \"sub-layers\" right before the normalization step, as well as to the positionally-encoded embeddings right before they are fed into the encoder."
   ]
  },
  {
   "cell_type": "markdown",
   "id": "b719f9c9-cef3-4ca4-8369-73a438baf8b4",
   "metadata": {},
   "source": [
    "## 17.2 Implementing the Transformer Encoder from Scratch"
   ]
  },
  {
   "cell_type": "markdown",
   "id": "4ff86d25-5117-4b99-b9d4-791c7120597e",
   "metadata": {},
   "source": [
    "Note: We will reuse the multi-head attention and the positional embedding logic we implemented in previous chapters."
   ]
  },
  {
   "cell_type": "markdown",
   "id": "a160e721-9ef3-4379-a481-4407d8757eeb",
   "metadata": {},
   "source": [
    "### The Feedforward Network and Layer Normalization"
   ]
  },
  {
   "cell_type": "markdown",
   "id": "e44ab864-0954-4214-8aea-525bae6ee179",
   "metadata": {},
   "source": [
    "In AIAYN this is simply two fully-connected (AKA Linear) layers with a ReLU activation in between. The first FF layer's output has dims $d_{ff}=2048$ and the second one brings it back to $d_{model}=512$."
   ]
  },
  {
   "cell_type": "code",
   "execution_count": 2,
   "id": "2841d46e-abfa-4834-b7e4-a882f01a8b56",
   "metadata": {
    "execution": {
     "iopub.execute_input": "2023-08-31T18:51:06.489083Z",
     "iopub.status.busy": "2023-08-31T18:51:06.488859Z",
     "iopub.status.idle": "2023-08-31T18:51:06.491855Z",
     "shell.execute_reply": "2023-08-31T18:51:06.491575Z",
     "shell.execute_reply.started": "2023-08-31T18:51:06.489072Z"
    },
    "tags": []
   },
   "outputs": [],
   "source": [
    "class FeedForward(Layer):\n",
    "    def __init__(self, d_ff, d_model, **kwargs):\n",
    "        super().__init__(**kwargs)\n",
    "        self.fully_connected_1 = Dense(d_ff)  # First fully-connected layer\n",
    "        self.fully_connected_2 = Dense(d_model)  # Second fully-connected layer\n",
    "        self.activation = ReLU()  # ReLU activation layer to come in between\n",
    "\n",
    "    def call(self, x):\n",
    "        # The input is passed into the two fully-connected layers, with a ReLU in between\n",
    "        fc1_output = self.fully_connected_1(x)\n",
    "        fc2_output = self.fully_connected_2(self.activation(fc1_output))\n",
    "        return fc2_output"
   ]
  },
  {
   "cell_type": "markdown",
   "id": "131c1404-2bf3-4400-847d-1978aac771a7",
   "metadata": {},
   "source": [
    "Next, we define our \"Layer Normalization\" layer. [Layer Normalization](https://arxiv.org/pdf/1607.06450.pdf), not to be confused with but in many ways similar to [Batch Normalization](https://arxiv.org/pdf/1502.03167.pdf), is a way of ensuring better, more stable training."
   ]
  },
  {
   "cell_type": "code",
   "execution_count": 3,
   "id": "30501043-59f7-49cc-8bd7-3f23acb17072",
   "metadata": {
    "execution": {
     "iopub.execute_input": "2023-08-31T18:51:06.492296Z",
     "iopub.status.busy": "2023-08-31T18:51:06.492214Z",
     "iopub.status.idle": "2023-08-31T18:51:06.494353Z",
     "shell.execute_reply": "2023-08-31T18:51:06.494075Z",
     "shell.execute_reply.started": "2023-08-31T18:51:06.492287Z"
    },
    "tags": []
   },
   "outputs": [],
   "source": [
    "class AddAndNorm(Layer):\n",
    "    def __init__(self, **kwargs):\n",
    "        super().__init__(**kwargs)\n",
    "        self.layer_norm = LayerNormalization()  # Layer normalization layer\n",
    "\n",
    "    def call(self, x, sublayer_x):\n",
    "        # Note: The sublayer's input and output need to be of the same shape to be summable\n",
    "        add = x + sublayer_x\n",
    "        # Apply layer normalization to the sum\n",
    "        return self.layer_norm(add)"
   ]
  },
  {
   "cell_type": "markdown",
   "id": "ea2c0382-8b56-4919-be50-57260a87ae9d",
   "metadata": {},
   "source": [
    "### The Encoder Layer"
   ]
  },
  {
   "cell_type": "markdown",
   "id": "2d7fb36b-f609-4190-b2d5-d9ecb86569d2",
   "metadata": {},
   "source": [
    "Next, we will define what an encoder layer looks like. **Note:** I may have used the word \"encoder block\" elsewhere. Going forward, I will try to stay consistent and use \"encoder layer\". Just picture AIAYN's block diagram and recall that they stack N=6 of for these to form their transformer's encoder \"block\". But we'll get to that in the next section.  \n",
    "The `training` flag in the `call()` function is there so that we don't perform dropout regularization during testing and inference.  \n",
    "The `padding_mask` argument, as explained in previous chapters, is to suppress zero padding tokens in input sequences from being processed along with valid input tokens."
   ]
  },
  {
   "cell_type": "code",
   "execution_count": 4,
   "id": "392efb5a-69f0-484a-b838-909862fb9d13",
   "metadata": {
    "execution": {
     "iopub.execute_input": "2023-08-31T18:51:06.494870Z",
     "iopub.status.busy": "2023-08-31T18:51:06.494785Z",
     "iopub.status.idle": "2023-08-31T18:51:06.498010Z",
     "shell.execute_reply": "2023-08-31T18:51:06.497613Z",
     "shell.execute_reply.started": "2023-08-31T18:51:06.494861Z"
    },
    "tags": []
   },
   "outputs": [],
   "source": [
    "class EncoderLayer(Layer):\n",
    "    def __init__(self, n_heads, d_model, d_ff, dropout_rate, **kwargs):\n",
    "        super().__init__(**kwargs)\n",
    "        self.multihead_attention = MultiHeadAttention(n_heads, d_model)\n",
    "        self.dropout1 = Dropout(dropout_rate)\n",
    "        self.add_norm1 = AddAndNorm()\n",
    "        self.feed_forward = FeedForward(d_ff, d_model)\n",
    "        self.dropout2 = Dropout(dropout_rate)\n",
    "        self.add_norm2 = AddAndNorm()\n",
    "\n",
    "    def call(self, x, padding_mask, training):\n",
    "        # Multi-head attention layer\n",
    "        multihead_output = self.multihead_attention(x, x, x, padding_mask)\n",
    "        # Expected output shape = (batch_size, sequence_length, d_model)\n",
    "        # Add in a dropout layer\n",
    "        multihead_output = self.dropout1(multihead_output, training=training)\n",
    "        # Followed by an Add & Norm layer\n",
    "        addnorm_output = self.add_norm1(x, multihead_output)\n",
    "        # Expected output shape = (batch_size, sequence_length, d_model)\n",
    "        # Followed by a fully connected layer\n",
    "        feedforward_output = self.feed_forward(addnorm_output)\n",
    "        # Expected output shape = (batch_size, sequence_length, d_model)\n",
    "        # Add in another dropout layer\n",
    "        feedforward_output = self.dropout2(\n",
    "            feedforward_output, training=training\n",
    "        )\n",
    "        # Followed by another Add & Norm layer\n",
    "        return self.add_norm2(addnorm_output, feedforward_output)"
   ]
  },
  {
   "cell_type": "markdown",
   "id": "9c2c730a-0846-4280-a51a-bcf62cef9f31",
   "metadata": {},
   "source": [
    "### The Transformer Encoder"
   ]
  },
  {
   "cell_type": "markdown",
   "id": "6ed041dd-d6b3-4278-8385-07a3026d5571",
   "metadata": {},
   "source": [
    "We are now finally ready to stack these encoder layers to form our transformer encoder. It receives our input sequences, which have gone through tokenization, wod embedding and positional encoding. (We are re-using our `CustomEmbeddingWithFixedPosnWts` class from chapter 14 for that)."
   ]
  },
  {
   "cell_type": "code",
   "execution_count": 5,
   "id": "a43dad99-da02-4a48-80ac-7b9ea923605c",
   "metadata": {
    "execution": {
     "iopub.execute_input": "2023-08-31T18:51:06.498797Z",
     "iopub.status.busy": "2023-08-31T18:51:06.498559Z",
     "iopub.status.idle": "2023-08-31T18:51:06.502522Z",
     "shell.execute_reply": "2023-08-31T18:51:06.502032Z",
     "shell.execute_reply.started": "2023-08-31T18:51:06.498784Z"
    },
    "tags": []
   },
   "outputs": [],
   "source": [
    "class Encoder(Layer):\n",
    "    def __init__(\n",
    "        self,\n",
    "        vocab_size,\n",
    "        sequence_length,\n",
    "        n_heads,\n",
    "        d_model,\n",
    "        d_ff,\n",
    "        n_enc_layers,\n",
    "        dropout_rate,\n",
    "        **kwargs\n",
    "    ):\n",
    "        super().__init__(**kwargs)\n",
    "        self.wrd_emb_posn_enc = CustomEmbeddingWithFixedPosnWts(\n",
    "            sequence_length, vocab_size, d_model\n",
    "        )\n",
    "        self.dropout = Dropout(dropout_rate)\n",
    "        self.encoder_layers = [\n",
    "            EncoderLayer(n_heads, d_model, d_ff, dropout_rate)\n",
    "            for _ in range(n_enc_layers)\n",
    "        ]\n",
    "\n",
    "    def call(self, input_sentence, padding_mask, training):\n",
    "        # Generate the word embeddings & positional encodings\n",
    "        emb_enc_output = self.wrd_emb_posn_enc(input_sentence)\n",
    "        # Expected output shape = (batch_size, sequence_length, d_model)\n",
    "        # Add in a dropout layer\n",
    "        x = self.dropout(emb_enc_output, training=training)\n",
    "        # Feed the result into the stack of encoder layers\n",
    "        for i, layer in enumerate(self.encoder_layers):\n",
    "            x = layer(x, padding_mask, training)\n",
    "        return x"
   ]
  },
  {
   "cell_type": "markdown",
   "id": "5fe89cd8-0ba9-4242-aa5f-1d7ff30ec37e",
   "metadata": {},
   "source": [
    "## 17.3 Testing Out the Code"
   ]
  },
  {
   "cell_type": "markdown",
   "id": "dc63122b-4609-4b16-9a1b-248d04d59ad9",
   "metadata": {},
   "source": [
    "As usual, we will use the parameter values specified in AIAYN and dummy data for our input sequences (until chapter 20)."
   ]
  },
  {
   "cell_type": "code",
   "execution_count": 7,
   "id": "2c13b640-3157-4de5-b5b3-fcd51fb88d59",
   "metadata": {
    "execution": {
     "iopub.execute_input": "2023-08-31T19:31:20.263095Z",
     "iopub.status.busy": "2023-08-31T19:31:20.261899Z",
     "iopub.status.idle": "2023-08-31T19:31:20.485910Z",
     "shell.execute_reply": "2023-08-31T19:31:20.485511Z",
     "shell.execute_reply.started": "2023-08-31T19:31:20.263018Z"
    },
    "tags": []
   },
   "outputs": [
    {
     "name": "stdout",
     "output_type": "stream",
     "text": [
      "tf.Tensor(\n",
      "[[[-6.4046764e-01 -2.5869149e-01  2.9826114e-02 ...  1.7524600e+00\n",
      "    8.3793515e-01  1.4727314e+00]\n",
      "  [-2.5010207e-01  8.2378335e-02  7.0842355e-01 ...  2.1619058e+00\n",
      "    4.8494333e-01  5.1776910e-01]\n",
      "  [-4.0501606e-01 -7.2256976e-01  6.9958973e-01 ...  1.5095438e+00\n",
      "    9.2207301e-01  2.0221012e+00]\n",
      "  [-7.8895479e-01 -6.4195299e-01  3.8406304e-01 ...  1.4902123e+00\n",
      "   -1.3452987e-01  9.5190138e-01]\n",
      "  [-7.2948223e-01 -1.0197861e+00  4.0769660e-01 ...  2.4138000e+00\n",
      "    2.5342479e-01  1.1871268e+00]]\n",
      "\n",
      " [[-1.2775974e+00 -6.0047591e-01  3.1905037e-01 ...  1.7848492e+00\n",
      "   -5.4142863e-01  1.3197116e+00]\n",
      "  [-8.6346459e-01 -4.9204442e-01  2.2519235e-01 ...  1.5220001e+00\n",
      "    2.3462519e-02  1.4124132e+00]\n",
      "  [-1.0557163e+00 -8.8454580e-01  9.2237324e-02 ...  1.4283720e+00\n",
      "   -2.2392024e-01  1.4467469e+00]\n",
      "  [-1.5382400e+00 -7.9968345e-01  2.0473975e-01 ...  1.2802440e+00\n",
      "    1.0641914e-01  1.6147338e+00]\n",
      "  [-1.8815150e+00  1.0320888e-02  8.3954060e-01 ...  9.6625865e-01\n",
      "    1.8395619e-01  6.7714399e-01]]\n",
      "\n",
      " [[-8.5746044e-01  1.9713999e-01 -3.7671179e-01 ... -2.3181902e-03\n",
      "    3.9548531e-01  1.0608130e+00]\n",
      "  [-1.8287183e-01 -1.6079631e+00  8.9218903e-01 ...  1.2645577e+00\n",
      "    6.8502599e-01  6.0540104e-01]\n",
      "  [-1.0453359e+00  8.0230981e-02  7.4272466e-01 ...  1.7237309e+00\n",
      "    1.2041485e+00  1.1448160e+00]\n",
      "  [-1.1735303e-01 -1.1061000e+00  4.3568742e-01 ...  1.8112922e+00\n",
      "    6.0542870e-01  1.5766352e+00]\n",
      "  [-9.4957006e-01 -1.2536139e+00  2.0971897e-01 ...  2.2452197e+00\n",
      "    9.0152037e-01  1.5255357e+00]]\n",
      "\n",
      " ...\n",
      "\n",
      " [[-2.9390866e-01 -1.2463502e+00 -9.1362935e-01 ...  7.7315676e-01\n",
      "   -2.9704264e-01  8.5525185e-01]\n",
      "  [-6.6901642e-01 -1.2836357e+00  1.4881423e-01 ...  1.9383415e+00\n",
      "    1.4888549e-01  1.5017550e+00]\n",
      "  [-6.9297099e-01 -1.1612087e+00  7.7410620e-01 ...  9.6661359e-01\n",
      "    3.4838420e-01  1.2874032e+00]\n",
      "  [-2.7970517e-02 -8.7708485e-01 -3.6783453e-02 ...  2.7573917e+00\n",
      "    4.2359227e-01  1.2727539e-01]\n",
      "  [-2.2355159e-01 -1.6023784e+00  6.1365789e-01 ...  2.1173241e+00\n",
      "   -6.8750553e-02  1.2934217e+00]]\n",
      "\n",
      " [[-9.2426205e-01 -7.7575839e-01  6.7311829e-01 ...  1.0347770e+00\n",
      "    4.7192153e-01  1.5871167e+00]\n",
      "  [-1.0050859e+00 -9.0330720e-01  7.8590441e-01 ...  1.6225425e+00\n",
      "    2.5023809e-01  1.4366457e+00]\n",
      "  [-4.8685884e-01 -1.9274199e+00  2.9460666e-01 ...  1.9535737e+00\n",
      "   -1.8999387e-01  6.4595240e-01]\n",
      "  [-1.1032413e+00 -1.4715369e+00  6.8726873e-01 ...  1.6190103e+00\n",
      "    8.9134854e-01  1.3682548e+00]\n",
      "  [-1.0923622e+00 -7.1235144e-01  5.3679866e-01 ...  1.8161838e+00\n",
      "    8.0157831e-02  1.8308017e+00]]\n",
      "\n",
      " [[-9.8031110e-01 -1.0366852e+00  8.3997029e-01 ...  1.1601998e+00\n",
      "    1.1577517e-01  1.9930401e+00]\n",
      "  [-1.3840510e+00 -1.0089719e+00  7.7073467e-01 ...  1.9902310e+00\n",
      "    1.1134784e+00  2.3451412e+00]\n",
      "  [-4.7524616e-01 -1.1158066e+00  3.2277769e-01 ...  1.1448314e+00\n",
      "    6.1732829e-01  1.3739098e+00]\n",
      "  [-8.8786572e-01 -1.6583818e+00  1.6487543e-01 ...  2.6118350e+00\n",
      "    4.8549569e-01  2.2410882e+00]\n",
      "  [-2.2441564e+00 -8.6937362e-01  1.2447932e+00 ...  2.7793624e+00\n",
      "    2.9084677e-01  1.3756456e+00]]], shape=(64, 5, 512), dtype=float32)\n"
     ]
    }
   ],
   "source": [
    "h = 8  # Number of self-attention heads\n",
    "d_ff = 2048  # Dimensionality of the inner fully-connected layer\n",
    "d_model = 512  # Dimensionality of the model\n",
    "n = 6  # Number of layers in the encoder stack\n",
    "\n",
    "batch_size = 64  # Batch size from the training process\n",
    "dropout_rate = 0.1  # Frequency of dropping the input units in dropout layers\n",
    "\n",
    "enc_vocab_size = 20  # Vocabulary size for the encoder\n",
    "input_seq_length = 5  # Maximum length of the input sequence\n",
    "input_seq = random.random((batch_size, input_seq_length))\n",
    "\n",
    "encoder = Encoder(\n",
    "    enc_vocab_size, input_seq_length, h, d_model, d_ff, n, dropout_rate\n",
    ")\n",
    "\n",
    "print(encoder(input_seq, None, True))"
   ]
  }
 ],
 "metadata": {
  "kernelspec": {
   "display_name": "Python 3 (ipykernel)",
   "language": "python",
   "name": "python3"
  },
  "language_info": {
   "codemirror_mode": {
    "name": "ipython",
    "version": 3
   },
   "file_extension": ".py",
   "mimetype": "text/x-python",
   "name": "python",
   "nbconvert_exporter": "python",
   "pygments_lexer": "ipython3",
   "version": "3.10.6"
  }
 },
 "nbformat": 4,
 "nbformat_minor": 5
}

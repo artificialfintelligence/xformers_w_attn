{
 "cells": [
  {
   "cell_type": "markdown",
   "id": "c0969831-66dd-4de9-9938-51a34a33426e",
   "metadata": {},
   "source": [
    "# 17 Implementing the Transformer Encoder in Keras"
   ]
  },
  {
   "cell_type": "code",
   "execution_count": 1,
   "id": "86875a00-50a6-41a2-969e-225f2ccb23b7",
   "metadata": {
    "execution": {
     "iopub.execute_input": "2023-08-31T00:14:26.835992Z",
     "iopub.status.busy": "2023-08-31T00:14:26.835093Z",
     "iopub.status.idle": "2023-08-31T00:14:29.090158Z",
     "shell.execute_reply": "2023-08-31T00:14:29.089863Z",
     "shell.execute_reply.started": "2023-08-31T00:14:26.835819Z"
    },
    "tags": []
   },
   "outputs": [],
   "source": [
    "from tensorflow.keras.layers import (\n",
    "    Dense,\n",
    "    Dropout,\n",
    "    Layer,\n",
    "    LayerNormalization,\n",
    "    ReLU,\n",
    ")\n",
    "from numpy import random\n",
    "from xformer.multihead_attention import MultiHeadAttention\n",
    "from xformer.positional_encoding import CustomEmbeddingWithFixedPosnWts"
   ]
  },
  {
   "cell_type": "markdown",
   "id": "d1366935-0411-4158-9864-566090cea24a",
   "metadata": {
    "tags": []
   },
   "source": [
    "## 17.1 Recap of the Transformer Encoder"
   ]
  },
  {
   "cell_type": "markdown",
   "id": "c55dd370-8d2b-4743-ac97-a3f8e63b684a",
   "metadata": {},
   "source": [
    "Recall that the encoder block is a stack of N identical layers. Each layer consists of a multi-head self-attention layer which we expatiated on in Ch. 16. Now we will add some further important missing details.  \n",
    "\n",
    "1. The multi-head self-attention is one of _two_ sub-layers in each stack of the encoder. The _other_ sub-layer is a fully-connected feed-forward layer.\n",
    "2. After each of the aforementioned two sub-layers, there's a normalization layer which first adds the sublayer's output to its inputs (this forms what we call a \"residual connection\") and then normalizes the result.\n",
    "3. Regularization is performed by applying a dropout layer to the outputs of each of the aforementioned \"sub-layers\" right before the normalization step, as well as to the positionally-encoded embeddings right before they are fed into the encoder."
   ]
  },
  {
   "cell_type": "markdown",
   "id": "b719f9c9-cef3-4ca4-8369-73a438baf8b4",
   "metadata": {},
   "source": [
    "## 17.2 Implementing the Transformer Encoder from Scratch"
   ]
  },
  {
   "cell_type": "markdown",
   "id": "4ff86d25-5117-4b99-b9d4-791c7120597e",
   "metadata": {},
   "source": [
    "Note: We will reuse the multi-head attention and the positional embedding logic we implemented in previous chapters."
   ]
  },
  {
   "cell_type": "markdown",
   "id": "a160e721-9ef3-4379-a481-4407d8757eeb",
   "metadata": {},
   "source": [
    "### The Feedforward Network and Layer Normalization"
   ]
  },
  {
   "cell_type": "markdown",
   "id": "e44ab864-0954-4214-8aea-525bae6ee179",
   "metadata": {},
   "source": [
    "In AIAYN this is simply two fully-connected (AKA Linear) layers with a ReLU activation in between. The first FF layer's output has dims $d_{ff}=2048$ and the second one brings it back to $d_{model}=512$."
   ]
  },
  {
   "cell_type": "code",
   "execution_count": 9,
   "id": "2841d46e-abfa-4834-b7e4-a882f01a8b56",
   "metadata": {
    "execution": {
     "iopub.execute_input": "2023-08-31T00:15:05.271704Z",
     "iopub.status.busy": "2023-08-31T00:15:05.270428Z",
     "iopub.status.idle": "2023-08-31T00:15:05.279753Z",
     "shell.execute_reply": "2023-08-31T00:15:05.278828Z",
     "shell.execute_reply.started": "2023-08-31T00:15:05.271647Z"
    },
    "tags": []
   },
   "outputs": [],
   "source": [
    "class FeedForward(Layer):\n",
    "    def __init__(self, d_ff, d_model, **kwargs):\n",
    "        super().__init__(**kwargs)\n",
    "        self.fully_connected_1 = Dense(d_ff)  # First fully-connected layer\n",
    "        self.fully_connected_2 = Dense(d_model)  # Second fully-connected layer\n",
    "        self.activation = ReLU()  # ReLU activation layer to come in between\n",
    "\n",
    "    def call(self, x):\n",
    "        # The input is passed into the two fully-connected layers, with a ReLU in between\n",
    "        fc1_output = self.fully_connected_1(x)\n",
    "        fc2_output = self.fully_connected_2(self.activation(fc1_output))\n",
    "        return fc2_output"
   ]
  },
  {
   "cell_type": "markdown",
   "id": "131c1404-2bf3-4400-847d-1978aac771a7",
   "metadata": {},
   "source": [
    "Next, we define our \"Layer Normalization\" layer. [Layer Normalization](https://arxiv.org/pdf/1607.06450.pdf), not to be confused with but in many ways similar to [Batch Normalization](https://arxiv.org/pdf/1502.03167.pdf), is a way of ensuring better, more stable training."
   ]
  },
  {
   "cell_type": "code",
   "execution_count": 3,
   "id": "30501043-59f7-49cc-8bd7-3f23acb17072",
   "metadata": {
    "execution": {
     "iopub.execute_input": "2023-08-31T00:14:29.094082Z",
     "iopub.status.busy": "2023-08-31T00:14:29.093994Z",
     "iopub.status.idle": "2023-08-31T00:14:29.096092Z",
     "shell.execute_reply": "2023-08-31T00:14:29.095813Z",
     "shell.execute_reply.started": "2023-08-31T00:14:29.094073Z"
    },
    "tags": []
   },
   "outputs": [],
   "source": [
    "class AddAndNorm(Layer):\n",
    "    def __init__(self, **kwargs):\n",
    "        super().__init__(**kwargs)\n",
    "        self.layer_norm = LayerNormalization()  # Layer normalization layer\n",
    "\n",
    "    def call(self, x, sublayer_x):\n",
    "        # Note: The sublayer's input and output need to be of the same shape to be summable\n",
    "        add = x + sublayer_x\n",
    "        # Apply layer normalization to the sum\n",
    "        return self.layer_norm(add)"
   ]
  },
  {
   "cell_type": "markdown",
   "id": "ea2c0382-8b56-4919-be50-57260a87ae9d",
   "metadata": {},
   "source": [
    "### The Encoder Layer"
   ]
  },
  {
   "cell_type": "markdown",
   "id": "2d7fb36b-f609-4190-b2d5-d9ecb86569d2",
   "metadata": {},
   "source": [
    "Next, we will define what an encoder layer looks like. **Note:** I may have used the word \"encoder block\" elsewhere. Going forward, I will try to stay consistent and use \"encoder layer\". Just picture AIAYN's block diagram and recall that they stack N=6 of for these to form their transformer's encoder \"block\". But we'll get to that in the next section.  \n",
    "The `training` flag in the `call()` function is there so that we don't perform dropout regularization during testing and inference.  \n",
    "The `padding_mask` argument, as explained in previous chapters, is to suppress zero padding tokens in input sequences from being processed along with valid input tokens."
   ]
  },
  {
   "cell_type": "code",
   "execution_count": 4,
   "id": "392efb5a-69f0-484a-b838-909862fb9d13",
   "metadata": {
    "execution": {
     "iopub.execute_input": "2023-08-31T00:14:29.096599Z",
     "iopub.status.busy": "2023-08-31T00:14:29.096510Z",
     "iopub.status.idle": "2023-08-31T00:14:29.099902Z",
     "shell.execute_reply": "2023-08-31T00:14:29.099533Z",
     "shell.execute_reply.started": "2023-08-31T00:14:29.096591Z"
    },
    "tags": []
   },
   "outputs": [],
   "source": [
    "class EncoderLayer(Layer):\n",
    "    def __init__(self, n_heads, d_model, d_ff, dropout_rate, **kwargs):\n",
    "        super().__init__(**kwargs)\n",
    "        self.multihead_attention = MultiHeadAttention(n_heads, d_model)\n",
    "        self.dropout1 = Dropout(dropout_rate)\n",
    "        self.add_norm1 = AddAndNorm()\n",
    "        self.feed_forward = FeedForward(d_ff, d_model)\n",
    "        self.dropout2 = Dropout(dropout_rate)\n",
    "        self.add_norm2 = AddAndNorm()\n",
    "\n",
    "    def call(self, x, padding_mask, training):\n",
    "        # Multi-head attention layer\n",
    "        multihead_output = self.multihead_attention(x, x, x, padding_mask)\n",
    "        # Expected output shape = (batch_size, sequence_length, d_model)\n",
    "        # Add in a dropout layer\n",
    "        multihead_output = self.dropout1(multihead_output, training=training)\n",
    "        # Followed by an Add & Norm layer\n",
    "        addnorm_output = self.add_norm1(x, multihead_output)\n",
    "        # Expected output shape = (batch_size, sequence_length, d_model)\n",
    "        # Followed by a fully connected layer\n",
    "        feedforward_output = self.feed_forward(addnorm_output)\n",
    "        # Expected output shape = (batch_size, sequence_length, d_model)\n",
    "        # Add in another dropout layer\n",
    "        feedforward_output = self.dropout2(\n",
    "            feedforward_output, training=training\n",
    "        )\n",
    "        # Followed by another Add & Norm layer\n",
    "        return self.add_norm2(addnorm_output, feedforward_output)"
   ]
  },
  {
   "cell_type": "markdown",
   "id": "9c2c730a-0846-4280-a51a-bcf62cef9f31",
   "metadata": {},
   "source": [
    "### The Transformer Encoder"
   ]
  },
  {
   "cell_type": "markdown",
   "id": "6ed041dd-d6b3-4278-8385-07a3026d5571",
   "metadata": {},
   "source": [
    "We are now finally ready to stack these encoder layers to form our transformer encoder. It receives our input sequences, which have gone through tokenization, wod embedding and positional encoding. (We are re-using our `CustomEmbeddingWithFixedPosnWts` class from chapter 14 for that)."
   ]
  },
  {
   "cell_type": "code",
   "execution_count": 5,
   "id": "a43dad99-da02-4a48-80ac-7b9ea923605c",
   "metadata": {
    "execution": {
     "iopub.execute_input": "2023-08-31T00:14:29.101495Z",
     "iopub.status.busy": "2023-08-31T00:14:29.101367Z",
     "iopub.status.idle": "2023-08-31T00:14:29.104983Z",
     "shell.execute_reply": "2023-08-31T00:14:29.104404Z",
     "shell.execute_reply.started": "2023-08-31T00:14:29.101485Z"
    },
    "tags": []
   },
   "outputs": [],
   "source": [
    "class Encoder(Layer):\n",
    "    def __init__(\n",
    "        self,\n",
    "        vocab_size,\n",
    "        sequence_length,\n",
    "        n_heads,\n",
    "        d_model,\n",
    "        d_ff,\n",
    "        n_enc_layers,\n",
    "        dropout_rate,\n",
    "        **kwargs\n",
    "    ):\n",
    "        super().__init__(**kwargs)\n",
    "        self.wrd_emb_posn_enc = CustomEmbeddingWithFixedPosnWts(\n",
    "            sequence_length, vocab_size, d_model\n",
    "        )\n",
    "        self.dropout = Dropout(dropout_rate)\n",
    "        self.encoder_layer = [\n",
    "            EncoderLayer(n_heads, d_model, d_ff, dropout_rate)\n",
    "            for _ in range(n_enc_layers)\n",
    "        ]\n",
    "\n",
    "    def call(self, input_sentence, padding_mask, training):\n",
    "        # Generate the word embeddings & positional encodings\n",
    "        emb_enc_output = self.wrd_emb_posn_enc(input_sentence)\n",
    "        # Expected output shape = (batch_size, sequence_length, d_model)\n",
    "        # Add in a dropout layer\n",
    "        x = self.dropout(emb_enc_output, training=training)\n",
    "        # Feed the result into the stack of encoder layers\n",
    "        for i, layer in enumerate(self.encoder_layer):\n",
    "            x = layer(x, padding_mask, training)\n",
    "        return x"
   ]
  },
  {
   "cell_type": "markdown",
   "id": "5fe89cd8-0ba9-4242-aa5f-1d7ff30ec37e",
   "metadata": {},
   "source": [
    "## 17.3 Testing Out the Code"
   ]
  },
  {
   "cell_type": "markdown",
   "id": "dc63122b-4609-4b16-9a1b-248d04d59ad9",
   "metadata": {},
   "source": [
    "As usual, we will use the parameter values specified in AIAYN and dummy data for our input sequences (until chapter 20)."
   ]
  },
  {
   "cell_type": "code",
   "execution_count": 10,
   "id": "2c13b640-3157-4de5-b5b3-fcd51fb88d59",
   "metadata": {
    "execution": {
     "iopub.execute_input": "2023-08-31T00:15:08.473207Z",
     "iopub.status.busy": "2023-08-31T00:15:08.471625Z",
     "iopub.status.idle": "2023-08-31T00:15:08.698815Z",
     "shell.execute_reply": "2023-08-31T00:15:08.698506Z",
     "shell.execute_reply.started": "2023-08-31T00:15:08.473145Z"
    },
    "tags": []
   },
   "outputs": [
    {
     "name": "stdout",
     "output_type": "stream",
     "text": [
      "tf.Tensor(\n",
      "[[[-2.95271426e-01  2.08284259e-01  5.70990264e-01 ...  1.25170574e-01\n",
      "   -1.01462281e+00  4.24403042e-01]\n",
      "  [-3.21573228e-01  5.57789266e-01  1.76177511e-03 ... -3.49039763e-01\n",
      "   -1.56525767e+00 -4.27692086e-01]\n",
      "  [-2.90390819e-01  9.60400283e-01 -1.50464047e-02 ...  3.25803086e-02\n",
      "   -5.58999240e-01  6.70264184e-01]\n",
      "  [ 1.15917712e-01  4.86456215e-01  3.81142974e-01 ... -5.63037038e-01\n",
      "   -9.71955657e-01  4.02672172e-01]\n",
      "  [ 1.16032250e-01  3.56741771e-02 -1.07453927e-01 ... -4.38674301e-01\n",
      "   -8.89873445e-01  4.70764726e-01]]\n",
      "\n",
      " [[ 1.73277527e-01  1.21854246e+00 -4.86973315e-01 ... -2.54191250e-01\n",
      "   -1.80140054e+00 -6.76182449e-01]\n",
      "  [ 2.42070332e-01  7.32863665e-01  4.65041727e-01 ...  1.02889371e+00\n",
      "   -1.01989067e+00 -1.15552820e-01]\n",
      "  [ 1.83139279e-01  2.09498405e-01 -6.94158673e-01 ... -3.31641316e-01\n",
      "   -9.80828941e-01  7.92810857e-01]\n",
      "  [-6.20003521e-01  7.28924811e-01  1.18865764e+00 ... -1.51898906e-01\n",
      "   -8.96685421e-01 -3.83338511e-01]\n",
      "  [ 2.73433607e-02  5.08831263e-01  4.45630401e-01 ... -6.25017166e-01\n",
      "   -6.22191250e-01  5.71089983e-01]]\n",
      "\n",
      " [[-3.62245172e-01  1.27570316e-01  2.90072360e-03 ... -5.75317919e-01\n",
      "   -9.87012923e-01  6.74885750e-01]\n",
      "  [ 7.27367997e-02  6.00819111e-01  7.79821157e-01 ... -8.01840127e-01\n",
      "   -1.50403392e+00  6.38604760e-01]\n",
      "  [-2.28053376e-01  6.66141570e-01  3.77043724e-01 ... -3.27486634e-01\n",
      "   -1.42016020e-02  6.50161326e-01]\n",
      "  [-3.78457606e-02  4.82427776e-01  1.65546015e-01 ... -5.81494212e-01\n",
      "   -1.94075271e-01  9.19990361e-01]\n",
      "  [-3.35837007e-02  4.31444585e-01  2.31756389e-01 ... -3.91569704e-01\n",
      "   -3.28522176e-01  8.61021101e-01]]\n",
      "\n",
      " ...\n",
      "\n",
      " [[ 6.22989833e-01  1.34959376e+00 -1.10023367e+00 ...  2.18149461e-02\n",
      "   -8.08452249e-01  9.63027596e-01]\n",
      "  [-1.45599291e-01  9.16962504e-01 -6.99594736e-01 ...  7.27344573e-01\n",
      "    6.77643344e-02  1.49672043e+00]\n",
      "  [ 3.75248820e-01  6.68546975e-01 -1.84861019e-01 ...  2.14785114e-01\n",
      "   -7.94903874e-01  6.97793782e-01]\n",
      "  [-2.69002199e-01  1.25463128e+00  1.82125241e-01 ...  1.36004552e-01\n",
      "   -4.67799038e-01  9.71397221e-01]\n",
      "  [-5.62412798e-01  7.70590067e-01 -1.26378775e-01 ... -9.98468935e-01\n",
      "    2.42116172e-02  1.23158664e-01]]\n",
      "\n",
      " [[-8.28907592e-04  1.55014133e+00 -1.27987877e-01 ... -6.41410291e-01\n",
      "   -1.23585308e+00  8.59315097e-01]\n",
      "  [ 5.92294872e-01  1.11737967e+00 -1.39048472e-01 ... -2.55913198e-01\n",
      "   -9.63064313e-01  1.51886737e+00]\n",
      "  [-1.27479047e-01  8.78399611e-01 -4.68144029e-01 ... -7.52341598e-02\n",
      "   -2.42286220e-01  1.19388461e-01]\n",
      "  [-2.13395998e-01  1.13618648e+00  3.70888501e-01 ... -6.35669172e-01\n",
      "    3.73259336e-01  8.69387865e-01]\n",
      "  [-5.39036393e-01  9.74226475e-01 -3.14777374e-01 ... -1.03490293e+00\n",
      "   -4.03290242e-01 -2.50933498e-01]]\n",
      "\n",
      " [[ 5.23784101e-01  1.10031366e+00 -8.57697189e-01 ...  4.68404144e-01\n",
      "   -5.12006283e-01  1.84573126e+00]\n",
      "  [-1.18821904e-01  2.36905798e-01  5.70826642e-02 ...  5.92090905e-01\n",
      "    2.05225021e-01  1.27044928e+00]\n",
      "  [-5.59420824e-01 -3.84183079e-01  1.08540475e+00 ... -4.17824566e-01\n",
      "    2.75087863e-01  1.24167883e+00]\n",
      "  [-4.03916627e-01  2.38771617e-01 -4.56284195e-01 ...  1.21033065e-01\n",
      "   -5.11967778e-01  1.25831985e+00]\n",
      "  [-3.50801408e-01  2.58259863e-01 -2.23233074e-01 ... -7.96799362e-02\n",
      "    2.15162784e-01  6.57465756e-01]]], shape=(64, 5, 512), dtype=float32)\n"
     ]
    }
   ],
   "source": [
    "h = 8 # Number of self-attention heads\n",
    "d_ff = 2048 # Dimensionality of the inner fully-connected layer\n",
    "d_model = 512 # Dimensionality of the model\n",
    "n = 6 # Number of layers in the encoder stack\n",
    "batch_size = 64 # Batch size from the training process\n",
    "dropout_rate = 0.1 # Frequency of dropping the input units in the dropout layers\n",
    "\n",
    "enc_vocab_size = 20 # Vocabulary size for the encoder\n",
    "input_seq_length = 5 # Maximum length of the input sequence\n",
    "input_seq = random.random((batch_size, input_seq_length))\n",
    "\n",
    "encoder = Encoder(enc_vocab_size, input_seq_length, h, d_model, d_ff, n, dropout_rate)\n",
    "print(encoder(input_seq, None, True))"
   ]
  }
 ],
 "metadata": {
  "kernelspec": {
   "display_name": "Python 3 (ipykernel)",
   "language": "python",
   "name": "python3"
  },
  "language_info": {
   "codemirror_mode": {
    "name": "ipython",
    "version": 3
   },
   "file_extension": ".py",
   "mimetype": "text/x-python",
   "name": "python",
   "nbconvert_exporter": "python",
   "pygments_lexer": "ipython3",
   "version": "3.10.6"
  }
 },
 "nbformat": 4,
 "nbformat_minor": 5
}

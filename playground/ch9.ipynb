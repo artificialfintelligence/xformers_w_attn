{
 "cells": [
  {
   "cell_type": "markdown",
   "id": "f6048ac9-25ac-4268-a58b-b5ff6dc322ea",
   "metadata": {},
   "source": [
    "# 9 Adding a Custom Attention Layer to Recurrent Neural Network in Keras"
   ]
  },
  {
   "cell_type": "code",
   "execution_count": 63,
   "id": "e5f4955b-6441-4a27-81bf-6e421c7463c2",
   "metadata": {
    "execution": {
     "iopub.execute_input": "2023-06-25T03:59:16.536010Z",
     "iopub.status.busy": "2023-06-25T03:59:16.534327Z",
     "iopub.status.idle": "2023-06-25T03:59:16.550138Z",
     "shell.execute_reply": "2023-06-25T03:59:16.548700Z",
     "shell.execute_reply.started": "2023-06-25T03:59:16.535947Z"
    },
    "tags": []
   },
   "outputs": [],
   "source": [
    "import numpy as np\n",
    "import pandas as pd\n",
    "import tensorflow.keras.backend as K\n",
    "from sklearn.preprocessing import MinMaxScaler\n",
    "from tensorflow.keras import layers\n",
    "from tensorflow.keras.metrics import mean_squared_error\n",
    "from tensorflow.keras.models import Sequential\n",
    "\n",
    "seed = 13"
   ]
  },
  {
   "cell_type": "markdown",
   "id": "9796d0a9-ef75-4959-a165-c80838d50d88",
   "metadata": {},
   "source": [
    "## 9.2 The SimpleRNN Network"
   ]
  },
  {
   "cell_type": "markdown",
   "id": "ddc1e476-b0d3-4afe-b747-34df0e3a74e1",
   "metadata": {},
   "source": [
    "Our aim is to train an RNN on the Fibonacci numbers and get it to predict the next term given the first few.  \n",
    "First, we need to construct the data for our contrived prediction problem..."
   ]
  },
  {
   "cell_type": "code",
   "execution_count": 64,
   "id": "feec2bf3-1da8-437a-a1eb-72c77b5a1b2b",
   "metadata": {
    "execution": {
     "iopub.execute_input": "2023-06-25T03:59:16.553617Z",
     "iopub.status.busy": "2023-06-25T03:59:16.553332Z",
     "iopub.status.idle": "2023-06-25T03:59:16.557311Z",
     "shell.execute_reply": "2023-06-25T03:59:16.556889Z",
     "shell.execute_reply.started": "2023-06-25T03:59:16.553599Z"
    },
    "tags": []
   },
   "outputs": [],
   "source": [
    "def get_fib_seq(n, scale_data=True):\n",
    "    \"\"\"\n",
    "    Get the first n terms of the Fibonacci sequence,\n",
    "    excluding the initial (0, 1).\n",
    "    \"\"\"\n",
    "    seq = np.zeros(n)\n",
    "    fib_2_prior = 0.0\n",
    "    fib_1_prior = 1.0\n",
    "    for i in range(n):\n",
    "        seq[i] = fib_2_prior + fib_1_prior\n",
    "        fib_2_prior = fib_1_prior\n",
    "        fib_1_prior = seq[i]\n",
    "    scaler = None\n",
    "    if scale_data:\n",
    "        scaler = MinMaxScaler(feature_range=(0, 1))\n",
    "        seq = np.reshape(seq, (n, 1))\n",
    "        seq = scaler.fit_transform(seq).flatten()\n",
    "    return seq, scaler"
   ]
  },
  {
   "cell_type": "code",
   "execution_count": 65,
   "id": "f529a7cf-462c-4cda-9974-3b9f86a395fe",
   "metadata": {
    "execution": {
     "iopub.execute_input": "2023-06-25T03:59:16.558072Z",
     "iopub.status.busy": "2023-06-25T03:59:16.557950Z",
     "iopub.status.idle": "2023-06-25T03:59:16.560641Z",
     "shell.execute_reply": "2023-06-25T03:59:16.560261Z",
     "shell.execute_reply.started": "2023-06-25T03:59:16.558060Z"
    },
    "tags": []
   },
   "outputs": [
    {
     "name": "stdout",
     "output_type": "stream",
     "text": [
      "[ 1.  2.  3.  5.  8. 13. 21. 34. 55. 89.]\n"
     ]
    }
   ],
   "source": [
    "fib_seq, _ = get_fib_seq(10, False)\n",
    "print(fib_seq)"
   ]
  },
  {
   "cell_type": "code",
   "execution_count": 66,
   "id": "2c730068-23d2-46d4-b28e-a03f685d398d",
   "metadata": {
    "execution": {
     "iopub.execute_input": "2023-06-25T03:59:16.561434Z",
     "iopub.status.busy": "2023-06-25T03:59:16.561264Z",
     "iopub.status.idle": "2023-06-25T03:59:16.566287Z",
     "shell.execute_reply": "2023-06-25T03:59:16.565779Z",
     "shell.execute_reply.started": "2023-06-25T03:59:16.561422Z"
    },
    "tags": []
   },
   "outputs": [],
   "source": [
    "def get_fib_xy(total_fib_numbers, time_steps, train_frac, scale_data=True):\n",
    "    \"\"\"Returns train/test data constructed from the Fibonacci series.\n",
    "\n",
    "    Constructs training and test data (as X and y pairs),  where each row of X\n",
    "    consists of `time_steps` consecutive Fibonacci numbers and each y is the\n",
    "    Fibonacci number immediately following the last one in the corresponding X.\n",
    "\n",
    "    Args:\n",
    "        total_fib_numbers: Total number of terms of the Fibonacci series to use\n",
    "          to draw from to construct X/y pairs. (Excludes the initial 0, 1)\n",
    "        time_steps: Number of terms in each X sample.\n",
    "        train_frac: Fraction of data to designate as the training set.\n",
    "        scale_data: Whether to min-max-scale the data to the (0, 1) range.\n",
    "\n",
    "    Returns:\n",
    "        Shuffled training and testing pairs of (X, y) data and, optionally, a\n",
    "        MinMaxScaler object (or None). The returned X tensors are of dimensions\n",
    "        (num_samples, num_time_steps, num_features = 1).\n",
    "    \"\"\"\n",
    "    data, scaler = get_fib_seq(total_fib_numbers, scale_data)\n",
    "\n",
    "    y_indices = np.arange(time_steps, len(data), 1)\n",
    "    y = data[y_indices]\n",
    "    num_samples = len(y)\n",
    "    X = data[0:num_samples]\n",
    "    for i in range(1, time_steps):\n",
    "        X = np.column_stack((X, data[i : num_samples + i]))\n",
    "\n",
    "    # Now introduce random permutations\n",
    "    rand = np.random.RandomState(seed)\n",
    "    indices = rand.permutation(num_samples)\n",
    "    split = int(train_frac * num_samples)\n",
    "    train_indices = indices[0:split]\n",
    "    test_indices = indices[split:]\n",
    "\n",
    "    X_train = X[train_indices]\n",
    "    y_train = y[train_indices]\n",
    "\n",
    "    X_test = X[test_indices]\n",
    "    y_test = y[test_indices]\n",
    "\n",
    "    X_train = np.reshape(X_train, (len(X_train), time_steps, 1))\n",
    "    X_test = np.reshape(X_test, (len(X_test), time_steps, 1))\n",
    "\n",
    "    return X_train, y_train, X_test, y_test, scaler"
   ]
  },
  {
   "cell_type": "code",
   "execution_count": 67,
   "id": "7e16388e-58eb-40b8-ae29-ba121fff9a98",
   "metadata": {
    "execution": {
     "iopub.execute_input": "2023-06-25T03:59:16.568620Z",
     "iopub.status.busy": "2023-06-25T03:59:16.568282Z",
     "iopub.status.idle": "2023-06-25T03:59:16.572312Z",
     "shell.execute_reply": "2023-06-25T03:59:16.571737Z",
     "shell.execute_reply.started": "2023-06-25T03:59:16.568603Z"
    },
    "tags": []
   },
   "outputs": [
    {
     "data": {
      "text/plain": [
       "(array([[[ 8.],\n",
       "         [13.],\n",
       "         [21.]],\n",
       " \n",
       "        [[ 5.],\n",
       "         [ 8.],\n",
       "         [13.]],\n",
       " \n",
       "        [[ 2.],\n",
       "         [ 3.],\n",
       "         [ 5.]],\n",
       " \n",
       "        [[13.],\n",
       "         [21.],\n",
       "         [34.]],\n",
       " \n",
       "        [[21.],\n",
       "         [34.],\n",
       "         [55.]],\n",
       " \n",
       "        [[34.],\n",
       "         [55.],\n",
       "         [89.]]]),\n",
       " array([ 34.,  21.,   8.,  55.,  89., 144.]),\n",
       " array([[[ 55.],\n",
       "         [ 89.],\n",
       "         [144.]],\n",
       " \n",
       "        [[  1.],\n",
       "         [  2.],\n",
       "         [  3.]],\n",
       " \n",
       "        [[  3.],\n",
       "         [  5.],\n",
       "         [  8.]]]),\n",
       " array([233.,   5.,  13.]),\n",
       " None)"
      ]
     },
     "execution_count": 67,
     "metadata": {},
     "output_type": "execute_result"
    }
   ],
   "source": [
    "get_fib_xy(12, 3, 0.7, False)"
   ]
  },
  {
   "cell_type": "markdown",
   "id": "bb49338e-6f69-4108-b9f2-8768e475fa58",
   "metadata": {},
   "source": [
    "Great! Now let us build a model..."
   ]
  },
  {
   "cell_type": "code",
   "execution_count": 68,
   "id": "2bb36d08-ca58-4fad-b333-17350c8bf546",
   "metadata": {
    "execution": {
     "iopub.execute_input": "2023-06-25T03:59:16.573035Z",
     "iopub.status.busy": "2023-06-25T03:59:16.572913Z",
     "iopub.status.idle": "2023-06-25T03:59:16.576506Z",
     "shell.execute_reply": "2023-06-25T03:59:16.575918Z",
     "shell.execute_reply.started": "2023-06-25T03:59:16.573024Z"
    },
    "tags": []
   },
   "outputs": [],
   "source": [
    "# Set up parameters\n",
    "time_steps = 20\n",
    "hidden_units = 2\n",
    "epochs = 30\n",
    "\n",
    "# Create a traditional RNN network\n",
    "def create_rnn(hidden_units, dense_units, input_shape, activations):\n",
    "    model = Sequential()\n",
    "    model.add(\n",
    "        layers.SimpleRNN(\n",
    "            hidden_units, input_shape=input_shape, activation=activations[0]\n",
    "        )\n",
    "    )\n",
    "    model.add(layers.Dense(dense_units, activation=activations[1]))\n",
    "    model.compile(loss=\"mse\", optimizer=\"adam\")\n",
    "    return model"
   ]
  },
  {
   "cell_type": "code",
   "execution_count": 69,
   "id": "f45b17a9-8e29-49ce-90ea-0fd13455ad5d",
   "metadata": {
    "execution": {
     "iopub.execute_input": "2023-06-25T03:59:16.577448Z",
     "iopub.status.busy": "2023-06-25T03:59:16.577296Z",
     "iopub.status.idle": "2023-06-25T03:59:16.625458Z",
     "shell.execute_reply": "2023-06-25T03:59:16.624978Z",
     "shell.execute_reply.started": "2023-06-25T03:59:16.577434Z"
    },
    "tags": []
   },
   "outputs": [
    {
     "name": "stdout",
     "output_type": "stream",
     "text": [
      "Model: \"sequential_5\"\n",
      "_________________________________________________________________\n",
      " Layer (type)                Output Shape              Param #   \n",
      "=================================================================\n",
      " simple_rnn_5 (SimpleRNN)    (None, 2)                 8         \n",
      "                                                                 \n",
      " dense_5 (Dense)             (None, 1)                 3         \n",
      "                                                                 \n",
      "=================================================================\n",
      "Total params: 11\n",
      "Trainable params: 11\n",
      "Non-trainable params: 0\n",
      "_________________________________________________________________\n"
     ]
    }
   ],
   "source": [
    "model_rnn = create_rnn(\n",
    "    hidden_units=hidden_units,\n",
    "    dense_units=1,\n",
    "    input_shape=(time_steps, 1),\n",
    "    activations=[\"tanh\", \"tanh\"],\n",
    ")\n",
    "model_rnn.summary()"
   ]
  },
  {
   "cell_type": "markdown",
   "id": "68edbf0d-0442-408c-bcdf-e507226ea2f2",
   "metadata": {},
   "source": [
    "Now we are ready to create a larger dataset and train the model on it..."
   ]
  },
  {
   "cell_type": "code",
   "execution_count": 70,
   "id": "ff8d8f7e-cbe1-4fd0-917d-029b515f857d",
   "metadata": {
    "execution": {
     "iopub.execute_input": "2023-06-25T03:59:16.626184Z",
     "iopub.status.busy": "2023-06-25T03:59:16.626060Z",
     "iopub.status.idle": "2023-06-25T03:59:16.631132Z",
     "shell.execute_reply": "2023-06-25T03:59:16.630417Z",
     "shell.execute_reply.started": "2023-06-25T03:59:16.626174Z"
    },
    "tags": []
   },
   "outputs": [],
   "source": [
    "# Generate the dataset\n",
    "X_trian, y_train, X_test, y_test, scaler = get_fib_xy(1200, time_steps, 0.7)"
   ]
  },
  {
   "cell_type": "code",
   "execution_count": 71,
   "id": "a73ae6ed-5e2b-491e-9aeb-5e94bdec7c48",
   "metadata": {
    "execution": {
     "iopub.execute_input": "2023-06-25T03:59:16.632046Z",
     "iopub.status.busy": "2023-06-25T03:59:16.631832Z",
     "iopub.status.idle": "2023-06-25T03:59:36.505644Z",
     "shell.execute_reply": "2023-06-25T03:59:36.505292Z",
     "shell.execute_reply.started": "2023-06-25T03:59:16.632026Z"
    },
    "tags": []
   },
   "outputs": [
    {
     "name": "stdout",
     "output_type": "stream",
     "text": [
      "Epoch 1/30\n",
      "826/826 - 1s - loss: 2.4229e-04 - 1s/epoch - 1ms/step\n",
      "Epoch 2/30\n",
      "826/826 - 1s - loss: 1.8470e-04 - 650ms/epoch - 787us/step\n",
      "Epoch 3/30\n",
      "826/826 - 1s - loss: 1.3825e-04 - 651ms/epoch - 788us/step\n",
      "Epoch 4/30\n",
      "826/826 - 1s - loss: 1.0765e-04 - 656ms/epoch - 795us/step\n",
      "Epoch 5/30\n",
      "826/826 - 1s - loss: 8.9705e-05 - 635ms/epoch - 769us/step\n",
      "Epoch 6/30\n",
      "826/826 - 1s - loss: 7.1903e-05 - 628ms/epoch - 760us/step\n",
      "Epoch 7/30\n",
      "826/826 - 1s - loss: 6.4769e-05 - 624ms/epoch - 755us/step\n",
      "Epoch 8/30\n",
      "826/826 - 1s - loss: 6.4774e-05 - 648ms/epoch - 785us/step\n",
      "Epoch 9/30\n",
      "826/826 - 1s - loss: 5.9154e-05 - 643ms/epoch - 779us/step\n",
      "Epoch 10/30\n",
      "826/826 - 1s - loss: 5.9940e-05 - 626ms/epoch - 758us/step\n",
      "Epoch 11/30\n",
      "826/826 - 1s - loss: 5.6688e-05 - 624ms/epoch - 756us/step\n",
      "Epoch 12/30\n",
      "826/826 - 1s - loss: 5.6964e-05 - 624ms/epoch - 755us/step\n",
      "Epoch 13/30\n",
      "826/826 - 1s - loss: 5.7613e-05 - 616ms/epoch - 746us/step\n",
      "Epoch 14/30\n",
      "826/826 - 1s - loss: 5.7043e-05 - 619ms/epoch - 750us/step\n",
      "Epoch 15/30\n",
      "826/826 - 1s - loss: 5.5587e-05 - 618ms/epoch - 749us/step\n",
      "Epoch 16/30\n",
      "826/826 - 1s - loss: 5.6166e-05 - 617ms/epoch - 747us/step\n",
      "Epoch 17/30\n",
      "826/826 - 1s - loss: 5.5609e-05 - 620ms/epoch - 751us/step\n",
      "Epoch 18/30\n",
      "826/826 - 1s - loss: 5.8337e-05 - 637ms/epoch - 771us/step\n",
      "Epoch 19/30\n",
      "826/826 - 1s - loss: 5.6591e-05 - 626ms/epoch - 758us/step\n",
      "Epoch 20/30\n",
      "826/826 - 1s - loss: 5.5061e-05 - 661ms/epoch - 801us/step\n",
      "Epoch 21/30\n",
      "826/826 - 1s - loss: 5.5159e-05 - 698ms/epoch - 845us/step\n",
      "Epoch 22/30\n",
      "826/826 - 1s - loss: 5.4474e-05 - 705ms/epoch - 854us/step\n",
      "Epoch 23/30\n",
      "826/826 - 1s - loss: 5.3994e-05 - 686ms/epoch - 830us/step\n",
      "Epoch 24/30\n",
      "826/826 - 1s - loss: 5.5517e-05 - 674ms/epoch - 817us/step\n",
      "Epoch 25/30\n",
      "826/826 - 1s - loss: 5.3862e-05 - 668ms/epoch - 809us/step\n",
      "Epoch 26/30\n",
      "826/826 - 1s - loss: 5.5806e-05 - 633ms/epoch - 766us/step\n",
      "Epoch 27/30\n",
      "826/826 - 1s - loss: 5.3902e-05 - 676ms/epoch - 819us/step\n",
      "Epoch 28/30\n",
      "826/826 - 1s - loss: 5.4746e-05 - 669ms/epoch - 810us/step\n",
      "Epoch 29/30\n",
      "826/826 - 1s - loss: 5.3673e-05 - 675ms/epoch - 818us/step\n",
      "Epoch 30/30\n",
      "826/826 - 1s - loss: 5.3544e-05 - 672ms/epoch - 814us/step\n"
     ]
    },
    {
     "data": {
      "text/plain": [
       "<keras.callbacks.History at 0x16dd73dc0>"
      ]
     },
     "execution_count": 71,
     "metadata": {},
     "output_type": "execute_result"
    }
   ],
   "source": [
    "model_rnn.fit(X_trian, y_train, epochs=epochs, batch_size=1, verbose=2)"
   ]
  },
  {
   "cell_type": "code",
   "execution_count": 72,
   "id": "578b886b-43e6-4464-927e-1d0a2f1a2d55",
   "metadata": {
    "execution": {
     "iopub.execute_input": "2023-06-25T03:59:36.506321Z",
     "iopub.status.busy": "2023-06-25T03:59:36.506192Z",
     "iopub.status.idle": "2023-06-25T03:59:36.673955Z",
     "shell.execute_reply": "2023-06-25T03:59:36.673567Z",
     "shell.execute_reply.started": "2023-06-25T03:59:36.506310Z"
    },
    "tags": []
   },
   "outputs": [
    {
     "name": "stdout",
     "output_type": "stream",
     "text": [
      "26/26 [==============================] - 0s 731us/step - loss: 4.6478e-05\n",
      "12/12 [==============================] - 0s 671us/step - loss: 2.5591e-05\n",
      "Train set MSE =  4.647787136491388e-05\n",
      "Test set MSE =  2.5590516088414006e-05\n"
     ]
    }
   ],
   "source": [
    "# Evaluate the model\n",
    "train_mse = model_rnn.evaluate(X_trian, y_train)\n",
    "test_mse = model_rnn.evaluate(X_test, y_test)\n",
    "print(\"Train set MSE = \", train_mse)\n",
    "print(\"Test set MSE = \", test_mse)"
   ]
  },
  {
   "cell_type": "markdown",
   "id": "38d5bf6e-2161-4b34-bfa4-1c2f4ef7c1b3",
   "metadata": {},
   "source": [
    "## 9.3 Adding a Custom Attention Layer to the Network"
   ]
  },
  {
   "cell_type": "markdown",
   "id": "a3c0f5bf-fa90-4ab5-9a37-1b2aba2ecf0d",
   "metadata": {},
   "source": []
  }
 ],
 "metadata": {
  "kernelspec": {
   "display_name": "Python 3 (ipykernel)",
   "language": "python",
   "name": "python3"
  },
  "language_info": {
   "codemirror_mode": {
    "name": "ipython",
    "version": 3
   },
   "file_extension": ".py",
   "mimetype": "text/x-python",
   "name": "python",
   "nbconvert_exporter": "python",
   "pygments_lexer": "ipython3",
   "version": "3.10.6"
  }
 },
 "nbformat": 4,
 "nbformat_minor": 5
}

{
 "cells": [
  {
   "cell_type": "markdown",
   "id": "e2269a99-856f-4ec9-a9de-8dd685f43186",
   "metadata": {},
   "source": [
    "# 15 Implementing Scaled Dot-Product Attention in Keras"
   ]
  },
  {
   "cell_type": "code",
   "execution_count": 4,
   "id": "ede5a9a9-6a02-4db9-8baf-77de23d3a213",
   "metadata": {
    "execution": {
     "iopub.execute_input": "2023-08-25T01:11:52.942542Z",
     "iopub.status.busy": "2023-08-25T01:11:52.941649Z",
     "iopub.status.idle": "2023-08-25T01:11:52.954451Z",
     "shell.execute_reply": "2023-08-25T01:11:52.953812Z",
     "shell.execute_reply.started": "2023-08-25T01:11:52.942502Z"
    },
    "tags": []
   },
   "outputs": [],
   "source": [
    "from keras.backend import softmax\n",
    "from tensorflow import cast, float32, math, matmul\n",
    "from tensorflow.keras.layers import Layer\n",
    "from numpy import random"
   ]
  },
  {
   "cell_type": "markdown",
   "id": "7f748b45-c55f-433d-a91d-b236cd03b1f6",
   "metadata": {},
   "source": [
    "## 15.1 Recap of the Transformer Architecture"
   ]
  },
  {
   "cell_type": "markdown",
   "id": "6eca6391-0ade-457c-8041-a255c2b81e9b",
   "metadata": {},
   "source": [
    "The encoder and the decoder share much of their architecture. At the heart of their numerous, stacked, multi-head attention blocks is the *scaled dot-product attention* mechanism.\n",
    "In the multi-head attention block of the encoder, the query, key and value vectors (which form the Query, Key and Value matrices once concatenated) are simply the encoded and embedded (see ch. 14) input sequence. Similarly, on the decoder side, the first attention block gets the encoded/embedded _target_ sequence in the form of query, key and value vectors. However, the _second_ attention block receives the final output of the encoder block for its keys and values but uses the [normalized] output of its own first attention block as its queries. (The latter can be thought of as the decoder output from the \"previous time step\", but do keep in mind that there is no recurrence here and everything is fed to the model all at once). \n",
    "We will denote the dimensionality of queries and keys with $d_k$ and that of values with $d_v$.\n",
    "First we calculate the matrix multiplication of $Q$ and $K^T$ (which is equivalent to calculating the dot products of query and key _vectors_). Then we scale the result by the square root of $d_k$ to get the _attention scores_. We feed the result to the $softmax$ function to get _attention weights_. And finally, we scale the the value vectors by matrix-multiplying the result with $V$.\n",
    "$$attention(Q, K, V) = softmax\\left(\\frac{QK^T}{\\sqrt{d_k}}\\right)V$$"
   ]
  },
  {
   "cell_type": "markdown",
   "id": "a47e465a-b2d6-4559-b8a2-86345d5fe7a0",
   "metadata": {},
   "source": [
    "A \"mask\" can optionally be applied to the attention scores before they are fed to the $softmax$ function. Here are two conceivable applications for this:  \n",
    "- A \"look-ahead mask\" (as in the first attention block of the decoder) can prevent the model from, you guessed it, \"looking ahead\" and attending to succeeding tokens in the target sequence. (\"Succeeding\" in the sense that it has not yet reached them and output(ted) a prediction for those positions in the target sequence).\n",
    "- A \"padding mask\" can prevent the padding (often zero) tokens from being processed along with meaningful tokens both in the encoder and decoder stages.\n",
    "Masking works by replacing the attention scores to be masked with $-\\infty$ so that $softmax$ will result in zeros for those positions."
   ]
  },
  {
   "cell_type": "markdown",
   "id": "a10c8c75-14bf-48df-b152-6e860cb3681d",
   "metadata": {},
   "source": [
    "## 15.2 Implementing the Scaled Dot-Product Attention from Scratch"
   ]
  },
  {
   "cell_type": "code",
   "execution_count": 7,
   "id": "e94e6dc1-7ca5-48ee-977c-9488a743730d",
   "metadata": {
    "execution": {
     "iopub.execute_input": "2023-08-25T01:13:58.882201Z",
     "iopub.status.busy": "2023-08-25T01:13:58.881354Z",
     "iopub.status.idle": "2023-08-25T01:13:58.905725Z",
     "shell.execute_reply": "2023-08-25T01:13:58.904712Z",
     "shell.execute_reply.started": "2023-08-25T01:13:58.882163Z"
    },
    "tags": []
   },
   "outputs": [],
   "source": [
    "# Implementing the Scaled Dot Product Attention\n",
    "class DotProductAttention(Layer):\n",
    "    def __init__(self, **kwargs):\n",
    "        super().__init__(**kwargs)\n",
    "\n",
    "    def call(self, queries, keys, values, d_k, mask=None):\n",
    "        # Score the queries against the keys after transposing the latter, and then scale\n",
    "        scores = matmul(queries, keys, transpose_b=True) / math.sqrt(cast(d_k, float32))\n",
    "        # Apply mask to the attention scores\n",
    "        if mask is not None:\n",
    "            scores += float(\"-inf\") * mask\n",
    "        # Compute the weights using a softmax operation\n",
    "        weights = softmax(scores)\n",
    "        # Compute attention by a weighted sum of the value vectors\n",
    "        return matmul(weights, values)"
   ]
  },
  {
   "cell_type": "markdown",
   "id": "02385bb8-7f45-4e17-b57e-35def29c8d52",
   "metadata": {},
   "source": [
    "## 15.3 Testing Out the Code"
   ]
  },
  {
   "cell_type": "code",
   "execution_count": 30,
   "id": "525e2244-53a3-40f4-b40f-8e48efaa1d9d",
   "metadata": {
    "execution": {
     "iopub.execute_input": "2023-08-25T01:14:18.295289Z",
     "iopub.status.busy": "2023-08-25T01:14:18.293966Z",
     "iopub.status.idle": "2023-08-25T01:14:18.316131Z",
     "shell.execute_reply": "2023-08-25T01:14:18.315013Z",
     "shell.execute_reply.started": "2023-08-25T01:14:18.295220Z"
    },
    "tags": []
   },
   "outputs": [
    {
     "name": "stdout",
     "output_type": "stream",
     "text": [
      "tf.Tensor(\n",
      "[[[0.37687194 0.42425776 0.40963838 ... 0.5839578  0.32307482 0.7153933 ]\n",
      "  [0.39388978 0.3984782  0.42378533 ... 0.5752644  0.31323692 0.7163614 ]\n",
      "  [0.37789828 0.41287902 0.41379955 ... 0.5935992  0.31470624 0.72527605]\n",
      "  [0.37479573 0.4177801  0.42555138 ... 0.5980845  0.31870538 0.7384004 ]\n",
      "  [0.38047948 0.42033958 0.43337804 ... 0.5881334  0.31998193 0.7339838 ]]\n",
      "\n",
      " [[0.66044503 0.47343627 0.3590861  ... 0.61529505 0.8354962  0.47700217]\n",
      "  [0.65794665 0.49121913 0.34872597 ... 0.6100477  0.8346374  0.4796377 ]\n",
      "  [0.6600553  0.48846138 0.324326   ... 0.59198326 0.838455   0.46564752]\n",
      "  [0.66188097 0.47298568 0.35112163 ... 0.6091814  0.83281344 0.48945424]\n",
      "  [0.6658252  0.46457112 0.32625848 ... 0.59076834 0.83756536 0.47890344]]\n",
      "\n",
      " [[0.6367261  0.7159094  0.6269977  ... 0.3774765  0.2877917  0.56857604]\n",
      "  [0.6354828  0.7148559  0.62548065 ... 0.38535112 0.2851437  0.5614736 ]\n",
      "  [0.64709723 0.7224838  0.60133654 ... 0.39898255 0.28389564 0.57082427]\n",
      "  [0.63750595 0.72349733 0.6099752  ... 0.375354   0.29232132 0.5775519 ]\n",
      "  [0.6493143  0.71994174 0.5990229  ... 0.3940227  0.2815042  0.5670896 ]]\n",
      "\n",
      " ...\n",
      "\n",
      " [[0.45265445 0.3748323  0.5143703  ... 0.22838242 0.46277755 0.49104154]\n",
      "  [0.45508835 0.38955915 0.5118675  ... 0.23593134 0.46433222 0.48217165]\n",
      "  [0.45048207 0.38670358 0.51339626 ... 0.23452263 0.44494724 0.48867416]\n",
      "  [0.4254553  0.3897003  0.5224567  ... 0.22330551 0.4382719  0.5144132 ]\n",
      "  [0.45819193 0.38062078 0.52158433 ... 0.21783271 0.46605372 0.4961626 ]]\n",
      "\n",
      " [[0.5558299  0.52879065 0.49910578 ... 0.28754526 0.47797513 0.59522307]\n",
      "  [0.5934686  0.5014924  0.51023513 ... 0.29555294 0.47392341 0.58907604]\n",
      "  [0.6034785  0.51415294 0.5040026  ... 0.29176772 0.4732701  0.5814862 ]\n",
      "  [0.5797047  0.51966196 0.49910775 ... 0.28867212 0.4800234  0.5857669 ]\n",
      "  [0.55197257 0.52730685 0.49233443 ... 0.28422698 0.48529595 0.59384   ]]\n",
      "\n",
      " [[0.5794167  0.49773106 0.4283335  ... 0.354715   0.5984349  0.61951476]\n",
      "  [0.55924517 0.52721614 0.4233484  ... 0.3643982  0.586593   0.61661446]\n",
      "  [0.5719557  0.51477647 0.43172637 ... 0.34688202 0.58334386 0.616645  ]\n",
      "  [0.5673926  0.5241393  0.42028752 ... 0.36746037 0.57842284 0.60351545]\n",
      "  [0.56572074 0.53087574 0.42432576 ... 0.36770323 0.58316785 0.6161065 ]]], shape=(64, 5, 64), dtype=float32)\n"
     ]
    }
   ],
   "source": [
    "d_k = 64 # Dimensionality of the linearly projected queries and keys\n",
    "d_v = 64 # Dimensionality of the linearly projected values\n",
    "batch_size = 64 # Batch size from the training process\n",
    "\n",
    "# Dummy data follows...\n",
    "# In reality, these would be obtained from the tokenized and then embedded sequences.\n",
    "input_seq_length = 5 # Maximum length of the input sequence\n",
    "queries = random.random((batch_size, input_seq_length, d_k))\n",
    "keys = random.random((batch_size, input_seq_length, d_k))\n",
    "values = random.random((batch_size, input_seq_length, d_v))\n",
    "\n",
    "attention = DotProductAttention()\n",
    "print(attention(queries, keys, values, d_k))"
   ]
  },
  {
   "cell_type": "markdown",
   "id": "3ba167a4-546f-463b-adfa-2bc2829d4a8d",
   "metadata": {},
   "source": [
    "**Note:** The output shape is `(batch size, sequence length, dim_values)`."
   ]
  }
 ],
 "metadata": {
  "kernelspec": {
   "display_name": "Python 3 (ipykernel)",
   "language": "python",
   "name": "python3"
  },
  "language_info": {
   "codemirror_mode": {
    "name": "ipython",
    "version": 3
   },
   "file_extension": ".py",
   "mimetype": "text/x-python",
   "name": "python",
   "nbconvert_exporter": "python",
   "pygments_lexer": "ipython3",
   "version": "3.10.6"
  }
 },
 "nbformat": 4,
 "nbformat_minor": 5
}

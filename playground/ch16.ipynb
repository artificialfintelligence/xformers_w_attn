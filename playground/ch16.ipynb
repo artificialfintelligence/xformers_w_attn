{
 "cells": [
  {
   "cell_type": "markdown",
   "id": "e2592246-54bd-479b-bca0-0ed3c008bdd1",
   "metadata": {},
   "source": [
    "# 16 Implementing Multi-Head Attention in Keras"
   ]
  },
  {
   "cell_type": "code",
   "execution_count": 1,
   "id": "5f73e73f-510f-4fac-bf4a-9a45708b71ac",
   "metadata": {
    "execution": {
     "iopub.execute_input": "2023-08-31T00:13:15.513974Z",
     "iopub.status.busy": "2023-08-31T00:13:15.511915Z",
     "iopub.status.idle": "2023-08-31T00:13:18.722791Z",
     "shell.execute_reply": "2023-08-31T00:13:18.722474Z",
     "shell.execute_reply.started": "2023-08-31T00:13:15.513781Z"
    },
    "tags": []
   },
   "outputs": [],
   "source": [
    "import numpy as np\n",
    "from tensorflow import cast, float32, math, matmul, reshape, shape, transpose\n",
    "from tensorflow.keras.backend import softmax\n",
    "from tensorflow.keras.layers import Dense, Layer\n",
    "\n",
    "random_seed = 42"
   ]
  },
  {
   "cell_type": "markdown",
   "id": "8cc92a6b-2565-403f-bb66-c00497437096",
   "metadata": {},
   "source": [
    "# 16.1 Recap of Multi-Head Attention"
   ]
  },
  {
   "cell_type": "markdown",
   "id": "0457e02a-f680-48bb-8baa-484fd175dfd3",
   "metadata": {},
   "source": [
    "Okay, so actually we left out some pretty important details in Ch. 15 but we'll go over them now.  \n",
    "\n",
    "First off, within each attention block there are actually multiple attention mechanisms (\"heads\") working in parallel (literally, the input is fed to them in parallel). This, in theory, allows the model to pay various \"kinds\" of attention. In the NLP context, you could think of this as allowing the model to extract various \"aspects\" or \"qualities\" (e.g. temporal, gender, cardinality, et cetera) of words in the sequence from the word embeddings during training.  \n",
    "\n",
    "Secondly, there are multiple \"linear projection matrices\". There is one per attention head for each of Q, K and V. Essentially these are trainable weight matrices for queries, keys and values that generate different subspace representations of them. Each attention head then works on of these projected versions of Q, K and V. There is also one right at the end which produces a projection of the concatenated outputs of all the different heads. Once again, these weights are learned during training. (You can think of each as a Dense/FF layer.  \n",
    "\n",
    "Did you catch that?! The outputs of the various scaled dot product attention heads is joined via a concatenation operation. That is the third important detail.  \n",
    "\n",
    "By the way, in the AIAYN transformer they had 8 attention heads. And one more thing that we only mentioned in passing is that the \"encoder block\" and \"decoder block\" are actually _stacks_ of architecturally identical blocks. In the AIAYN paper they had 6 of them. I guess we'll get to that eventually, when we code up the entire transformer.  \n",
    "\n",
    "**Note:** There is nothing magical about the aforementioned numbers (`6` and `8`)."
   ]
  },
  {
   "cell_type": "markdown",
   "id": "5f518684-6011-471d-8c76-2050590d4324",
   "metadata": {},
   "source": [
    "## 16.2 Implementing Multi-Head Attention from Scratch"
   ]
  },
  {
   "cell_type": "markdown",
   "id": "5d21e8c3-69e8-4418-8110-b3a74b9a03e8",
   "metadata": {},
   "source": [
    "First, let us import our scaled dot-product attention layer from the previous chapter."
   ]
  },
  {
   "cell_type": "code",
   "execution_count": 2,
   "id": "69ea91fc-668c-44e9-b4b6-dd548fbac659",
   "metadata": {
    "execution": {
     "iopub.execute_input": "2023-08-31T00:13:18.723887Z",
     "iopub.status.busy": "2023-08-31T00:13:18.723681Z",
     "iopub.status.idle": "2023-08-31T00:13:18.726469Z",
     "shell.execute_reply": "2023-08-31T00:13:18.726216Z",
     "shell.execute_reply.started": "2023-08-31T00:13:18.723876Z"
    },
    "tags": []
   },
   "outputs": [],
   "source": [
    "class DotProductAttention(Layer):\n",
    "    def __init__(self, **kwargs):\n",
    "        super().__init__(**kwargs)\n",
    "\n",
    "    def call(self, queries, keys, values, mask=None):\n",
    "        d_k = shape(keys)[-1]\n",
    "        # Score the queries against the keys after transposing the latter, and then scale\n",
    "        scores = matmul(queries, keys, transpose_b=True) / math.sqrt(\n",
    "            cast(d_k, float32)\n",
    "        )\n",
    "        # Apply mask to the attention scores\n",
    "        if mask is not None:\n",
    "            scores += float(\"-inf\") * mask\n",
    "        # Compute the weights using a softmax operation\n",
    "        weights = softmax(scores)\n",
    "        # Compute attention by a weighted sum of the value vectors\n",
    "        return matmul(weights, values)"
   ]
  },
  {
   "cell_type": "markdown",
   "id": "7d45e49f-62ca-4348-9627-2f2651447706",
   "metadata": {},
   "source": [
    "Now we proceed to define our Multi-Head Attention layer. Things are about to get very, VERY messy and confusing. Part 3 of the \"Transformers Explained Visually\" series on Towards Data Science ([here](https://towardsdatascience.com/transformers-explained-visually-part-3-multi-head-attention-deep-dive-1c1ff1024853)) was extremely helpful in understanding what is about to come. (A word of warning: Although the images on that page help immensely in clarifying the logic, the visual representations of dimensions, i.e. the _visual_ height/width/depth of lines, are _not_ to be taken too literally. Focus on the dimension labels instead).  \n",
    "\n",
    "Here's what's about to happen: The outputs of the linear layers that produce the Q, K and V matrices, that is to say the Q, K and V matrices themselves, are going to be \"split\" between the different attention heads. But this is _not_ a \"physical\" split. It is a \"logical\" one. That is to say, each attention head is going to process logically separate sections of the _same, single_ Q (or K or V) matrix. So, in effect, all attention heads share the same linear layer, but operate on their \"own\" logical section of each data matrix. This is just so that the computations of all attention heads can be performed in a single matrix operation rather than N separate operations (vectorization/parallelization ftw). This keeps the model simple (due to fewer linear layers being needed) while achieving the power of independent attention heads.  \n",
    "\n",
    "Let's forget about the `batch_size` dimension for now (but keep it in the background of our minds!) and focus on one example input/target sequence for simplicity. The single example embedded sequence comes in to the linear layer with dimensions $(L_{seq} \\times d_{model})$, gets matrix-multiplied by the $(d_{model} \\times d_{model})$ `W_q`, `W_k` and `W_v` matrices to yield the Q, K and V matrices, still of dimensions $(L_{seq} \\times d_{model})$. Then these get reshaped. How? Let's focus on the query matrix Q (the other two follow an identical logic). If we have $h$ heads, then let $s = d_{model} \\div h$. We will first reshape our Q to have dimensions $(L_{seq} \\times h \\times s)$, then reshape it again to have dimensions $(h \\times L_{seq} \\times s)$.  \n",
    "Again, it doesn't matter why they are \"physically\" split like this. What matters are the _logical_ splits, and those are visualized quite well in the article linked to earlier.  \n",
    "\n",
    "I told you this was going to get messy! But fortunately we don't have to keep track of everything as `tf.reshape()` will take care of the grunt work for us.  "
   ]
  },
  {
   "cell_type": "markdown",
   "id": "0888d084-669c-43cf-aa70-ae24f843d2f4",
   "metadata": {},
   "source": [
    "In short: \n",
    "- We need to reshape the linearly projected queries, keys, and values so that attention heads can work in parallel.\n",
    "- Queries, keys and values come in with dimensions `(batch_size, seq_length, d_model)`.\n",
    "- They are then linearly projected to dimensions `(batch_size, seq_length, d_?)` where `?` is `q`, `k` or `v`.\n",
    "- Then they are rearranged to have dimensions `(batch_size, n_heads, seq_length, depth)` using the helper method `reshape_tensor()`. (Note: `depth` is the same thing as $s$ above and `n_heads` is just $h$).  \n",
    "  But this is done in two steps:\n",
    "  - First they're reshaped to dimensions `(batch_size, seq_length, n_heads, depth)`.\n",
    "  - Then the second and third dimensions are transposed.  \n",
    "  \n",
    "With all of that said and done, `d_k` and `d_v` below will both equal `d_model / h`. To be honest, I'm not sure why they are allowed to have static, independent values in the code from the book I'm following. The book doesn't have the clearest explanations (hence all the other resources I find, study and link to). I guess they were trying to conserve generality, and to be fair, the AIAYN paper does the same, but both fail to explain how this can be useful. In any case, going forward I will modify their code and impose the AIAYN implementation where $d_k = d_v = d_{model} / h$.  \n",
    "\n",
    "**Notes**:\n",
    "1. Notice how the number of parameters for multi-head attention is the same as the number of parameters in the equivalent single-head attention. The parameters are merely divided between heads.  \n",
    "2. We could have split the _input_ matrices (i.e. the queries, keys and values themselves) between the attention heads _before_ linearly projecting them to get Q, K and V. We would have achieved the same result. But the way we've done it is more streamlined.  \n",
    "3. The `reshape_tensor()` method below also has a 'flag' argument that allows us to undo (revert) the operation. This is useful for \"stitching\" (concatenating) the outputs of all the attention heads back together."
   ]
  },
  {
   "cell_type": "code",
   "execution_count": 3,
   "id": "ce77153a-ac5b-4a1a-84d9-546ee59c3ec1",
   "metadata": {
    "execution": {
     "iopub.execute_input": "2023-08-31T00:13:18.727050Z",
     "iopub.status.busy": "2023-08-31T00:13:18.726929Z",
     "iopub.status.idle": "2023-08-31T00:13:18.733624Z",
     "shell.execute_reply": "2023-08-31T00:13:18.733145Z",
     "shell.execute_reply.started": "2023-08-31T00:13:18.727042Z"
    },
    "tags": []
   },
   "outputs": [],
   "source": [
    "class MultiHeadAttention(Layer):\n",
    "    def __init__(self, n_heads, d_model, **kwargs):\n",
    "        super().__init__(**kwargs)\n",
    "\n",
    "        assert d_model % n_heads == 0\n",
    "        d_k = d_model // n_heads\n",
    "        # We assume d_v always equals d_k\n",
    "        d_v = d_k\n",
    "\n",
    "        self.attention = DotProductAttention()  # Scaled dot product attention\n",
    "        self.n_heads = n_heads  # Number of attention heads\n",
    "        self.d_k = d_k  # Dim of the linearly projected queries and keys\n",
    "        self.d_v = d_v  # Dim of the linearly projected values\n",
    "        self.W_q = Dense(d_k)  # Learned projection matrix for the queries, ...\n",
    "        self.W_k = Dense(d_k)  # ... for the keys\n",
    "        self.W_v = Dense(d_v)  # ... for the values\n",
    "        self.W_o = Dense(d_model)  # ... for the multi-head output\n",
    "\n",
    "    def reshape_tensor(self, x, n_heads, do_split_flag):\n",
    "        if do_split_flag:\n",
    "            # Tensor shape after reshaping and transposing:\n",
    "            # (batch_size, n_heads, seq_length, -1)\n",
    "            x = reshape(x, shape=(shape(x)[0], shape(x)[1], n_heads, -1))\n",
    "            x = transpose(x, perm=(0, 2, 1, 3))\n",
    "        else:\n",
    "            # Reverting the reshaping and transposing operations:\n",
    "            # (batch_size, seq_length, d_model)\n",
    "            x = transpose(x, perm=(0, 2, 1, 3))\n",
    "            x = reshape(x, shape=(shape(x)[0], shape(x)[1], -1))\n",
    "        return x\n",
    "\n",
    "    def call(self, queries, keys, values, mask=None):\n",
    "        # Rearrange the queries to be able to compute all heads in parallel\n",
    "        q_reshaped = self.reshape_tensor(self.W_q(queries), self.n_heads, True)\n",
    "        # Resulting tensor shape: (batch_size, n_heads, input_seq_length, -1)\n",
    "\n",
    "        # Rearrange the keys to be able to compute all heads in parallel\n",
    "        k_reshaped = self.reshape_tensor(self.W_k(keys), self.n_heads, True)\n",
    "        # Resulting tensor shape: (batch_size, n_heads, input_seq_length, -1)\n",
    "\n",
    "        # Rearrange the values to be able to compute all heads in parallel\n",
    "        v_reshaped = self.reshape_tensor(self.W_v(values), self.n_heads, True)\n",
    "        # Resulting tensor shape: (batch_size, n_heads, input_seq_length, -1)\n",
    "\n",
    "        # Compute the multi-head attention output using the reshaped queries, keys,\n",
    "        # and values\n",
    "        o_reshaped = self.attention(q_reshaped, k_reshaped, v_reshaped, mask)\n",
    "        # Resulting tensor shape: (batch_size, n_heads, input_seq_length, -1)\n",
    "\n",
    "        # Rearrange back the output into concatenated form\n",
    "        output = self.reshape_tensor(o_reshaped, self.n_heads, False)\n",
    "        # Resulting tensor shape: (batch_size, input_seq_length, d_v)\n",
    "\n",
    "        # Apply one final linear projection to the output to generate the multi-head\n",
    "        # attention. Resulting tensor shape: (batch_size, input_seq_length, d_model)\n",
    "        return self.W_o(output)"
   ]
  },
  {
   "cell_type": "markdown",
   "id": "039916da-4ea5-4033-a7c7-d07842419f27",
   "metadata": {},
   "source": [
    "## 16.3 Testing Out the Code"
   ]
  },
  {
   "cell_type": "code",
   "execution_count": 4,
   "id": "01c0d8ea-1f04-493c-af90-a93d5ccb1aeb",
   "metadata": {
    "execution": {
     "iopub.execute_input": "2023-08-31T00:13:18.734508Z",
     "iopub.status.busy": "2023-08-31T00:13:18.734352Z",
     "iopub.status.idle": "2023-08-31T00:13:18.807841Z",
     "shell.execute_reply": "2023-08-31T00:13:18.807538Z",
     "shell.execute_reply.started": "2023-08-31T00:13:18.734495Z"
    },
    "tags": []
   },
   "outputs": [
    {
     "name": "stdout",
     "output_type": "stream",
     "text": [
      "tf.Tensor(\n",
      "[[[-3.44448477e-01 -1.26906291e-01 -4.90741730e-01 ...  1.70948014e-01\n",
      "   -4.15901244e-01  2.52638031e-02]\n",
      "  [-3.48429680e-01 -1.35813400e-01 -5.00310183e-01 ...  1.69042125e-01\n",
      "   -4.36075926e-01  2.74625812e-02]\n",
      "  [-3.39232743e-01 -1.38076842e-01 -5.10303080e-01 ...  1.62211403e-01\n",
      "   -4.29142535e-01  1.07904440e-02]\n",
      "  [-3.42865258e-01 -1.31899744e-01 -5.15610754e-01 ...  1.53450534e-01\n",
      "   -4.29009199e-01  1.72547996e-02]\n",
      "  [-3.49529505e-01 -1.39062211e-01 -5.10317564e-01 ...  1.62315860e-01\n",
      "   -4.47721153e-01  1.52154537e-02]]\n",
      "\n",
      " [[-5.27540863e-01 -1.44475000e-02 -5.14219701e-01 ...  5.68447411e-02\n",
      "   -1.20423414e-01  1.45932138e-01]\n",
      "  [-5.25400162e-01 -2.02149265e-02 -5.15963018e-01 ...  5.42739779e-02\n",
      "   -1.61717236e-01  1.27147451e-01]\n",
      "  [-5.14015496e-01 -6.53385883e-03 -4.82632220e-01 ...  6.39686361e-02\n",
      "   -1.28856763e-01  1.49935693e-01]\n",
      "  [-5.12282610e-01  5.16756019e-03 -5.11995554e-01 ...  5.19923456e-02\n",
      "   -9.30917040e-02  1.65984333e-01]\n",
      "  [-5.33304155e-01 -1.55136380e-02 -4.98897493e-01 ...  5.43930456e-02\n",
      "   -1.25955313e-01  1.40761286e-01]]\n",
      "\n",
      " [[-4.83337700e-01  2.14641690e-02 -5.58917344e-01 ...  3.26788783e-01\n",
      "   -2.42042080e-01  9.59076658e-02]\n",
      "  [-4.94043261e-01 -8.03426560e-03 -5.69591880e-01 ...  3.33078235e-01\n",
      "   -2.33146533e-01  7.58895054e-02]\n",
      "  [-5.11616051e-01  1.93538610e-02 -5.45861185e-01 ...  3.41008395e-01\n",
      "   -2.15341046e-01  9.64441970e-02]\n",
      "  [-5.09078145e-01  3.69965397e-02 -5.74149430e-01 ...  3.20522308e-01\n",
      "   -2.30347827e-01  1.08313456e-01]\n",
      "  [-4.79029685e-01  8.27551633e-03 -5.66960812e-01 ...  3.41868490e-01\n",
      "   -2.45649964e-01  1.00298010e-01]]\n",
      "\n",
      " ...\n",
      "\n",
      " [[-5.11399090e-01 -1.76530834e-02 -4.99619961e-01 ...  2.21400589e-01\n",
      "   -2.25450382e-01  1.37417734e-01]\n",
      "  [-5.04302800e-01 -1.82074215e-02 -4.95888948e-01 ...  2.20471352e-01\n",
      "   -2.22896188e-01  1.25225484e-01]\n",
      "  [-5.03587008e-01 -2.30816249e-02 -4.96682525e-01 ...  2.23146364e-01\n",
      "   -2.30487376e-01  1.12576380e-01]\n",
      "  [-5.20181298e-01  2.98038567e-03 -4.84532982e-01 ...  1.73165455e-01\n",
      "   -2.25700259e-01  1.27902910e-01]\n",
      "  [-5.22984803e-01 -2.16653440e-02 -4.96569484e-01 ...  1.96560517e-01\n",
      "   -2.19343886e-01  1.44907027e-01]]\n",
      "\n",
      " [[-6.56149566e-01  3.31712849e-02 -4.88271296e-01 ...  1.71349794e-01\n",
      "   -1.93484053e-01  2.26466283e-01]\n",
      "  [-6.73709512e-01  2.09615976e-02 -4.68558639e-01 ...  1.67560175e-01\n",
      "   -1.72969744e-01  2.46774465e-01]\n",
      "  [-6.75046563e-01  2.94938143e-02 -4.65677112e-01 ...  1.99948579e-01\n",
      "   -1.74804807e-01  2.46223316e-01]\n",
      "  [-6.62483096e-01  1.29957199e-02 -4.75330859e-01 ...  1.82875231e-01\n",
      "   -1.80731609e-01  2.50414312e-01]\n",
      "  [-6.71608269e-01  2.70549525e-02 -4.79755759e-01 ...  1.84130207e-01\n",
      "   -1.92564681e-01  2.52862245e-01]]\n",
      "\n",
      " [[-4.73619998e-01 -4.61893273e-04 -5.18632472e-01 ...  1.20037988e-01\n",
      "   -2.24200428e-01  1.72310308e-01]\n",
      "  [-4.27139401e-01 -3.12240943e-02 -5.28701782e-01 ...  1.26336887e-01\n",
      "   -2.49164402e-01  1.62794247e-01]\n",
      "  [-4.40701067e-01 -1.36025492e-02 -5.17138302e-01 ...  1.31025746e-01\n",
      "   -2.55042851e-01  1.85940742e-01]\n",
      "  [-4.30474311e-01 -3.80987674e-02 -5.00703037e-01 ...  1.15919955e-01\n",
      "   -2.51553178e-01  1.72888353e-01]\n",
      "  [-4.48528260e-01 -2.84532141e-02 -5.27823269e-01 ...  1.31898314e-01\n",
      "   -2.25183502e-01  2.04820350e-01]]], shape=(64, 5, 512), dtype=float32)\n"
     ]
    }
   ],
   "source": [
    "input_seq_length = 5  # Maximum length of the input sequence\n",
    "h = 8  # Number of self-attention heads\n",
    "d_model = 512  # Dimensionality of the model (the input embeddings, as well as all its sub-layers' outputs)\n",
    "batch_size = (\n",
    "    64  # Batch size from the training process; a training hyperparameter\n",
    ")\n",
    "\n",
    "rng = np.random.default_rng(random_seed)\n",
    "\n",
    "queries = rng.random((batch_size, input_seq_length, d_model))\n",
    "keys = rng.random((batch_size, input_seq_length, d_model))\n",
    "values = rng.random((batch_size, input_seq_length, d_model))\n",
    "\n",
    "multihead_attention = MultiHeadAttention(h, d_model)\n",
    "output = multihead_attention(queries, keys, values)\n",
    "\n",
    "print(output)"
   ]
  }
 ],
 "metadata": {
  "kernelspec": {
   "display_name": "Python 3 (ipykernel)",
   "language": "python",
   "name": "python3"
  },
  "language_info": {
   "codemirror_mode": {
    "name": "ipython",
    "version": 3
   },
   "file_extension": ".py",
   "mimetype": "text/x-python",
   "name": "python",
   "nbconvert_exporter": "python",
   "pygments_lexer": "ipython3",
   "version": "3.10.6"
  }
 },
 "nbformat": 4,
 "nbformat_minor": 5
}

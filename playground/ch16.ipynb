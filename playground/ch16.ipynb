{
 "cells": [
  {
   "cell_type": "markdown",
   "id": "e2592246-54bd-479b-bca0-0ed3c008bdd1",
   "metadata": {},
   "source": [
    "# 16 Implementing Multi-Head Attention in Keras"
   ]
  },
  {
   "cell_type": "code",
   "execution_count": 1,
   "id": "5f73e73f-510f-4fac-bf4a-9a45708b71ac",
   "metadata": {
    "execution": {
     "iopub.execute_input": "2023-08-28T18:09:55.713561Z",
     "iopub.status.busy": "2023-08-28T18:09:55.712998Z",
     "iopub.status.idle": "2023-08-28T18:09:57.673480Z",
     "shell.execute_reply": "2023-08-28T18:09:57.673144Z",
     "shell.execute_reply.started": "2023-08-28T18:09:55.713408Z"
    },
    "tags": []
   },
   "outputs": [],
   "source": [
    "import numpy as np\n",
    "from tensorflow import cast, float32, math, matmul, reshape, shape, transpose\n",
    "from tensorflow.keras.backend import softmax\n",
    "from tensorflow.keras.layers import Dense, Layer\n",
    "\n",
    "random_seed = 42"
   ]
  },
  {
   "cell_type": "markdown",
   "id": "8cc92a6b-2565-403f-bb66-c00497437096",
   "metadata": {},
   "source": [
    "# 16.1 Recap of Multi-Head Attention"
   ]
  },
  {
   "cell_type": "markdown",
   "id": "0457e02a-f680-48bb-8baa-484fd175dfd3",
   "metadata": {},
   "source": [
    "Okay, so actually we left out some pretty important details in Ch. 15 but we'll go over them now.  \n",
    "\n",
    "First off, within each attention block there are actually multiple attention mechanisms (\"heads\") working in parallel (literally, the input is fed to them in parallel). This, in theory, allows the model to pay various \"kinds\" of attention. In the NLP context, you could think of this as allowing the model to extract various \"aspects\" or \"qualities\" (e.g. temporal, gender, cardinality, et cetera) of words in the sequence from the word embeddings during training.  \n",
    "\n",
    "Secondly, there are multiple \"linear projection matrices\". There is one per attention head for each of Q, K and V. Essentially these are trainable weight matrices for queries, keys and values that generate different subspace representations of them. Each attention head then works on of these projected versions of Q, K and V. There is also one right at the end which produces a projection of the concatenated outputs of all the different heads. Once again, these weights are learned during training. (You can think of each as a Dense/FF layer.  \n",
    "\n",
    "Did you catch that?! The outputs of the various scaled dot product attention heads is joined via a concatenation operation. That is the third important detail.  \n",
    "\n",
    "By the way, in the AIAYN transformer they had 8 attention heads. And one more thing that we only mentioned in passing is that the \"encoder block\" and \"decoder block\" are actually _stacks_ of architecturally identical blocks. In the AIAYN paper they had 6 of them. I guess we'll get to that eventually, when we code up the entire transformer.  \n",
    "\n",
    "**Note:** There is nothing magical about the aforementioned numbers (`6` and `8`)."
   ]
  },
  {
   "cell_type": "markdown",
   "id": "5f518684-6011-471d-8c76-2050590d4324",
   "metadata": {},
   "source": [
    "## 16.2 Implementing Multi-Head Attention from Scratch"
   ]
  },
  {
   "cell_type": "markdown",
   "id": "5d21e8c3-69e8-4418-8110-b3a74b9a03e8",
   "metadata": {},
   "source": [
    "First, let us import our scaled dot-product attention layer from the previous chapter."
   ]
  },
  {
   "cell_type": "code",
   "execution_count": 2,
   "id": "69ea91fc-668c-44e9-b4b6-dd548fbac659",
   "metadata": {
    "execution": {
     "iopub.execute_input": "2023-08-28T18:09:57.674604Z",
     "iopub.status.busy": "2023-08-28T18:09:57.674344Z",
     "iopub.status.idle": "2023-08-28T18:09:57.677230Z",
     "shell.execute_reply": "2023-08-28T18:09:57.676944Z",
     "shell.execute_reply.started": "2023-08-28T18:09:57.674593Z"
    },
    "tags": []
   },
   "outputs": [],
   "source": [
    "class DotProductAttention(Layer):\n",
    "    def __init__(self, **kwargs):\n",
    "        super().__init__(**kwargs)\n",
    "\n",
    "    def call(self, queries, keys, values, mask=None):\n",
    "        d_k = shape(keys)[-1]\n",
    "        # Score the queries against the keys after transposing the latter, and then scale\n",
    "        scores = matmul(queries, keys, transpose_b=True) / math.sqrt(\n",
    "            cast(d_k, float32)\n",
    "        )\n",
    "        # Apply mask to the attention scores\n",
    "        if mask is not None:\n",
    "            scores += float(\"-inf\") * mask\n",
    "        # Compute the weights using a softmax operation\n",
    "        weights = softmax(scores)\n",
    "        # Compute attention by a weighted sum of the value vectors\n",
    "        return matmul(weights, values)"
   ]
  },
  {
   "cell_type": "markdown",
   "id": "7d45e49f-62ca-4348-9627-2f2651447706",
   "metadata": {},
   "source": [
    "Now we proceed to define our Multi-Head Attention layer. Things are about to get very, VERY messy and confusing. Part 3 of the \"Transformers Explained Visually\" series on Towards Data Science ([here](https://towardsdatascience.com/transformers-explained-visually-part-3-multi-head-attention-deep-dive-1c1ff1024853)) was extremely helpful in understanding what is about to come. (A word of warning: Although the images on that page help immensely in clarifying the logic, the visual representations of dimensions, i.e. the _visual_ height/width/depth of lines, are _not_ to be taken too literally. Focus on the dimension labels instead).  \n",
    "\n",
    "Here's what's about to happen: The outputs of the linear layers that produce the Q, K and V matrices, that is to say the Q, K and V matrices themselves, are going to be \"split\" between the different attention heads. But this is _not_ a \"physical\" split. It is a \"logical\" one. That is to say, each attention head is going to process logically separate sections of the _same, single_ Q (or K or V) matrix. So, in effect, all attention heads share the same linear layer, but operate on their \"own\" logical section of each data matrix. This is just so that the computations of all attention heads can be performed in a single matrix operation rather than N separate operations (vectorization/parallelization ftw). This keeps the model simple (due to fewer linear layers being needed) while achieving the power of independent attention heads.  \n",
    "\n",
    "Let's forget about the `batch_size` dimension for now (but keep it in the background of our minds!) and focus on one example input/target sequence for simplicity. The single example embedded sequence comes in to the linear layer with dimensions $(L_{seq} \\times d_{model})$, gets matrix-multiplied by the $(d_{model} \\times d_{model})$ `W_q`, `W_k` and `W_v` matrices to yield the Q, K and V matrices, still of dimensions $(L_{seq} \\times d_{model})$. Then these get reshaped. How? Let's focus on the query matrix Q (the other two follow an identical logic). If we have $h$ heads, then let $s = d_{model} \\div h$. We will first reshape our Q to have dimensions $(L_{seq} \\times h \\times s)$, then reshape it again to have dimensions $(h \\times L_{seq} \\times s)$.  \n",
    "Again, it doesn't matter why they are \"physically\" split like this. What matters are the _logical_ splits, and those are visualized quite well in the article linked to earlier.  \n",
    "\n",
    "I told you this was going to get messy! But fortunately we don't have to keep track of everything as `tf.reshape()` will take care of the grunt work for us.  "
   ]
  },
  {
   "cell_type": "markdown",
   "id": "0888d084-669c-43cf-aa70-ae24f843d2f4",
   "metadata": {},
   "source": [
    "In short: \n",
    "- We need to reshape the linearly projected queries, keys, and values so that attention heads can work in parallel.\n",
    "- Queries, keys and values come in with dimensions `(batch_size, seq_length, d_model)`.\n",
    "- They are then linearly projected to dimensions `(batch_size, seq_length, d_?)` where `?` is `q`, `k` or `v`.\n",
    "- Then they are rearranged to have dimensions `(batch_size, n_heads, seq_length, depth)` using the helper method `reshape_tensor()`. (Note: `depth` is the same thing as $s$ above and `n_heads` is just $h$).  \n",
    "  But this is done in two steps:\n",
    "  - First they're reshaped to dimensions `(batch_size, seq_length, n_heads, depth)`.\n",
    "  - Then the second and third dimensions are transposed.  \n",
    "  \n",
    "With all of that said and done, `d_k` and `d_v` below will both equal `d_model / h`. To be honest, I'm not sure why they are allowed to have static, independent values in the code from the book I'm following. The book doesn't have the clearest explanations (hence all the other resources I find, study and link to). I guess they were trying to conserve generality, and to be fair, the AIAYN paper does the same, but both fail to explain how this can be useful. In any case, going forward I will modify their code and impose the AIAYN implementation where $d_k = d_v = d_{model} / h$.  \n",
    "\n",
    "**Notes**:\n",
    "1. Notice how the number of parameters for multi-head attention is the same as the number of parameters in the equivalent single-head attention. The parameters are merely divided between heads.  \n",
    "2. We could have split the _input_ matrices (i.e. the queries, keys and values themselves) between the attention heads _before_ linearly projecting them to get Q, K and V. We would have achieved the same result. But the way we've done it is more streamlined.  \n",
    "3. The `reshape_tensor()` method below also has a 'flag' argument that allows us to undo (revert) the operation. This is useful for \"stitching\" (concatenating) the outputs of all the attention heads back together."
   ]
  },
  {
   "cell_type": "code",
   "execution_count": 3,
   "id": "ce77153a-ac5b-4a1a-84d9-546ee59c3ec1",
   "metadata": {
    "execution": {
     "iopub.execute_input": "2023-08-28T18:09:57.677707Z",
     "iopub.status.busy": "2023-08-28T18:09:57.677616Z",
     "iopub.status.idle": "2023-08-28T18:09:57.682501Z",
     "shell.execute_reply": "2023-08-28T18:09:57.682055Z",
     "shell.execute_reply.started": "2023-08-28T18:09:57.677698Z"
    },
    "tags": []
   },
   "outputs": [],
   "source": [
    "class MultiHeadAttention(Layer):\n",
    "    def __init__(self, n_heads, d_model, **kwargs):\n",
    "        super().__init__(**kwargs)\n",
    "\n",
    "        assert d_model % h == 0\n",
    "        d_k = d_model // h\n",
    "        # We assume d_v always equals d_k\n",
    "        d_v = d_k\n",
    "\n",
    "        self.attention = DotProductAttention()  # Scaled dot product attention\n",
    "        self.n_heads = n_heads  # Number of attention heads\n",
    "        self.d_k = d_k  # Dim of the linearly projected queries and keys\n",
    "        self.d_v = d_v  # Dim of the linearly projected values\n",
    "        self.W_q = Dense(d_k)  # Learned projection matrix for the queries, ...\n",
    "        self.W_k = Dense(d_k)  # ... for the keys\n",
    "        self.W_v = Dense(d_v)  # ... for the values\n",
    "        self.W_o = Dense(d_model)  # ... for the multi-head output\n",
    "\n",
    "    def reshape_tensor(self, x, n_heads, do_split_flag):\n",
    "        if do_split_flag:\n",
    "            # Tensor shape after reshaping and transposing:\n",
    "            # (batch_size, n_heads, seq_length, -1)\n",
    "            x = reshape(x, shape=(shape(x)[0], shape(x)[1], n_heads, -1))\n",
    "            x = transpose(x, perm=(0, 2, 1, 3))\n",
    "        else:\n",
    "            # Reverting the reshaping and transposing operations:\n",
    "            # (batch_size, seq_length, d_model)\n",
    "            x = transpose(x, perm=(0, 2, 1, 3))\n",
    "            x = reshape(x, shape=(shape(x)[0], shape(x)[1], -1))\n",
    "        return x\n",
    "\n",
    "    def call(self, queries, keys, values, mask=None):\n",
    "        # Rearrange the queries to be able to compute all heads in parallel\n",
    "        q_reshaped = self.reshape_tensor(self.W_q(queries), self.n_heads, True)\n",
    "        # Resulting tensor shape: (batch_size, n_heads, input_seq_length, -1)\n",
    "\n",
    "        # Rearrange the keys to be able to compute all heads in parallel\n",
    "        k_reshaped = self.reshape_tensor(self.W_k(keys), self.n_heads, True)\n",
    "        # Resulting tensor shape: (batch_size, n_heads, input_seq_length, -1)\n",
    "\n",
    "        # Rearrange the values to be able to compute all heads in parallel\n",
    "        v_reshaped = self.reshape_tensor(self.W_v(values), self.n_heads, True)\n",
    "        # Resulting tensor shape: (batch_size, n_heads, input_seq_length, -1)\n",
    "\n",
    "        # Compute the multi-head attention output using the reshaped queries, keys,\n",
    "        # and values\n",
    "        o_reshaped = self.attention(q_reshaped, k_reshaped, v_reshaped, mask)\n",
    "        # Resulting tensor shape: (batch_size, n_heads, input_seq_length, -1)\n",
    "\n",
    "        # Rearrange back the output into concatenated form\n",
    "        output = self.reshape_tensor(o_reshaped, self.n_heads, False)\n",
    "        # Resulting tensor shape: (batch_size, input_seq_length, d_v)\n",
    "\n",
    "        # Apply one final linear projection to the output to generate the multi-head\n",
    "        # attention. Resulting tensor shape: (batch_size, input_seq_length, d_model)\n",
    "        return self.W_o(output)"
   ]
  },
  {
   "cell_type": "markdown",
   "id": "039916da-4ea5-4033-a7c7-d07842419f27",
   "metadata": {},
   "source": [
    "## 16.3 Testing Out the Code"
   ]
  },
  {
   "cell_type": "code",
   "execution_count": 25,
   "id": "01c0d8ea-1f04-493c-af90-a93d5ccb1aeb",
   "metadata": {
    "execution": {
     "iopub.execute_input": "2023-08-28T18:11:38.781283Z",
     "iopub.status.busy": "2023-08-28T18:11:38.780067Z",
     "iopub.status.idle": "2023-08-28T18:11:38.816263Z",
     "shell.execute_reply": "2023-08-28T18:11:38.815875Z",
     "shell.execute_reply.started": "2023-08-28T18:11:38.781197Z"
    },
    "tags": []
   },
   "outputs": [
    {
     "name": "stdout",
     "output_type": "stream",
     "text": [
      "tf.Tensor(\n",
      "[[[ 8.14943686e-02 -2.07826361e-01 -1.29091278e-01 ... -5.07743597e-01\n",
      "    2.35847443e-01 -2.45192349e-01]\n",
      "  [ 1.06212638e-01 -2.19399706e-01 -1.43369183e-01 ... -5.07689774e-01\n",
      "    2.30445623e-01 -2.42180824e-01]\n",
      "  [ 8.59445482e-02 -2.10692257e-01 -1.42490596e-01 ... -5.08839250e-01\n",
      "    2.28606790e-01 -2.38618150e-01]\n",
      "  [ 1.00529008e-01 -2.03786239e-01 -1.13968298e-01 ... -5.02856731e-01\n",
      "    2.35798791e-01 -2.50318110e-01]\n",
      "  [ 8.30031931e-02 -2.15402111e-01 -1.52123138e-01 ... -5.22031546e-01\n",
      "    2.31339246e-01 -2.45917723e-01]]\n",
      "\n",
      " [[ 6.23010769e-02 -8.63183886e-02 -1.23630837e-01 ... -5.23672342e-01\n",
      "    1.13774933e-01 -5.15483208e-02]\n",
      "  [ 5.61044067e-02 -8.52782354e-02 -1.30698130e-01 ... -5.21288097e-01\n",
      "    1.23439729e-01 -5.24104871e-02]\n",
      "  [ 4.14301269e-02 -7.81833306e-02 -1.33477762e-01 ... -5.34742653e-01\n",
      "    1.25398427e-01 -5.44013903e-02]\n",
      "  [ 3.21061462e-02 -8.77115801e-02 -1.62450403e-01 ... -5.03533721e-01\n",
      "    1.33375034e-01 -7.47317523e-02]\n",
      "  [ 5.66560365e-02 -8.22763219e-02 -1.38004810e-01 ... -5.37416220e-01\n",
      "    1.18984781e-01 -5.95270805e-02]]\n",
      "\n",
      " [[ 3.41881625e-02 -1.77709028e-01 -1.10566527e-01 ... -5.87940574e-01\n",
      "    3.67956236e-02 -3.32451433e-01]\n",
      "  [ 3.56511362e-02 -1.41207173e-01 -1.03415713e-01 ... -5.54554939e-01\n",
      "    6.62543923e-02 -3.34491491e-01]\n",
      "  [ 6.07191473e-02 -1.50133684e-01 -7.69357681e-02 ... -5.33205390e-01\n",
      "    5.90871796e-02 -3.06398541e-01]\n",
      "  [ 5.46310917e-02 -1.65570736e-01 -1.03434794e-01 ... -5.55890977e-01\n",
      "    4.88789901e-02 -3.28302562e-01]\n",
      "  [ 7.21374080e-02 -1.64268762e-01 -1.04438022e-01 ... -5.52004158e-01\n",
      "    4.96956892e-02 -3.24575752e-01]]\n",
      "\n",
      " ...\n",
      "\n",
      " [[-6.11987431e-03 -2.42419928e-01  1.56688035e-01 ... -5.45092702e-01\n",
      "    1.06943242e-01 -1.50994137e-01]\n",
      "  [ 1.96642755e-03 -2.35741943e-01  1.39012098e-01 ... -5.46410620e-01\n",
      "    1.23213544e-01 -1.57535478e-01]\n",
      "  [ 1.19133860e-04 -2.33009398e-01  1.70916528e-01 ... -5.56964219e-01\n",
      "    1.20582364e-01 -1.55047134e-01]\n",
      "  [-3.47582228e-03 -2.22393364e-01  1.47470579e-01 ... -5.56916296e-01\n",
      "    1.34347409e-01 -1.58062115e-01]\n",
      "  [-4.58826171e-03 -2.41022497e-01  1.44113943e-01 ... -5.40298223e-01\n",
      "    1.16659328e-01 -1.55188009e-01]]\n",
      "\n",
      " [[ 7.54224360e-02 -2.24457785e-01  2.21858807e-02 ... -4.51625496e-01\n",
      "    1.59735501e-01 -1.98113471e-01]\n",
      "  [ 4.58673835e-02 -2.14337915e-01 -8.00916180e-03 ... -4.65325624e-01\n",
      "    1.61809102e-01 -2.07529873e-01]\n",
      "  [ 4.24040891e-02 -1.99321315e-01 -1.33336317e-02 ... -4.39711452e-01\n",
      "    1.56381652e-01 -1.87179074e-01]\n",
      "  [ 5.77737652e-02 -2.13578671e-01 -1.11374501e-02 ... -4.60137188e-01\n",
      "    1.64168656e-01 -2.07166255e-01]\n",
      "  [ 7.42437467e-02 -2.35513270e-01  2.94604693e-02 ... -4.56643909e-01\n",
      "    1.47922546e-01 -2.08218083e-01]]\n",
      "\n",
      " [[-4.90562804e-02 -1.20262327e-02 -1.33793429e-01 ... -6.43648446e-01\n",
      "    1.23169616e-01 -1.51124641e-01]\n",
      "  [-5.29362261e-02 -1.16056728e-03 -1.46920800e-01 ... -6.35954499e-01\n",
      "    1.27389610e-01 -1.66408822e-01]\n",
      "  [-3.36499736e-02 -1.67515164e-03 -1.17192209e-01 ... -6.45699441e-01\n",
      "    1.36078700e-01 -1.48052454e-01]\n",
      "  [-5.07321954e-02 -2.62272079e-02 -1.38134539e-01 ... -6.53785408e-01\n",
      "    1.40878096e-01 -1.78163573e-01]\n",
      "  [-5.06184548e-02 -6.53293356e-03 -1.46451607e-01 ... -6.43893480e-01\n",
      "    1.45554736e-01 -1.77751690e-01]]], shape=(64, 5, 512), dtype=float32)\n"
     ]
    }
   ],
   "source": [
    "input_seq_length = 5  # Maximum length of the input sequence\n",
    "h = 8  # Number of self-attention heads\n",
    "d_model = 512  # Dimensionality of the model (the input embeddings, as well as all its sub-layers' outputs)\n",
    "batch_size = (\n",
    "    64  # Batch size from the training process; a training hyperparameter\n",
    ")\n",
    "\n",
    "rng = np.random.default_rng(random_seed)\n",
    "\n",
    "queries = rng.random((batch_size, input_seq_length, d_model))\n",
    "keys = rng.random((batch_size, input_seq_length, d_model))\n",
    "values = rng.random((batch_size, input_seq_length, d_model))\n",
    "\n",
    "multihead_attention = MultiHeadAttention(h, d_model)\n",
    "output = multihead_attention(queries, keys, values)\n",
    "\n",
    "print(output)"
   ]
  }
 ],
 "metadata": {
  "kernelspec": {
   "display_name": "Python 3 (ipykernel)",
   "language": "python",
   "name": "python3"
  },
  "language_info": {
   "codemirror_mode": {
    "name": "ipython",
    "version": 3
   },
   "file_extension": ".py",
   "mimetype": "text/x-python",
   "name": "python",
   "nbconvert_exporter": "python",
   "pygments_lexer": "ipython3",
   "version": "3.10.6"
  }
 },
 "nbformat": 4,
 "nbformat_minor": 5
}

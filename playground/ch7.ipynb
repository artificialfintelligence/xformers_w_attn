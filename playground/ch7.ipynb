{
 "cells": [
  {
   "cell_type": "markdown",
   "id": "83a81aad-b5a1-4fee-a513-0165d009b915",
   "metadata": {
    "tags": []
   },
   "source": [
    "# 7 Understanding Simple Recurrent Neural Networks in Keras"
   ]
  },
  {
   "cell_type": "code",
   "execution_count": 122,
   "id": "c9b12a27-bb44-491b-ba2b-1f2adfe9be70",
   "metadata": {
    "execution": {
     "iopub.execute_input": "2023-03-30T14:49:24.335642Z",
     "iopub.status.busy": "2023-03-30T14:49:24.334671Z",
     "iopub.status.idle": "2023-03-30T14:49:24.347283Z",
     "shell.execute_reply": "2023-03-30T14:49:24.344512Z",
     "shell.execute_reply.started": "2023-03-30T14:49:24.335598Z"
    },
    "tags": []
   },
   "outputs": [],
   "source": [
    "import numpy as np\n",
    "import pandas as pd\n",
    "from sklearn.preprocessing import MinMaxScaler\n",
    "from tensorflow.keras.layers import Dense, SimpleRNN\n",
    "from tensorflow.keras.metrics import mean_squared_error\n",
    "from tensorflow.keras.models import Sequential"
   ]
  },
  {
   "cell_type": "markdown",
   "id": "95a48e30-7109-4f45-85da-9957f3b71a24",
   "metadata": {
    "tags": []
   },
   "source": [
    "## 7.1 Keras `SimpleRNN` Layer"
   ]
  },
  {
   "cell_type": "code",
   "execution_count": 103,
   "id": "9a997001-dd14-4544-9ef3-43aa80fdc9cf",
   "metadata": {
    "execution": {
     "iopub.execute_input": "2023-03-30T14:35:15.552529Z",
     "iopub.status.busy": "2023-03-30T14:35:15.551445Z",
     "iopub.status.idle": "2023-03-30T14:35:15.612868Z",
     "shell.execute_reply": "2023-03-30T14:35:15.612516Z",
     "shell.execute_reply.started": "2023-03-30T14:35:15.552466Z"
    },
    "tags": []
   },
   "outputs": [
    {
     "name": "stdout",
     "output_type": "stream",
     "text": [
      "Model: \"sequential_27\"\n",
      "_________________________________________________________________\n",
      " Layer (type)                Output Shape              Param #   \n",
      "=================================================================\n",
      " simple_rnn_27 (SimpleRNN)   (None, 2)                 8         \n",
      "                                                                 \n",
      " dense_27 (Dense)            (None, 1)                 3         \n",
      "                                                                 \n",
      "=================================================================\n",
      "Total params: 11\n",
      "Trainable params: 11\n",
      "Non-trainable params: 0\n",
      "_________________________________________________________________\n"
     ]
    }
   ],
   "source": [
    "def create_RNN(\n",
    "    num_hidden_units: int,\n",
    "    num_dense_units: int,\n",
    "    input_shape: (int, int),\n",
    "    activations: [str],\n",
    ") -> Sequential:\n",
    "    model = Sequential()\n",
    "    model.add(\n",
    "        SimpleRNN(num_hidden_units, input_shape=input_shape, activation=activations[0])\n",
    "    )\n",
    "    model.add(Dense(units=num_dense_units, activation=activations[1]))\n",
    "\n",
    "    model.compile(\n",
    "        optimizer=\"adam\", loss=\"mean_squared_error\", metrics=\"RootMeanSquaredError\"\n",
    "    )\n",
    "\n",
    "    return model\n",
    "\n",
    "\n",
    "m = 2\n",
    "T = 3\n",
    "demo_model = create_RNN(m, 1, (T, 1), activations=[\"linear\", \"linear\"])\n",
    "\n",
    "demo_model.summary()"
   ]
  },
  {
   "cell_type": "markdown",
   "id": "e0dc9a77-079e-458b-83d9-40cb8bbf7283",
   "metadata": {},
   "source": [
    "Why 11 parameters, you ask?"
   ]
  },
  {
   "cell_type": "code",
   "execution_count": 3,
   "id": "6f9636cc-9711-475e-864a-7ee425ab760c",
   "metadata": {
    "execution": {
     "iopub.execute_input": "2023-03-30T11:34:44.106279Z",
     "iopub.status.busy": "2023-03-30T11:34:44.106187Z",
     "iopub.status.idle": "2023-03-30T11:34:44.113598Z",
     "shell.execute_reply": "2023-03-30T11:34:44.113100Z",
     "shell.execute_reply.started": "2023-03-30T11:34:44.106269Z"
    },
    "tags": []
   },
   "outputs": [
    {
     "data": {
      "text/plain": [
       "[(1, 2), (2, 2), (2,)]"
      ]
     },
     "execution_count": 3,
     "metadata": {},
     "output_type": "execute_result"
    }
   ],
   "source": [
    "[w.numpy().shape for w in demo_model.layers[0].weights]"
   ]
  },
  {
   "cell_type": "code",
   "execution_count": 4,
   "id": "12229956-ede9-4b5d-adf3-99549271739a",
   "metadata": {
    "execution": {
     "iopub.execute_input": "2023-03-30T11:34:44.115098Z",
     "iopub.status.busy": "2023-03-30T11:34:44.114917Z",
     "iopub.status.idle": "2023-03-30T11:34:44.118861Z",
     "shell.execute_reply": "2023-03-30T11:34:44.118369Z",
     "shell.execute_reply.started": "2023-03-30T11:34:44.115085Z"
    },
    "tags": []
   },
   "outputs": [
    {
     "data": {
      "text/plain": [
       "[(2, 1), (1,)]"
      ]
     },
     "execution_count": 4,
     "metadata": {},
     "output_type": "execute_result"
    }
   ],
   "source": [
    "[w.numpy().shape for w in demo_model.layers[1].weights]"
   ]
  },
  {
   "cell_type": "markdown",
   "id": "201e425f-db4f-4255-af06-773cbd9240e7",
   "metadata": {},
   "source": [
    "And they are all randomly initialized right now (with the exception of biases which are initialized to zeros)."
   ]
  },
  {
   "cell_type": "code",
   "execution_count": 5,
   "id": "1d64e63c-76c1-402e-97af-5f155bce9bbd",
   "metadata": {
    "execution": {
     "iopub.execute_input": "2023-03-30T11:34:44.119437Z",
     "iopub.status.busy": "2023-03-30T11:34:44.119329Z",
     "iopub.status.idle": "2023-03-30T11:34:44.125115Z",
     "shell.execute_reply": "2023-03-30T11:34:44.124837Z",
     "shell.execute_reply.started": "2023-03-30T11:34:44.119428Z"
    },
    "tags": []
   },
   "outputs": [
    {
     "name": "stdout",
     "output_type": "stream",
     "text": [
      "w_x = array([[-1.3690753 , -0.34511125]], dtype=float32)\n",
      "w_h = array([[-0.8884481 ,  0.45897698],\n",
      "       [-0.45897698, -0.8884482 ]], dtype=float32)\n",
      "b_h = array([0., 0.], dtype=float32)\n",
      "w_y = array([[ 1.3722934 ],\n",
      "       [-0.35240567]], dtype=float32)\n",
      "b_y = array([0.], dtype=float32)\n"
     ]
    }
   ],
   "source": [
    "w_x = demo_model.get_weights()[0]\n",
    "w_h = demo_model.get_weights()[1]\n",
    "b_h = demo_model.get_weights()[2]\n",
    "w_y = demo_model.get_weights()[3]\n",
    "b_y = demo_model.get_weights()[4]\n",
    "\n",
    "print(f\"{w_x = }\\n{w_h = }\\n{b_h = }\\n{w_y = }\\n{b_y = }\")"
   ]
  },
  {
   "cell_type": "markdown",
   "id": "92cc5abb-3eee-4499-9ba0-6fb0a611df3a",
   "metadata": {},
   "source": [
    "Notice how the dimensions of our parameters are independent of the number of time steps. The same weight matrices are used in every time step within the same forward pass."
   ]
  },
  {
   "cell_type": "markdown",
   "id": "75fcc53c-e769-4059-9002-75b8d0c5fe92",
   "metadata": {},
   "source": [
    "Next, let us look at a single forward pass in this super-simple model. Recall that \"linear\" activation functions do nothing as they are the identity function $f(x) = x$."
   ]
  },
  {
   "cell_type": "code",
   "execution_count": 6,
   "id": "ebf0b01a-de45-4b53-a511-967078018745",
   "metadata": {
    "execution": {
     "iopub.execute_input": "2023-03-30T11:34:44.125715Z",
     "iopub.status.busy": "2023-03-30T11:34:44.125604Z",
     "iopub.status.idle": "2023-03-30T11:34:44.234208Z",
     "shell.execute_reply": "2023-03-30T11:34:44.233782Z",
     "shell.execute_reply.started": "2023-03-30T11:34:44.125705Z"
    },
    "tags": []
   },
   "outputs": [
    {
     "name": "stdout",
     "output_type": "stream",
     "text": [
      "1/1 [==============================] - 0s 81ms/step\n"
     ]
    },
    {
     "name": "stderr",
     "output_type": "stream",
     "text": [
      "2023-03-30 20:34:44.151133: W tensorflow/core/platform/profile_utils/cpu_utils.cc:128] Failed to get CPU frequency: 0 Hz\n"
     ]
    },
    {
     "data": {
      "text/plain": [
       "array([[-3.068111]], dtype=float32)"
      ]
     },
     "execution_count": 6,
     "metadata": {},
     "output_type": "execute_result"
    }
   ],
   "source": [
    "x = np.array([1, 2, 3])\n",
    "x_input = np.reshape(x, (1, T, 1))  # 1 sequence, T=3 time steps, 1 feature\n",
    "y_pred = demo_model.predict(x_input)\n",
    "y_pred"
   ]
  },
  {
   "cell_type": "markdown",
   "id": "491aaa14-1bfe-4bc8-a85a-7e4237173f8b",
   "metadata": {},
   "source": [
    "Now let us replicate this result using linear algebra."
   ]
  },
  {
   "cell_type": "code",
   "execution_count": 7,
   "id": "ae24f2b9-76c5-4832-8d76-9c872a0685c4",
   "metadata": {
    "execution": {
     "iopub.execute_input": "2023-03-30T11:34:44.234788Z",
     "iopub.status.busy": "2023-03-30T11:34:44.234668Z",
     "iopub.status.idle": "2023-03-30T11:34:44.238211Z",
     "shell.execute_reply": "2023-03-30T11:34:44.237846Z",
     "shell.execute_reply.started": "2023-03-30T11:34:44.234778Z"
    },
    "tags": []
   },
   "outputs": [
    {
     "data": {
      "text/plain": [
       "array([-3.06811105])"
      ]
     },
     "execution_count": 7,
     "metadata": {},
     "output_type": "execute_result"
    }
   ],
   "source": [
    "h = np.zeros((m, T + 1))\n",
    "for t in range(T):\n",
    "    h[:, t + 1] = np.dot(x[t], w_x) + np.dot(h[:, t], w_h) + b_h\n",
    "o_3 = np.dot(h[:, T], w_y) + b_y\n",
    "o_3"
   ]
  },
  {
   "cell_type": "markdown",
   "id": "629e4962-9d0e-4295-8128-0139fce98c47",
   "metadata": {},
   "source": [
    "💥 BAM! They're equal."
   ]
  },
  {
   "cell_type": "markdown",
   "id": "8a25bfe7-a44e-4c42-a539-ce3d7ed8fe00",
   "metadata": {},
   "source": [
    "## 7.2 Running the RNN on Sunspots Dataset"
   ]
  },
  {
   "cell_type": "markdown",
   "id": "ad7c8baf-42c0-4499-ac89-bd5df63dd4d9",
   "metadata": {},
   "source": [
    "Read the data and split it into training and test. The data is originally from https://raw.githubusercontent.com/jbrownlee/Datasets/master/monthly-sunspots.csv"
   ]
  },
  {
   "cell_type": "code",
   "execution_count": 71,
   "id": "35ef5436-7386-4706-853e-43d9147009ee",
   "metadata": {
    "execution": {
     "iopub.execute_input": "2023-03-30T14:15:19.251270Z",
     "iopub.status.busy": "2023-03-30T14:15:19.250348Z",
     "iopub.status.idle": "2023-03-30T14:15:19.271287Z",
     "shell.execute_reply": "2023-03-30T14:15:19.270765Z",
     "shell.execute_reply.started": "2023-03-30T14:15:19.251226Z"
    },
    "tags": []
   },
   "outputs": [],
   "source": [
    "def get_train_test_data(url, split_pct=0.8):\n",
    "    data = pd.read_csv(url, usecols=[1], engine=\"python\").to_numpy().astype(\"float32\")\n",
    "    scaler = MinMaxScaler()  # By default, converts to the range (0, 1)\n",
    "    data = scaler.fit_transform(data)\n",
    "    data = data.flatten()\n",
    "    n = len(data)\n",
    "    split_idx = int(n * split_pct)\n",
    "    train_data = data[:split_idx]\n",
    "    test_data = data[split_idx:]\n",
    "\n",
    "    return train_data, test_data, data\n",
    "\n",
    "\n",
    "url = (  # Originally: https://raw.githubusercontent.com/jbrownlee/Datasets/master/monthly-sunspots.csv\n",
    "    \"data/monthly-sunspots.csv\"\n",
    ")\n",
    "train_data, test_data, data = get_train_test_data(url)"
   ]
  },
  {
   "cell_type": "markdown",
   "id": "c6f2510e-219d-4f35-b3d9-52b2d92997dc",
   "metadata": {},
   "source": [
    "Get `(X, y)` pairs where each `y` is the next data point immediately following the corresponding `X`. The next `X` sample will begin with the previous `y`. The samples are therefore non-overlapping and all of the data is used and there is no 'data leakage'."
   ]
  },
  {
   "cell_type": "code",
   "execution_count": 72,
   "id": "f009b757-b128-41a8-a14a-6af2ec44aa5e",
   "metadata": {
    "execution": {
     "iopub.execute_input": "2023-03-30T14:15:21.165540Z",
     "iopub.status.busy": "2023-03-30T14:15:21.164746Z",
     "iopub.status.idle": "2023-03-30T14:15:21.178851Z",
     "shell.execute_reply": "2023-03-30T14:15:21.177359Z",
     "shell.execute_reply.started": "2023-03-30T14:15:21.165502Z"
    },
    "tags": []
   },
   "outputs": [],
   "source": [
    "def get_X_y_pairs(data, n_time_steps):\n",
    "    \"\"\"\n",
    "    Returns (X, y pairs) from the provided data according to the specified time step value,\n",
    "    where X is an ndarray of shape (n_rows, n_time_steps, 1) and y is of shape (n_rows,)\n",
    "\n",
    "    Each row (except for the very first one) begins with the previous row's y.\n",
    "\n",
    "    \"\"\"\n",
    "    y_indices = np.arange(n_time_steps, len(data), n_time_steps)\n",
    "    y = data[y_indices]\n",
    "\n",
    "    n_rows = len(y)\n",
    "    X = data[range(n_time_steps * n_rows)]\n",
    "    X = np.reshape(X, (n_rows, n_time_steps, 1))\n",
    "\n",
    "    return X, y\n",
    "\n",
    "\n",
    "time_steps = 12  # Sunspots have a cycle of ~12 months\n",
    "X_train, y_train = get_X_y_pairs(train_data, time_steps)\n",
    "X_test, y_test = get_X_y_pairs(test_data, time_steps)"
   ]
  },
  {
   "cell_type": "markdown",
   "id": "65c41c6b-dfb0-403f-9808-fd90b9f33d64",
   "metadata": {
    "execution": {
     "iopub.execute_input": "2023-03-30T14:03:18.853153Z",
     "iopub.status.busy": "2023-03-30T14:03:18.852294Z",
     "iopub.status.idle": "2023-03-30T14:03:18.868055Z",
     "shell.execute_reply": "2023-03-30T14:03:18.864839Z",
     "shell.execute_reply.started": "2023-03-30T14:03:18.853116Z"
    },
    "tags": []
   },
   "source": [
    "We will now create a model and train it in (stochastic) mini-batches. This is a toy model and we're just experimenting and learning here, so there is no validation set, early stopping, etc."
   ]
  },
  {
   "cell_type": "code",
   "execution_count": 145,
   "id": "cbedbbdf-6bf7-438f-82ae-d2885e8a7ef1",
   "metadata": {
    "execution": {
     "iopub.execute_input": "2023-03-30T15:06:41.546342Z",
     "iopub.status.busy": "2023-03-30T15:06:41.545780Z",
     "iopub.status.idle": "2023-03-30T15:06:44.469701Z",
     "shell.execute_reply": "2023-03-30T15:06:44.469412Z",
     "shell.execute_reply.started": "2023-03-30T15:06:41.546309Z"
    },
    "tags": []
   },
   "outputs": [
    {
     "name": "stdout",
     "output_type": "stream",
     "text": [
      "Epoch 1/20\n",
      "187/187 [==============================] - 0s 746us/step - loss: 0.0364 - root_mean_squared_error: 0.1907\n",
      "Epoch 2/20\n",
      "187/187 [==============================] - 0s 651us/step - loss: 0.0182 - root_mean_squared_error: 0.1347\n",
      "Epoch 3/20\n",
      "187/187 [==============================] - 0s 664us/step - loss: 0.0121 - root_mean_squared_error: 0.1101\n",
      "Epoch 4/20\n",
      "187/187 [==============================] - 0s 672us/step - loss: 0.0091 - root_mean_squared_error: 0.0956\n",
      "Epoch 5/20\n",
      "187/187 [==============================] - 0s 679us/step - loss: 0.0075 - root_mean_squared_error: 0.0865\n",
      "Epoch 6/20\n",
      "187/187 [==============================] - 0s 656us/step - loss: 0.0066 - root_mean_squared_error: 0.0814\n",
      "Epoch 7/20\n",
      "187/187 [==============================] - 0s 654us/step - loss: 0.0059 - root_mean_squared_error: 0.0769\n",
      "Epoch 8/20\n",
      "187/187 [==============================] - 0s 652us/step - loss: 0.0056 - root_mean_squared_error: 0.0751\n",
      "Epoch 9/20\n",
      "187/187 [==============================] - 0s 672us/step - loss: 0.0053 - root_mean_squared_error: 0.0731\n",
      "Epoch 10/20\n",
      "187/187 [==============================] - 0s 650us/step - loss: 0.0051 - root_mean_squared_error: 0.0716\n",
      "Epoch 11/20\n",
      "187/187 [==============================] - 0s 657us/step - loss: 0.0049 - root_mean_squared_error: 0.0702\n",
      "Epoch 12/20\n",
      "187/187 [==============================] - 0s 705us/step - loss: 0.0048 - root_mean_squared_error: 0.0694\n",
      "Epoch 13/20\n",
      "187/187 [==============================] - 0s 687us/step - loss: 0.0047 - root_mean_squared_error: 0.0683\n",
      "Epoch 14/20\n",
      "187/187 [==============================] - 0s 673us/step - loss: 0.0045 - root_mean_squared_error: 0.0671\n",
      "Epoch 15/20\n",
      "187/187 [==============================] - 0s 673us/step - loss: 0.0044 - root_mean_squared_error: 0.0663\n",
      "Epoch 16/20\n",
      "187/187 [==============================] - 0s 653us/step - loss: 0.0044 - root_mean_squared_error: 0.0661\n",
      "Epoch 17/20\n",
      "187/187 [==============================] - 0s 675us/step - loss: 0.0042 - root_mean_squared_error: 0.0649\n",
      "Epoch 18/20\n",
      "187/187 [==============================] - 0s 680us/step - loss: 0.0042 - root_mean_squared_error: 0.0647\n",
      "Epoch 19/20\n",
      "187/187 [==============================] - 0s 647us/step - loss: 0.0041 - root_mean_squared_error: 0.0643\n",
      "Epoch 20/20\n",
      "187/187 [==============================] - 0s 643us/step - loss: 0.0040 - root_mean_squared_error: 0.0636\n"
     ]
    },
    {
     "data": {
      "text/plain": [
       "<keras.callbacks.History at 0x2d51cf190>"
      ]
     },
     "execution_count": 145,
     "metadata": {},
     "output_type": "execute_result"
    }
   ],
   "source": [
    "model = create_RNN(3, 1, (time_steps, 1), [\"tanh\", \"tanh\"])\n",
    "\n",
    "model.fit(X_train, y_train, batch_size=1, epochs=20, verbose=1)"
   ]
  },
  {
   "cell_type": "markdown",
   "id": "fd274532-6357-4cde-af34-fa39be220744",
   "metadata": {},
   "source": [
    "Here's a function to print the errors:"
   ]
  },
  {
   "cell_type": "code",
   "execution_count": 147,
   "id": "a357a804-742e-4e92-80b6-c1bdb9a2ddf1",
   "metadata": {
    "execution": {
     "iopub.execute_input": "2023-03-30T15:06:53.677049Z",
     "iopub.status.busy": "2023-03-30T15:06:53.675982Z",
     "iopub.status.idle": "2023-03-30T15:06:53.756554Z",
     "shell.execute_reply": "2023-03-30T15:06:53.756168Z",
     "shell.execute_reply.started": "2023-03-30T15:06:53.676990Z"
    },
    "tags": []
   },
   "outputs": [
    {
     "name": "stdout",
     "output_type": "stream",
     "text": [
      "6/6 [==============================] - 0s 818us/step\n",
      "2/2 [==============================] - 0s 1ms/step\n",
      "Train RMSE: 0.0637\n",
      "Test RMSE: 0.0810\n"
     ]
    }
   ],
   "source": [
    "def print_errors(train_true, test_true, train_pred, test_pred):\n",
    "    # Error of predictions\n",
    "    train_rmse = np.sqrt(mean_squared_error(train_true, train_pred.flatten()))\n",
    "    test_rmse = np.sqrt(mean_squared_error(test_true, test_pred.flatten()))\n",
    "    # Print RMSE\n",
    "    print(f\"Train RMSE: {train_rmse:.4f}\")\n",
    "    print(f\"Test RMSE: {test_rmse:.4f}\")\n",
    "\n",
    "\n",
    "# Make predictions\n",
    "train_predict = model.predict(X_train)\n",
    "test_predict = model.predict(X_test)\n",
    "# Mean squared error\n",
    "print_errors(y_train, y_test, train_predict, test_predict)"
   ]
  },
  {
   "cell_type": "code",
   "execution_count": null,
   "id": "9b9ed6d5-d0a0-4232-9462-d01858f15cbf",
   "metadata": {},
   "outputs": [],
   "source": []
  }
 ],
 "metadata": {
  "kernelspec": {
   "display_name": "Python 3 (ipykernel)",
   "language": "python",
   "name": "python3"
  },
  "language_info": {
   "codemirror_mode": {
    "name": "ipython",
    "version": 3
   },
   "file_extension": ".py",
   "mimetype": "text/x-python",
   "name": "python",
   "nbconvert_exporter": "python",
   "pygments_lexer": "ipython3",
   "version": "3.10.6"
  }
 },
 "nbformat": 4,
 "nbformat_minor": 5
}

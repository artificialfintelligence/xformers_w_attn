{
 "cells": [
  {
   "cell_type": "markdown",
   "id": "83a81aad-b5a1-4fee-a513-0165d009b915",
   "metadata": {
    "tags": []
   },
   "source": [
    "# 7 Understanding Simple Recurrent Neural Networks in Keras"
   ]
  },
  {
   "cell_type": "code",
   "execution_count": 23,
   "id": "c9b12a27-bb44-491b-ba2b-1f2adfe9be70",
   "metadata": {
    "execution": {
     "iopub.execute_input": "2023-03-30T11:41:17.527786Z",
     "iopub.status.busy": "2023-03-30T11:41:17.527143Z",
     "iopub.status.idle": "2023-03-30T11:41:17.539162Z",
     "shell.execute_reply": "2023-03-30T11:41:17.538187Z",
     "shell.execute_reply.started": "2023-03-30T11:41:17.527754Z"
    },
    "tags": []
   },
   "outputs": [],
   "source": [
    "import numpy as np\n",
    "import pandas as pd\n",
    "from tensorflow.keras.layers import Dense, SimpleRNN\n",
    "from tensorflow.keras.models import Sequential\n",
    "from sklearn.preprocessing import MinMaxScaler"
   ]
  },
  {
   "cell_type": "markdown",
   "id": "95a48e30-7109-4f45-85da-9957f3b71a24",
   "metadata": {
    "tags": []
   },
   "source": [
    "## 7.1 Keras `SimpleRNN` Layer"
   ]
  },
  {
   "cell_type": "code",
   "execution_count": 2,
   "id": "9a997001-dd14-4544-9ef3-43aa80fdc9cf",
   "metadata": {
    "execution": {
     "iopub.execute_input": "2023-03-30T11:34:44.043604Z",
     "iopub.status.busy": "2023-03-30T11:34:44.043386Z",
     "iopub.status.idle": "2023-03-30T11:34:44.105625Z",
     "shell.execute_reply": "2023-03-30T11:34:44.105093Z",
     "shell.execute_reply.started": "2023-03-30T11:34:44.043593Z"
    },
    "tags": []
   },
   "outputs": [
    {
     "name": "stdout",
     "output_type": "stream",
     "text": [
      "Model: \"sequential\"\n",
      "_________________________________________________________________\n",
      " Layer (type)                Output Shape              Param #   \n",
      "=================================================================\n",
      " simple_rnn (SimpleRNN)      (None, 2)                 8         \n",
      "                                                                 \n",
      " dense (Dense)               (None, 1)                 3         \n",
      "                                                                 \n",
      "=================================================================\n",
      "Total params: 11\n",
      "Trainable params: 11\n",
      "Non-trainable params: 0\n",
      "_________________________________________________________________\n"
     ]
    }
   ],
   "source": [
    "def create_RNN(\n",
    "    num_hidden_units: int,\n",
    "    num_dense_units: int,\n",
    "    input_shape: (int, int),\n",
    "    activations: [str],\n",
    ") -> Sequential:\n",
    "    model = Sequential()\n",
    "    model.add(\n",
    "        SimpleRNN(num_hidden_units, input_shape=input_shape, activation=activations[0])\n",
    "    )\n",
    "    model.add(Dense(units=num_dense_units, activation=activations[1]))\n",
    "\n",
    "    model.compile(loss=\"mean_squared_error\", optimizer=\"adam\")\n",
    "\n",
    "    return model\n",
    "\n",
    "\n",
    "m = 2\n",
    "T = 3\n",
    "demo_model = create_RNN(m, 1, (T, 1), activations=[\"linear\", \"linear\"])\n",
    "\n",
    "demo_model.summary()"
   ]
  },
  {
   "cell_type": "markdown",
   "id": "e0dc9a77-079e-458b-83d9-40cb8bbf7283",
   "metadata": {},
   "source": [
    "Why 11 parameters, you ask?"
   ]
  },
  {
   "cell_type": "code",
   "execution_count": 3,
   "id": "6f9636cc-9711-475e-864a-7ee425ab760c",
   "metadata": {
    "execution": {
     "iopub.execute_input": "2023-03-30T11:34:44.106279Z",
     "iopub.status.busy": "2023-03-30T11:34:44.106187Z",
     "iopub.status.idle": "2023-03-30T11:34:44.113598Z",
     "shell.execute_reply": "2023-03-30T11:34:44.113100Z",
     "shell.execute_reply.started": "2023-03-30T11:34:44.106269Z"
    },
    "tags": []
   },
   "outputs": [
    {
     "data": {
      "text/plain": [
       "[(1, 2), (2, 2), (2,)]"
      ]
     },
     "execution_count": 3,
     "metadata": {},
     "output_type": "execute_result"
    }
   ],
   "source": [
    "[w.numpy().shape for w in demo_model.layers[0].weights]"
   ]
  },
  {
   "cell_type": "code",
   "execution_count": 4,
   "id": "12229956-ede9-4b5d-adf3-99549271739a",
   "metadata": {
    "execution": {
     "iopub.execute_input": "2023-03-30T11:34:44.115098Z",
     "iopub.status.busy": "2023-03-30T11:34:44.114917Z",
     "iopub.status.idle": "2023-03-30T11:34:44.118861Z",
     "shell.execute_reply": "2023-03-30T11:34:44.118369Z",
     "shell.execute_reply.started": "2023-03-30T11:34:44.115085Z"
    },
    "tags": []
   },
   "outputs": [
    {
     "data": {
      "text/plain": [
       "[(2, 1), (1,)]"
      ]
     },
     "execution_count": 4,
     "metadata": {},
     "output_type": "execute_result"
    }
   ],
   "source": [
    "[w.numpy().shape for w in demo_model.layers[1].weights]"
   ]
  },
  {
   "cell_type": "markdown",
   "id": "201e425f-db4f-4255-af06-773cbd9240e7",
   "metadata": {},
   "source": [
    "And they are all randomly initialized right now (with the exception of biases which are initialized to zeros)."
   ]
  },
  {
   "cell_type": "code",
   "execution_count": 5,
   "id": "1d64e63c-76c1-402e-97af-5f155bce9bbd",
   "metadata": {
    "execution": {
     "iopub.execute_input": "2023-03-30T11:34:44.119437Z",
     "iopub.status.busy": "2023-03-30T11:34:44.119329Z",
     "iopub.status.idle": "2023-03-30T11:34:44.125115Z",
     "shell.execute_reply": "2023-03-30T11:34:44.124837Z",
     "shell.execute_reply.started": "2023-03-30T11:34:44.119428Z"
    },
    "tags": []
   },
   "outputs": [
    {
     "name": "stdout",
     "output_type": "stream",
     "text": [
      "w_x = array([[-1.3690753 , -0.34511125]], dtype=float32)\n",
      "w_h = array([[-0.8884481 ,  0.45897698],\n",
      "       [-0.45897698, -0.8884482 ]], dtype=float32)\n",
      "b_h = array([0., 0.], dtype=float32)\n",
      "w_y = array([[ 1.3722934 ],\n",
      "       [-0.35240567]], dtype=float32)\n",
      "b_y = array([0.], dtype=float32)\n"
     ]
    }
   ],
   "source": [
    "w_x = demo_model.get_weights()[0]\n",
    "w_h = demo_model.get_weights()[1]\n",
    "b_h = demo_model.get_weights()[2]\n",
    "w_y = demo_model.get_weights()[3]\n",
    "b_y = demo_model.get_weights()[4]\n",
    "\n",
    "print(f\"{w_x = }\\n{w_h = }\\n{b_h = }\\n{w_y = }\\n{b_y = }\")"
   ]
  },
  {
   "cell_type": "markdown",
   "id": "92cc5abb-3eee-4499-9ba0-6fb0a611df3a",
   "metadata": {},
   "source": [
    "Notice how the dimensions of our parameters are independent of the number of time steps. The same weight matrices are used in every time step within the same forward pass."
   ]
  },
  {
   "cell_type": "markdown",
   "id": "75fcc53c-e769-4059-9002-75b8d0c5fe92",
   "metadata": {},
   "source": [
    "Next, let us look at a single forward pass in this super-simple model. Recall that \"linear\" activation functions do nothing as they are the identity function $f(x) = x$."
   ]
  },
  {
   "cell_type": "code",
   "execution_count": 6,
   "id": "ebf0b01a-de45-4b53-a511-967078018745",
   "metadata": {
    "execution": {
     "iopub.execute_input": "2023-03-30T11:34:44.125715Z",
     "iopub.status.busy": "2023-03-30T11:34:44.125604Z",
     "iopub.status.idle": "2023-03-30T11:34:44.234208Z",
     "shell.execute_reply": "2023-03-30T11:34:44.233782Z",
     "shell.execute_reply.started": "2023-03-30T11:34:44.125705Z"
    },
    "tags": []
   },
   "outputs": [
    {
     "name": "stdout",
     "output_type": "stream",
     "text": [
      "1/1 [==============================] - 0s 81ms/step\n"
     ]
    },
    {
     "name": "stderr",
     "output_type": "stream",
     "text": [
      "2023-03-30 20:34:44.151133: W tensorflow/core/platform/profile_utils/cpu_utils.cc:128] Failed to get CPU frequency: 0 Hz\n"
     ]
    },
    {
     "data": {
      "text/plain": [
       "array([[-3.068111]], dtype=float32)"
      ]
     },
     "execution_count": 6,
     "metadata": {},
     "output_type": "execute_result"
    }
   ],
   "source": [
    "x = np.array([1, 2, 3])\n",
    "x_input = np.reshape(x, (1, T, 1))  # 1 sequence, T=3 time steps, 1 feature\n",
    "y_pred = demo_model.predict(x_input)\n",
    "y_pred"
   ]
  },
  {
   "cell_type": "markdown",
   "id": "491aaa14-1bfe-4bc8-a85a-7e4237173f8b",
   "metadata": {},
   "source": [
    "Now let us replicate this result using linear algebra."
   ]
  },
  {
   "cell_type": "code",
   "execution_count": 7,
   "id": "ae24f2b9-76c5-4832-8d76-9c872a0685c4",
   "metadata": {
    "execution": {
     "iopub.execute_input": "2023-03-30T11:34:44.234788Z",
     "iopub.status.busy": "2023-03-30T11:34:44.234668Z",
     "iopub.status.idle": "2023-03-30T11:34:44.238211Z",
     "shell.execute_reply": "2023-03-30T11:34:44.237846Z",
     "shell.execute_reply.started": "2023-03-30T11:34:44.234778Z"
    },
    "tags": []
   },
   "outputs": [
    {
     "data": {
      "text/plain": [
       "array([-3.06811105])"
      ]
     },
     "execution_count": 7,
     "metadata": {},
     "output_type": "execute_result"
    }
   ],
   "source": [
    "h = np.zeros((m, T + 1))\n",
    "for t in range(T):\n",
    "    h[:, t + 1] = np.dot(x[t], w_x) + np.dot(h[:, t], w_h) + b_h\n",
    "o_3 = np.dot(h[:, T], w_y) + b_y\n",
    "o_3"
   ]
  },
  {
   "cell_type": "markdown",
   "id": "629e4962-9d0e-4295-8128-0139fce98c47",
   "metadata": {},
   "source": [
    "💥 BAM! They're equal."
   ]
  },
  {
   "cell_type": "markdown",
   "id": "8a25bfe7-a44e-4c42-a539-ce3d7ed8fe00",
   "metadata": {},
   "source": [
    "## 7.2 Running the RNN on Sunspots Dataset"
   ]
  },
  {
   "cell_type": "markdown",
   "id": "ad7c8baf-42c0-4499-ac89-bd5df63dd4d9",
   "metadata": {},
   "source": [
    "Read the data and split it into training and test. The data is originally from https://raw.githubusercontent.com/jbrownlee/Datasets/master/monthly-sunspots.csv"
   ]
  },
  {
   "cell_type": "code",
   "execution_count": 32,
   "id": "35ef5436-7386-4706-853e-43d9147009ee",
   "metadata": {
    "execution": {
     "iopub.execute_input": "2023-03-30T12:57:49.513504Z",
     "iopub.status.busy": "2023-03-30T12:57:49.512778Z",
     "iopub.status.idle": "2023-03-30T12:57:49.531992Z",
     "shell.execute_reply": "2023-03-30T12:57:49.531502Z",
     "shell.execute_reply.started": "2023-03-30T12:57:49.513475Z"
    },
    "tags": []
   },
   "outputs": [],
   "source": []
  },
  {
   "cell_type": "code",
   "execution_count": null,
   "id": "b01160df-e5ad-420b-b065-eba62e860645",
   "metadata": {},
   "outputs": [],
   "source": []
  }
 ],
 "metadata": {
  "kernelspec": {
   "display_name": "Python 3 (ipykernel)",
   "language": "python",
   "name": "python3"
  },
  "language_info": {
   "codemirror_mode": {
    "name": "ipython",
    "version": 3
   },
   "file_extension": ".py",
   "mimetype": "text/x-python",
   "name": "python",
   "nbconvert_exporter": "python",
   "pygments_lexer": "ipython3",
   "version": "3.10.6"
  }
 },
 "nbformat": 4,
 "nbformat_minor": 5
}
